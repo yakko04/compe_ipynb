{
 "cells": [
  {
   "cell_type": "code",
   "execution_count": 2,
   "metadata": {},
   "outputs": [
    {
     "name": "stdout",
     "output_type": "stream",
     "text": [
      "[[0, 0, 0, 2, 2, 2], [0, 0, 1, 2, 2, 2], [0, 0, 0, 2, 2, 2], [0, 0, 0, 0, 3, 4], [0, 0, 0, 0, 0, 4], [0, 0, 0, 0, 0, 0]]\n",
      "[[0, 15750, 7875, 9375, 11875, 15125], [inf, 0, 2625, 4375, 7125, 10500], [inf, inf, 0, 750, 2500, 5375], [inf, inf, inf, 0, 1000, 3500], [inf, inf, inf, inf, 0, 5000], [inf, inf, inf, inf, inf, 0]]\n",
      "((A1(A2A3))((A4A5)A6))"
     ]
    }
   ],
   "source": [
    "#matrix chain order\n",
    "p=[30,35,15,5,10,20,25] #[A1,A2,A3,A4,A5,A6]\n",
    "n = len(p)-1\n",
    "m = [[float(\"inf\")]*n for _ in range(n)]                         #dpテーブルをinfで初期化\n",
    "s = [[0]*n for _ in range(n)]                                    #分割した値を保持するテーブル\n",
    "for i in range(n): \n",
    "    m[i][i] = 0\n",
    "for l in range(1,n):                                             #連鎖数-1 つまり差\n",
    "    for i in range(0,n-l):                                             \n",
    "        j = i+l\n",
    "        for k in range(i,j):                                    #分割する値\n",
    "            q = m[i][k] + m[k+1][j] + p[i] * p[k+1] * p[j+1]    #分割した値の左右の最適コストと新たなコストを足す\n",
    "            if q < m[i][j]:\n",
    "                m[i][j] = q\n",
    "                s[i][j] = k\n",
    "print(s)\n",
    "print(m)\n",
    "\n",
    "def print_optimal_parens(s,i,j):                             \n",
    "    if i == j:\n",
    "        print(\"A\" + str(i+1) ,end=\"\")\n",
    "        \n",
    "    else:\n",
    "        print(\"(\",end=\"\")\n",
    "        print_optimal_parens(s,i,s[i][j])\n",
    "        print_optimal_parens(s,s[i][j]+1,j)\n",
    "        print(\")\",end=\"\")\n",
    "print_optimal_parens(s,0,5)"
   ]
  },
  {
   "cell_type": "code",
   "execution_count": null,
   "metadata": {},
   "outputs": [],
   "source": []
  }
 ],
 "metadata": {
  "kernelspec": {
   "display_name": "Python 3",
   "language": "python",
   "name": "python3"
  },
  "language_info": {
   "codemirror_mode": {
    "name": "ipython",
    "version": 3
   },
   "file_extension": ".py",
   "mimetype": "text/x-python",
   "name": "python",
   "nbconvert_exporter": "python",
   "pygments_lexer": "ipython3",
   "version": "3.8.8"
  }
 },
 "nbformat": 4,
 "nbformat_minor": 4
}
