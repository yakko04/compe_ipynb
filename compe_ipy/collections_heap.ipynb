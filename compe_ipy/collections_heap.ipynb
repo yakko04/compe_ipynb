{
 "cells": [
  {
   "cell_type": "code",
   "execution_count": 6,
   "metadata": {},
   "outputs": [
    {
     "data": {
      "text/plain": [
       "4"
      ]
     },
     "execution_count": 6,
     "metadata": {},
     "output_type": "execute_result"
    }
   ],
   "source": [
    "#heapq\n",
    "from heapq import heapify,heappop,heappush\n",
    "a = [4,7,3,8,5]\n",
    "heapify(a)\n",
    "heappop(a)\n",
    "heappush(a,3)\n",
    "#マイナスつけて最大値取得処理\n",
    "push = lambda x: heappush(a,-x)\n",
    "pop lambda: -heappop(a)"
   ]
  },
  {
   "cell_type": "code",
   "execution_count": null,
   "metadata": {},
   "outputs": [],
   "source": [
    "#スタック\n",
    "from collections import deque\n",
    "s = deque([])\n",
    "s.append(1)\n",
    "s.append(2)\n",
    "print(s)\n",
    "s.pop()"
   ]
  },
  {
   "cell_type": "code",
   "execution_count": null,
   "metadata": {},
   "outputs": [],
   "source": [
    "#キュー\n",
    "from collections import deque\n",
    "q = deque([])\n",
    "q.append(1)\n",
    "q.append(2)\n",
    "print(q)\n",
    "q.popleft()"
   ]
  },
  {
   "cell_type": "code",
   "execution_count": 2,
   "metadata": {},
   "outputs": [
    {
     "name": "stdout",
     "output_type": "stream",
     "text": [
      "2 0\n",
      "[('c', 3), ('a', 2), ('b', 1)]\n"
     ]
    }
   ],
   "source": [
    "#カウンター (辞書同様に使える)\n",
    "from collections import Counter\n",
    "l = [\"a\",\"a\",\"b\",\"c\",\"c\",\"c\"]\n",
    "c = Counter(l)\n",
    "print(c[\"a\"],c[\"d\"])\n",
    "print(c.most_common()) #出現回数が多い順に並べるリスト,タプル\n"
   ]
  },
  {
   "cell_type": "code",
   "execution_count": 6,
   "metadata": {},
   "outputs": [
    {
     "name": "stdout",
     "output_type": "stream",
     "text": [
      "5\n"
     ]
    }
   ],
   "source": [
    "from collections import defaultdict\n",
    "dic = defaultdict(int)\n",
    "dic[1] += 2\n",
    "dic[2] += 5\n",
    "print(dic[2])"
   ]
  },
  {
   "cell_type": "code",
   "execution_count": null,
   "metadata": {},
   "outputs": [],
   "source": []
  }
 ],
 "metadata": {
  "kernelspec": {
   "display_name": "Python 3",
   "language": "python",
   "name": "python3"
  },
  "language_info": {
   "codemirror_mode": {
    "name": "ipython",
    "version": 3
   },
   "file_extension": ".py",
   "mimetype": "text/x-python",
   "name": "python",
   "nbconvert_exporter": "python",
   "pygments_lexer": "ipython3",
   "version": "3.7.11"
  }
 },
 "nbformat": 4,
 "nbformat_minor": 4
}
