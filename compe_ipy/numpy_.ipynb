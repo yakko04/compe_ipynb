{
 "cells": [
  {
   "cell_type": "code",
   "execution_count": 5,
   "id": "7ea04a25",
   "metadata": {},
   "outputs": [
    {
     "name": "stdout",
     "output_type": "stream",
     "text": [
      "(3,) 1 3\n",
      "(3, 3) 2 9\n"
     ]
    }
   ],
   "source": [
    "import numpy as np\n",
    "#ベクトルの定義\n",
    "a = np.array([1,2,3])\n",
    "print(a.shape,a.ndim,a.size)\n",
    "b = np.array(\n",
    "    [[1, 2, 3],\n",
    "     [4, 5, 6],\n",
    "     [7, 8, 9]]\n",
    ")\n",
    "print(b.shape,b.ndim,b.size)\n"
   ]
  },
  {
   "cell_type": "code",
   "execution_count": 1,
   "id": "125816c0",
   "metadata": {},
   "outputs": [],
   "source": [
    "import numpy as np\n",
    "a = np.zeros((3,3))\n",
    "b = np.ones((2, 3))\n",
    "c = np.full((3, 2), 9)\n",
    "d = np.eye(5)\n",
    "e = np.random.random((4, 5))\n",
    "f = np.arange(3, 10, 1)\n"
   ]
  },
  {
   "cell_type": "code",
   "execution_count": null,
   "id": "2e1879d1",
   "metadata": {},
   "outputs": [],
   "source": []
  }
 ],
 "metadata": {
  "kernelspec": {
   "display_name": "Python 3 (ipykernel)",
   "language": "python",
   "name": "python3"
  },
  "language_info": {
   "codemirror_mode": {
    "name": "ipython",
    "version": 3
   },
   "file_extension": ".py",
   "mimetype": "text/x-python",
   "name": "python",
   "nbconvert_exporter": "python",
   "pygments_lexer": "ipython3",
   "version": "3.8.8"
  }
 },
 "nbformat": 4,
 "nbformat_minor": 5
}
