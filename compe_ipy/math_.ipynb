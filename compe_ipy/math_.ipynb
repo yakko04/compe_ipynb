{
 "cells": [
  {
   "cell_type": "code",
   "execution_count": 1,
   "id": "c12bc87a",
   "metadata": {},
   "outputs": [
    {
     "name": "stdout",
     "output_type": "stream",
     "text": [
      "180.0\n",
      "3.141592653589793\n"
     ]
    }
   ],
   "source": [
    "#三角関数\n",
    "import math\n",
    "pi = math.pi\n",
    "print(math.degrees(math.pi))\n",
    "print(math.radians(180))\n",
    "sin30 = math.sin(math.radians(30))\n",
    "cos60 = math.sin(math.radians(60))\n",
    "tan90 = math.tan(math.radians(90))"
   ]
  },
  {
   "cell_type": "code",
   "execution_count": null,
   "id": "93a77ea4",
   "metadata": {},
   "outputs": [],
   "source": [
    "#キョウプロ典型18\n",
    "from math import pi,sin,cos,atan2\n",
    "t = int(input())\n",
    "l,x,y = map(int,input().split())\n",
    "q = int(input())\n",
    "\n",
    "for i in range(q):\n",
    "    e = int(input())\n",
    "    sx = 0\n",
    "    sy = (-l/2) * sin(2*pi*(e/t))\n",
    "    sz = l/2 - (l/2)*cos(2*pi*(e/t))\n",
    "    yb = ((y-sy)**2 + x**2)**0.5\n",
    "    print(atan2(sz,yb)*(180/pi))\n"
   ]
  }
 ],
 "metadata": {
  "kernelspec": {
   "display_name": "Python 3 (ipykernel)",
   "language": "python",
   "name": "python3"
  },
  "language_info": {
   "codemirror_mode": {
    "name": "ipython",
    "version": 3
   },
   "file_extension": ".py",
   "mimetype": "text/x-python",
   "name": "python",
   "nbconvert_exporter": "python",
   "pygments_lexer": "ipython3",
   "version": "3.8.8"
  }
 },
 "nbformat": 4,
 "nbformat_minor": 5
}
