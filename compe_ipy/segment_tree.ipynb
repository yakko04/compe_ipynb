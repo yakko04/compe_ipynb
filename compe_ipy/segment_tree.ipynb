{
 "cells": [
  {
   "cell_type": "code",
   "execution_count": 17,
   "id": "0ab2debd-ccd0-446e-95bc-f1e728d17147",
   "metadata": {},
   "outputs": [
    {
     "name": "stdout",
     "output_type": "stream",
     "text": [
      "[3, inf, 3, inf, inf, inf, 3, inf, inf, inf, inf, inf, inf, inf, 3]\n"
     ]
    },
    {
     "data": {
      "text/plain": [
       "3"
      ]
     },
     "execution_count": 17,
     "metadata": {},
     "output_type": "execute_result"
    }
   ],
   "source": [
    "#segment tree(prototype)\n",
    "#range minimum query ver\n",
    "#recursive\n",
    "#デフォルトの値を適宜変えて\n",
    "###0based index\n",
    "class segment_tree():\n",
    "    def __init__(self,size):\n",
    "        self.size = 2**(size-1).bit_length() #完全二分木にするためsizeを2冪にする\n",
    "        self.iden = float(\"inf\") #identity_element これで初期化する\n",
    "        self.dat = [self.iden]*(self.size*2-1) #(2n-1)のleaf\n",
    "        \n",
    "    def update(self,ind,x): #更新する場所,更新する値\n",
    "        #子から順に上っていく。\n",
    "        ind += self.size - 1 #ind番目の要素は(0から始まる)\n",
    "        self.dat[ind] = x\n",
    "        while ind > 0:\n",
    "            ind = (ind-1) >> 1 #(//2) #親のindex\n",
    "            self.dat[ind] = min(self.dat[ind*2+1],self.dat[ind*2+2])\n",
    "    \n",
    "    def query(self,q_le,q_ri,cur=0,LEFT=0,RIGHT=None):  #[q_le,q_ri)　区間内での目的の値を取得\n",
    "        #親から順に(root)下っていく\n",
    "        if RIGHT is None:          #initializing\n",
    "            RIGHT = self.size\n",
    "        if RIGHT <= q_le or q_ri <= LEFT: #範囲外の場合\n",
    "            return self.iden\n",
    "        elif q_le <= LEFT and RIGHT <= q_ri: #範囲内の場合\n",
    "            return self.dat[cur]\n",
    "        else:   #一部区間の場合\n",
    "            lres = self.query(q_le,q_ri,cur*2+1, LEFT, (LEFT+RIGHT)//2)\n",
    "            rres = self.query(q_le,q_ri,cur*2+2, (LEFT+RIGHT)//2,RIGHT)\n",
    "            return min(lres,rres)\n",
    "a = segment_tree(8)\n",
    "\n",
    "a.update(7,3)\n",
    "print(a.dat)\n",
    "a.query(7,8)"
   ]
  },
  {
   "cell_type": "code",
   "execution_count": 2,
   "id": "eea47dca-aee7-407d-bab6-6034fc91201e",
   "metadata": {},
   "outputs": [],
   "source": [
    "#standard segment tree\n",
    "#1based index\n",
    "#not recursive\n",
    "#[l,r)\n",
    "\n",
    "def segfunc(x,y):   #operator\n",
    "    return min(x,y) #change this function such as x+y, max(x,y)\n",
    "\n",
    "class SegTree:\n",
    "    def __init__(self,ini_lis,segfunc,ide):  #initial_list, operator, identity_elements\n",
    "        n = len(ini_lis)                  #要素の数\n",
    "        self.segfunc = segfunc            #演算子\n",
    "        self.ide = ide                    #単位元\n",
    "        self.num = 2**((n-1).bit_length)  #leafの数(完全二分木にする)\n",
    "        self.tree = [ide] * 2 * self.num  #1-indexにするため *2([0]を無視)\n",
    "\n",
    "        for i in range(n):\n",
    "            self.tree[i] = ini_lis[i]\n",
    "        for i in range(self.num - 1, 0, -1): #leafじゃないnode数はleaf-1\n",
    "            self.tree[i] = self.segfunc(self.tree[2*i], self.tree[2*i + 1])\n",
    "\n",
    "    def add(self,k,x):  #k番目の要素ににxをaddition\n",
    "        k += self.num   #k番目の要素はtree上ではk+num\n",
    "        self.tree[k] += x\n",
    "        while k > 1:\n",
    "            self.tree[k>>1] = self.segfunc(self.tree[k],self.tree[k^1])\n",
    "            k >>= 1\n",
    "    \n",
    "    def update(self,k,x): #k番目の要素をxにrepalce\n",
    "        k += self.num\n",
    "        self.tree[k] = x\n",
    "        while k > 1:\n",
    "            self.tree[k>>1] = self.segfunc(self.tree[k],self.tree[k^1])\n",
    "            k >>= 1\n",
    "    \n",
    "    def query(self,l,r): #[l,r)区間のquery bottom up, not recursive\n",
    "        res = self.ide\n",
    "        l += self.num\n",
    "        r += self.num\n",
    "        while l < r:\n",
    "            if l & 1:   #二分に分かれたのnodeのうち右側の時，そのノードの値を拾う必要がある．\n",
    "                res = self.segfunc(res,self.tree[l])\n",
    "                l += 1\n",
    "            if r & 1:   #区間は,r)なので，実質的にrが二分に分かれたnodeのうち左側の時，同様\n",
    "                res = self.segfunc(res,self.tree[r-1])\n",
    "            l >>= 1     #親へ移動\n",
    "            r >>= 1\n",
    "        return res\n",
    "\n",
    "        a = SegTree([1,2,3,4],segfunc,0)\n",
    "        a."
   ]
  },
  {
   "cell_type": "code",
   "execution_count": 6,
   "id": "be7bb349",
   "metadata": {},
   "outputs": [
    {
     "data": {
      "text/plain": [
       "2"
      ]
     },
     "execution_count": 6,
     "metadata": {},
     "output_type": "execute_result"
    }
   ],
   "source": []
  },
  {
   "cell_type": "code",
   "execution_count": null,
   "id": "bf007e18",
   "metadata": {},
   "outputs": [],
   "source": []
  }
 ],
 "metadata": {
  "interpreter": {
   "hash": "21e24828f9b54573a77423cba9518e5fe3e09a597a65fdf349ae9af384b07276"
  },
  "kernelspec": {
   "display_name": "Python 3.8.8 ('base')",
   "language": "python",
   "name": "python3"
  },
  "language_info": {
   "codemirror_mode": {
    "name": "ipython",
    "version": 3
   },
   "file_extension": ".py",
   "mimetype": "text/x-python",
   "name": "python",
   "nbconvert_exporter": "python",
   "pygments_lexer": "ipython3",
   "version": "3.8.8"
  }
 },
 "nbformat": 4,
 "nbformat_minor": 5
}
