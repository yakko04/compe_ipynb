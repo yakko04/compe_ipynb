{
 "cells": [
  {
   "cell_type": "code",
   "execution_count": 2,
   "metadata": {},
   "outputs": [
    {
     "name": "stdout",
     "output_type": "stream",
     "text": [
      "[6, 2, 7, 4, 5, 3, 1]\n"
     ]
    }
   ],
   "source": [
    "#num of vertex = n, num of edge = m\n",
    "#direction is a to b\n",
    "#all node is connected on a tree\n",
    "from collections import deque\n",
    "n,m = map(int,input().split())\n",
    "lis = [[] for _ in range(m)]\n",
    "for _ in range(m):\n",
    "    a,b = map(int,input().split())\n",
    "    lis[a].append(b)\n",
    "\n",
    "chk = [0] * (n+1)\n",
    "topo = []\n",
    "\n",
    "def dfs(n):\n",
    "    chk[n] = 1\n",
    "    for nx in lis[n]:\n",
    "        if chk[nx] == 0:\n",
    "            dfs(nx)\n",
    "    topo.append(n)\n",
    "\n",
    "dfs(1)\n",
    "print(topo)\n",
    "    \n"
   ]
  }
 ],
 "metadata": {
  "interpreter": {
   "hash": "21e24828f9b54573a77423cba9518e5fe3e09a597a65fdf349ae9af384b07276"
  },
  "kernelspec": {
   "display_name": "Python 3.8.8 ('base')",
   "language": "python",
   "name": "python3"
  },
  "language_info": {
   "codemirror_mode": {
    "name": "ipython",
    "version": 3
   },
   "file_extension": ".py",
   "mimetype": "text/x-python",
   "name": "python",
   "nbconvert_exporter": "python",
   "pygments_lexer": "ipython3",
   "version": "3.8.8"
  },
  "orig_nbformat": 4
 },
 "nbformat": 4,
 "nbformat_minor": 2
}
