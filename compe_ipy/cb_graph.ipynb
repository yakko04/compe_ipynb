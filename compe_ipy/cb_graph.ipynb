{
 "cells": [
  {
   "cell_type": "code",
   "execution_count": 25,
   "id": "def31488",
   "metadata": {},
   "outputs": [
    {
     "name": "stdout",
     "output_type": "stream",
     "text": [
      " 4 6 1\n",
      " 0 1 1\n",
      " 0 2 4\n",
      " 2 0 1\n",
      " 1 2 2\n",
      " 3 1 1\n",
      " 3 2 5\n"
     ]
    },
    {
     "name": "stdout",
     "output_type": "stream",
     "text": [
      "3\n",
      "0\n",
      "2\n",
      "INF\n"
     ]
    }
   ],
   "source": [
    "#dijkstra\n",
    "from heapq import heappop,heappush,heapify\n",
    "def dij(s,n):                    #start node, num of nodes\n",
    "    dis_l = [float(\"inf\")] * n   \n",
    "    dis_l[s] = 0\n",
    "    chk = [0] * n                \n",
    "    hq = [(0,s)]   #dis,node\n",
    "    \n",
    "    while hq:\n",
    "        dis,node = heappop(hq)   \n",
    "        chk[node] = 1           #node is determined\n",
    "        for node2,cost in adj[node]:\n",
    "            if chk[node2] == 0 and dis+cost < dis_l[node2]:\n",
    "                dis_l[node2] = dis + cost\n",
    "                heappush(hq, (dis_l[node2],node2))\n",
    "    return dis_l\n",
    "\n",
    "nv,ne,bgn = map(int,input().split()) #num of node, num of edge, start node \n",
    "adj = [[] for _ in range(nv)]        \n",
    "\n",
    "for _ in range(ne):\n",
    "    n1,n2,cst = map(int,input().split())  #node1, node2, cost\n",
    "    adj[n1].append((n2,cst))\n",
    "    #adj[n2].append((n1,cst))\n",
    "d = dij(bgn,nv)\n",
    "print(d)"
   ]
  },
  {
   "cell_type": "code",
   "execution_count": null,
   "id": "5038ff57-3c64-4de8-b6d1-91628073b946",
   "metadata": {},
   "outputs": [],
   "source": [
    "#dijkstra 競プロ典型13\n",
    "#スタートnodeから全点の最短距離が入ったリストを作る\n",
    "#1,start pointを確定済にする。\n",
    "#2,全ての確定済nodeから隣り合うnodeに対し、startからの仮最短距離を出す。\n",
    "#3,2の確定されてないnodeのうち仮最短距離が短いものを確定済みとする。\n",
    "#adjacent_lは隣接リスト\n",
    "from heapq import heappop, heappush, heapify\n",
    "def dijkstra(start,nodes):\n",
    "    cost_list = [float(\"Inf\")] * nodes  #each nodes of min cost \n",
    "    cost_list[start] = 0  #cost of start point is 0\n",
    "    \n",
    "    check = [0] * nodes #determined cost of each nodes\n",
    "    #キューにはnodeとそのノードまで仮最短距離のタプルが入る。\n",
    "    #現在到達済みつまり(キューに入ったノード)の中で最も距離が短いものがpopされ確定済nodeになる。\n",
    "    hq = [(0,start)] #(cost,node)\n",
    "    \n",
    "    while hq:\n",
    "        determined_cost,node = heappop(hq) #popされたときにそのノードの最短距離は確定される。\n",
    "        check[node] = 1   #node is determined\n",
    "        \n",
    "        for next_node,edge_weight in adjacent_l[node]: #loop on all adjacent node\n",
    "            #そのノードが確定済みじゃないand自ノードの仮コストよりも小さいなら確定させる。\n",
    "            if check[next_node] == 0 and determined_cost + edge_weight < cost_list[next_node]:\n",
    "                cost_list[next_node] = determined_cost + edge_weight\n",
    "                heappush(hq, (cost_list[next_node],next_node) )\n",
    "                \n",
    "    return cost_list\n",
    "\n",
    "n,m = map(int,input().split())\n",
    "adjacent_l = [[] for _ in range(n)]\n",
    "for _ in range(m):\n",
    "    a,b,c = map(int,input().split())\n",
    "    adjacent_l[a-1].append((b-1,c))\n",
    "    adjacent_l[b-1].append((a-1,c))\n",
    "lf = dijkstra(0,n)\n",
    "ri = dijkstra(n-1,n)\n",
    "\n",
    "for i,j in zip(lf,ri):\n",
    "    print(i+j)"
   ]
  },
  {
   "cell_type": "code",
   "execution_count": 42,
   "id": "2978ebfc",
   "metadata": {},
   "outputs": [
    {
     "name": "stdout",
     "output_type": "stream",
     "text": [
      " 4 6\n",
      " 0 1 1\n",
      " 0 2 5\n",
      " 1 2 2\n",
      " 1 3 4\n",
      " 2 3 1\n",
      " 3 2 7\n"
     ]
    },
    {
     "name": "stdout",
     "output_type": "stream",
     "text": [
      "[[0, 1, 3, 4], [inf, 0, 2, 3], [inf, inf, 0, 1], [inf, inf, 7, 0]]\n"
     ]
    }
   ],
   "source": [
    "#warshall-floyd(directed)\n",
    "#vertex kを通るときの最小経路i2jを見ていく dpで\n",
    "def war_f(d,n):\n",
    "    for k in range(n):        \n",
    "        for i in range(n):\n",
    "            for j in range(n):\n",
    "                d[i][j] = min(d[i][j],d[i][k]+d[k][j])\n",
    "    return d\n",
    "\n",
    "nv,ne = map(int,input().split())\n",
    "lis = [[float(\"inf\")]*nv for _ in range(nv)]\n",
    "\n",
    "for i in range(nv):\n",
    "    lis[i][i] = 0\n",
    "for _ in range(ne):\n",
    "    n1,n2,cst = map(int,input().split())\n",
    "    lis[n1][n2] = cst\n",
    "    #lis[n2][n1] = cst\n",
    "print(war_f(lis,nv))"
   ]
  },
  {
   "cell_type": "code",
   "execution_count": 44,
   "id": "f94806fe",
   "metadata": {},
   "outputs": [
    {
     "name": "stdout",
     "output_type": "stream",
     "text": [
      " 6 9\n",
      " 0 1 1\n",
      " 0 2 3\n",
      " 1 2 1\n",
      " 1 3 7\n",
      " 2 4 1\n",
      " 1 4 3\n",
      " 3 4 1\n",
      " 3 5 1\n",
      " 4 5 6\n"
     ]
    },
    {
     "name": "stdout",
     "output_type": "stream",
     "text": [
      "5\n"
     ]
    }
   ],
   "source": [
    "#prim\n",
    "from heapq import heapify,heappop,heappush\n",
    "def prim(s,n):     #start node, num of nodes\n",
    "    ans = 0\n",
    "    chk = [0] * n\n",
    "    chk[0] = 1\n",
    "    hq = [(w_0,node_0) for node_0,w_0 in adj[0]]\n",
    "    heapify(hq)\n",
    "    \n",
    "    while hq:\n",
    "        w, node = heappop(hq)\n",
    "        if chk[node]:\n",
    "            continue\n",
    "        chk[node] = 1\n",
    "        ans += w\n",
    "        for node2,cost in adj[node]:\n",
    "            if chk[node2]:\n",
    "                continue\n",
    "            heappush(hq,(cost,node2))\n",
    "    return ans\n",
    "\n",
    "nv,ne = map(int,input().split())\n",
    "adj = [[] for _ in range(nv)]\n",
    "for _ in range(ne):\n",
    "    n1,n2,cst = map(int,input().split())\n",
    "    adj[n1].append((n2,cst))\n",
    "    adj[n2].append((n1,cst))\n",
    "print(prim(0,nv))"
   ]
  },
  {
   "cell_type": "code",
   "execution_count": 1,
   "id": "4c29c9c3",
   "metadata": {},
   "outputs": [
    {
     "name": "stdout",
     "output_type": "stream",
     "text": [
      " 6 9\n",
      " 0 1 1\n",
      " 0 2 3\n",
      " 1 2 1\n",
      " 1 3 7\n",
      " 2 4 1\n",
      " 1 4 3\n",
      " 3 4 1\n",
      " 3 5 1\n",
      " 4 5 6\n"
     ]
    },
    {
     "name": "stdout",
     "output_type": "stream",
     "text": [
      "5\n"
     ]
    }
   ],
   "source": [
    "#kruskal unionfind\n",
    "class UnionFind(object):\n",
    "    def __init__(self, n=1):\n",
    "        self.par = [i for i in range(n)]\n",
    "        self.rank = [0 for _ in range(n)]\n",
    "\n",
    "    def find(self, x):\n",
    "        if self.par[x] == x:\n",
    "            return x\n",
    "        else:\n",
    "            self.par[x] = self.find(self.par[x])\n",
    "            return self.par[x]\n",
    "\n",
    "    def union(self, x, y):\n",
    "        x = self.find(x)\n",
    "        y = self.find(y)\n",
    "        if x != y:\n",
    "            if self.rank[x] < self.rank[y]:\n",
    "                x, y = y, x\n",
    "            if self.rank[x] == self.rank[y]:\n",
    "                self.rank[x] += 1\n",
    "            self.par[y] = x\n",
    "\n",
    "    def is_same(self, x, y):\n",
    "        return self.find(x) == self.find(y)\n",
    "    \n",
    "#kruskal\n",
    "def krus(e_lis,uf):               #list of edges, unionfind\n",
    "    cost = 0                     \n",
    "    for edge in e_lis:            #コストが小さい順に取り出される\n",
    "        w,v1,v2 = edge\n",
    "        if not uf.is_same(v1,v2): #木構造が崩れないか確認\n",
    "            cost += w\n",
    "            uf.union(v1,v2)\n",
    "    return cost\n",
    "    \n",
    "nv,ne = map(int,input().split())\n",
    "uf1 = UnionFind(nv)                #build up unionfind\n",
    "\n",
    "edges = []                         \n",
    "for _ in range(ne):\n",
    "    n1,n2,cst = map(int,input().split())\n",
    "    edges.append((cst,n1,n2))\n",
    "edges.sort()\n",
    "\n",
    "print(krus(edges,uf1))"
   ]
  },
  {
   "cell_type": "code",
   "execution_count": null,
   "id": "f495ab01",
   "metadata": {},
   "outputs": [],
   "source": [
    "#競プロ典型021 強連結成分分解scc\n",
    "#dfsを二回行う,1回目はトポ順を出す,2回目はsccを見つける\n",
    "#１回目はシンプルにdfsして帰り順を保持\n",
    "#2回目はすべての有向辺を逆にして、帰り順の遅いノードからdfs\n",
    "#2回目で1回のdfsで行けたノードまでがscc\n",
    "import sys\n",
    "sys.setrecursionlimit(10**7)\n",
    "\n",
    "n,m = map(int,input().split())\n",
    "fw = [[] for _ in range(n)] #正順\n",
    "bw = [[] for _ in range(n)] #逆順\n",
    "\n",
    "post = [] #node番号を入れる２回目の時に逆順で出す\n",
    "chk1 = [0]*n  #1回目dfsで到達したかのflag\n",
    "chk2 = [0]*n  #2回目dfsで到達したかのflag\n",
    "\n",
    "for _ in range(m):\n",
    "    a,b = map(int,input().split())\n",
    "    fw[a-1].append(b-1)\n",
    "    bw[b-1].append(a-1)\n",
    "    \n",
    "#1と2のdfsをまとめているが1回目ではcntは使わない\n",
    "#xは出発ノード,l_wardは隣接リスト,chkは既に通ったかを保持するflag_list,cntは一つのsccのnumofnode\n",
    "def dfs(x,l_ward,chk,cnt):\n",
    "    chk[x] = 1    #通ったのでflag=1\n",
    "    cnt += 1      #numofnode + 1\n",
    "    #currentnodeから行けるとこすべて探索,行ってるならignore,else:そこからdfs帰ってきたcntをcntに入れる(最深部まで行ったcnt)\n",
    "    for w in l_ward[x]:\n",
    "        if chk[w]:\n",
    "            continue\n",
    "        else:\n",
    "            cnt = dfs(w,l_ward,chk,cnt)\n",
    "    post.append(x)     #xから行けるnodeすべて探索し終わったらpostにそのノードを入れる(帰り順になる)\n",
    "    return cnt\n",
    "\n",
    "ans = 0\n",
    "\n",
    "for i in range(n):\n",
    "    if chk1[i] == 0:\n",
    "        dfs(i,fw,chk1,0)\n",
    "        \n",
    "for j in post[::-1]:\n",
    "    if chk2[j] == 0:\n",
    "        num_comp = dfs(j,bw,chk2,0)\n",
    "        ans += num_comp*(num_comp-1) / 2\n",
    "        \n",
    "print(ans)"
   ]
  },
  {
   "cell_type": "code",
   "execution_count": null,
   "id": "9b2590b0",
   "metadata": {},
   "outputs": [],
   "source": [
    "#abc 353 e\n",
    "#trie木\n",
    "n = int(input())\n",
    "s = input().split()\n",
    "\n",
    "ans = 0\n",
    "trie = {}\n",
    "\n",
    "for mojiretsu in s:\n",
    "    node = trie\n",
    "    for moji in mojiretsu:\n",
    "        if moji in node:\n",
    "            ans += node[moji][0]\n",
    "            node[moji][0] += 1\n",
    "        else:\n",
    "            node[moji] = [1,{}]\n",
    "        node = node[moji][1]\n",
    "print(ans)\n",
    "    \n"
   ]
  }
 ],
 "metadata": {
  "kernelspec": {
   "display_name": "Python 3 (ipykernel)",
   "language": "python",
   "name": "python3"
  },
  "language_info": {
   "codemirror_mode": {
    "name": "ipython",
    "version": 3
   },
   "file_extension": ".py",
   "mimetype": "text/x-python",
   "name": "python",
   "nbconvert_exporter": "python",
   "pygments_lexer": "ipython3",
   "version": "3.8.8"
  }
 },
 "nbformat": 4,
 "nbformat_minor": 5
}
