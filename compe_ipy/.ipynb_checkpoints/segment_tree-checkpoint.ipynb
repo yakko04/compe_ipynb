{
 "cells": [
  {
   "cell_type": "code",
   "execution_count": 17,
   "id": "0ab2debd-ccd0-446e-95bc-f1e728d17147",
   "metadata": {},
   "outputs": [
    {
     "name": "stdout",
     "output_type": "stream",
     "text": [
      "[3, inf, 3, inf, inf, inf, 3, inf, inf, inf, inf, inf, inf, inf, 3]\n"
     ]
    },
    {
     "data": {
      "text/plain": [
       "3"
      ]
     },
     "execution_count": 17,
     "metadata": {},
     "output_type": "execute_result"
    }
   ],
   "source": [
    "#segment tree(simple)\n",
    "#range minimum query ver\n",
    "#デフォルトの値を適宜変えて\n",
    "###0based index\n",
    "class segment_tree():\n",
    "    def __init__(self,size):\n",
    "        self.size = 2**(size-1).bit_length() #完全二分木にするためsizeを2冪にする\n",
    "        self.iden = float(\"inf\") #identity_element これで初期化する\n",
    "        self.dat = [self.iden]*(self.size*2-1) #(2n-1)のleaf\n",
    "        \n",
    "    def update(self,ind,x): #更新する場所,更新する値\n",
    "        #子から順に上っていく。\n",
    "        ind += self.size - 1 #ind番目の要素は(0から始まる)\n",
    "        self.dat[ind] = x\n",
    "        while ind > 0:\n",
    "            ind = (ind-1) >> 1 #(//2) #親のindex\n",
    "            self.dat[ind] = min(self.dat[ind*2+1],self.dat[ind*2+2])\n",
    "    \n",
    "    def query(self,q_le,q_ri,cur=0,LEFT=0,RIGHT=None):  #[q_le,q_ri)\n",
    "        #親から順に(root)下っていく\n",
    "        if RIGHT is None:\n",
    "            RIGHT = self.size\n",
    "        if RIGHT <= q_le or q_ri <= LEFT: #範囲外の場合\n",
    "            return self.iden\n",
    "        elif q_le <= LEFT and RIGHT <= q_ri: #範囲内の場合\n",
    "            return self.dat[cur]\n",
    "        else:   #一部区間の場合\n",
    "            lres = self.query(q_le,q_ri,cur*2+1, LEFT, (LEFT+RIGHT)//2)\n",
    "            rres = self.query(q_le,q_ri,cur*2+2, (LEFT+RIGHT)//2,RIGHT)\n",
    "            return min(lres,rres)\n",
    "a = segment_tree(8)\n",
    "\n",
    "a.update(7,3)\n",
    "print(a.dat)\n",
    "a.query(7,8)"
   ]
  },
  {
   "cell_type": "code",
   "execution_count": null,
   "id": "eea47dca-aee7-407d-bab6-6034fc91201e",
   "metadata": {},
   "outputs": [],
   "source": []
  }
 ],
 "metadata": {
  "kernelspec": {
   "display_name": "Python 3 (ipykernel)",
   "language": "python",
   "name": "python3"
  },
  "language_info": {
   "codemirror_mode": {
    "name": "ipython",
    "version": 3
   },
   "file_extension": ".py",
   "mimetype": "text/x-python",
   "name": "python",
   "nbconvert_exporter": "python",
   "pygments_lexer": "ipython3",
   "version": "3.8.8"
  }
 },
 "nbformat": 4,
 "nbformat_minor": 5
}
