{
 "cells": [
  {
   "cell_type": "code",
   "execution_count": 15,
   "id": "2b1bea18-cf77-4e58-98b3-b94d8683189a",
   "metadata": {},
   "outputs": [
    {
     "name": "stdout",
     "output_type": "stream",
     "text": [
      "[1, 2, 8, 5, 4, 9, 10, 7]\n",
      "[1, 2, 8, 3, 4, 9, 10, 7, 5]\n",
      "[2, 3, 8, 5, 4, 9, 10, 7]\n",
      "---------------------------------------------------------\n",
      "[2, 3, 8, 5, 4, 9, 10, 7]\n",
      "[1, 3, 8, 5, 4, 9, 10, 7]\n"
     ]
    }
   ],
   "source": [
    "#How to make a heapq\n",
    "import heapq\n",
    "\n",
    "a = [7,5,9,2,4,8,10,1]\n",
    "\n",
    "heapq.heapify(a) # create heapq\n",
    "print(a)\n",
    "\n",
    "heapq.heappush(a,3) #push obj into heapq\n",
    "print(a)\n",
    "\n",
    "heapq.heappop(a) # pop min(obj) from heapq\n",
    "print(a)\n",
    "print(\"---------------------------------------------------------\")\n",
    "heapq.heappushpop(a,1) # push -> pop\n",
    "#1 is pushed and 1 is poped\n",
    "print(a)\n",
    "\n",
    "heapq.heapreplace(a,1) # pop -> push\n",
    "#2 is poped and 1 is pushed\n",
    "print(a)"
   ]
  },
  {
   "cell_type": "code",
   "execution_count": 16,
   "id": "6dca48c8-403b-4191-9906-48112be5bd10",
   "metadata": {},
   "outputs": [
    {
     "name": "stdout",
     "output_type": "stream",
     "text": [
      "[-7, -5, -6, -2, -1, -3, -4]\n"
     ]
    }
   ],
   "source": [
    "#how to pop maximum number\n",
    "#multiply -1 and reversed sign.\n",
    "import heapq\n",
    "a = [3,5,4,2,1,6,7]\n",
    "a = [-1*i for i in a]\n",
    "heapq.heapify(a)\n",
    "print(a)"
   ]
  },
  {
   "cell_type": "code",
   "execution_count": null,
   "id": "643ddac6-f833-42a5-8113-d5a2aadca92a",
   "metadata": {},
   "outputs": [],
   "source": []
  }
 ],
 "metadata": {
  "kernelspec": {
   "display_name": "Python 3 (ipykernel)",
   "language": "python",
   "name": "python3"
  },
  "language_info": {
   "codemirror_mode": {
    "name": "ipython",
    "version": 3
   },
   "file_extension": ".py",
   "mimetype": "text/x-python",
   "name": "python",
   "nbconvert_exporter": "python",
   "pygments_lexer": "ipython3",
   "version": "3.8.8"
  }
 },
 "nbformat": 4,
 "nbformat_minor": 5
}
