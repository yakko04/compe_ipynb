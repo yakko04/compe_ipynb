{
 "cells": [
  {
   "cell_type": "code",
   "execution_count": 3,
   "id": "715d88ec",
   "metadata": {},
   "outputs": [
    {
     "name": "stdin",
     "output_type": "stream",
     "text": [
      " 2\n",
      " 1 1 3 4\n",
      " 3 4 6 5\n"
     ]
    },
    {
     "name": "stdout",
     "output_type": "stream",
     "text": [
      "20\n",
      "0\n"
     ]
    }
   ],
   "source": []
  },
  {
   "cell_type": "code",
   "execution_count": 79,
   "id": "f4e0ec5a",
   "metadata": {},
   "outputs": [
    {
     "name": "stdin",
     "output_type": "stream",
     "text": [
      " 2 3\n",
      " 2\n",
      " 1 2\n"
     ]
    },
    {
     "name": "stdout",
     "output_type": "stream",
     "text": [
      "1\n"
     ]
    }
   ],
   "source": [
    "n,l = map(int,input().split())\n",
    "k = int(input())\n",
    "a = list(map(int,input().split()))\n",
    "\n",
    "lf = 0\n",
    "ri = l\n",
    "ans = 0\n",
    "\n",
    "while ri - lf > 1:\n",
    "    mid = (lf+ri)//2\n",
    "    \n",
    "    x = 0\n",
    "    cut = 0\n",
    "    pre = 0\n",
    "    for i in range(n):\n",
    "        if x + a[i] - pre >= mid:\n",
    "            cut += 1\n",
    "            x = 0\n",
    "            pre = a[i]\n",
    "        else:\n",
    "            x += a[i] - pre\n",
    "            pre = a[i]\n",
    "            \n",
    "    if x + l - pre < mid:\n",
    "        cut -= 1\n",
    "    \n",
    "    if cut >= k:\n",
    "        ans = mid\n",
    "        lf = mid\n",
    "    else:\n",
    "        \n",
    "        ri = mid\n",
    "print(ans)"
   ]
  },
  {
   "cell_type": "code",
   "execution_count": 49,
   "id": "b12e1b40",
   "metadata": {},
   "outputs": [
    {
     "name": "stdout",
     "output_type": "stream",
     "text": [
      "-2.4492935982947064e-16\n"
     ]
    }
   ],
   "source": [
    "from math import pi,sin,cos,atan2\n",
    "print(sin(2*pi))"
   ]
  },
  {
   "cell_type": "code",
   "execution_count": 25,
   "id": "7c847eb3",
   "metadata": {},
   "outputs": [
    {
     "name": "stdout",
     "output_type": "stream",
     "text": [
      "0.7000000000000001\n",
      "[[-0.70710678]\n",
      " [ 0.70710678]]\n",
      "1.0\n",
      "[[-0.4472136 ]\n",
      " [-0.89442719]]\n",
      "[[-0.94280904  0.47140452]\n",
      " [-0.74535599 -0.74535599]]\n",
      "[[0.7 0. ]\n",
      " [0.  1. ]]\n"
     ]
    }
   ],
   "source": [
    "import numpy as np\n",
    "np.set_printoptions(suppress=True)\n",
    "\n",
    "a = np.array([[4/5,1/10],\n",
    "             [1/5,9/10]])\n",
    "b = np.array([300000,300000])\n",
    "\n",
    "w,v = np.linalg.eig(a)\n",
    "\n",
    "for i in range(w.size):\n",
    "    eigenva = w[i]\n",
    "    \n",
    "    eigenve = v.T[i].reshape(-1,1)\n",
    "    \n",
    "    print(eigenva)\n",
    "    print(eigenve)\n",
    "    \n",
    "vi = np.linalg.inv(v)\n",
    "\n",
    "print(np.matmul(vi, np.matmul(a, v)))"
   ]
  },
  {
   "cell_type": "code",
   "execution_count": 44,
   "id": "a92691e6",
   "metadata": {},
   "outputs": [
    {
     "name": "stdout",
     "output_type": "stream",
     "text": [
      "[0.5 1. ]\n",
      "[[0.5 0. ]\n",
      " [0.  1. ]]\n"
     ]
    }
   ],
   "source": [
    "import numpy as np\n",
    "a = np.array([[2/3,1/6],\n",
    "             [1/3,5/6]])\n",
    "\n",
    "vec,p = np.linalg.eig(a)\n",
    "print(vec)\n",
    "pi = np.linalg.inv(p)\n",
    "\n",
    "tai = np.matmul(np.matmul(pi,a),p)\n",
    "print(tai)"
   ]
  },
  {
   "cell_type": "code",
   "execution_count": 38,
   "id": "7b9cd3b6",
   "metadata": {},
   "outputs": [
    {
     "name": "stdout",
     "output_type": "stream",
     "text": [
      "[0.66666667 1.33333333]\n"
     ]
    }
   ],
   "source": [
    "import numpy as np\n",
    "\n",
    "s = np.array([[2/3,1/6],\n",
    "             [1/3,5/6]])\n",
    "\n",
    "p = np.array([1,1])\n",
    "\n",
    "for i in range(1000):\n",
    "    p = np.matmul(s,p)\n",
    "\n",
    "print(p)"
   ]
  },
  {
   "cell_type": "code",
   "execution_count": 36,
   "id": "00501614",
   "metadata": {},
   "outputs": [
    {
     "data": {
      "text/plain": [
       "0.6669921875"
      ]
     },
     "execution_count": 36,
     "metadata": {},
     "output_type": "execute_result"
    }
   ],
   "source": []
  },
  {
   "cell_type": "code",
   "execution_count": 9,
   "id": "8bdbdd15",
   "metadata": {},
   "outputs": [
    {
     "data": {
      "text/plain": [
       "65"
      ]
     },
     "execution_count": 9,
     "metadata": {},
     "output_type": "execute_result"
    }
   ],
   "source": [
    "ord(\"A\")"
   ]
  },
  {
   "cell_type": "code",
   "execution_count": 47,
   "id": "ed87a679",
   "metadata": {},
   "outputs": [
    {
     "name": "stdin",
     "output_type": "stream",
     "text": [
      " 3\n",
      " 1 5 2\n"
     ]
    },
    {
     "name": "stdout",
     "output_type": "stream",
     "text": [
      "6\n",
      "[[8, 8, 8, 8, 8, 8, 8, 8, 8], [8, 7, 7, 7, 7, 7, 7, 7, 7], [8, 7, 7, 7, 7, 3, 2, 2, 2], [8, 7, 6, 5, 5, 3, 2, 1, 0]]\n"
     ]
    }
   ],
   "source": [
    "n,m = map(int,input().split())\n",
    "lis = [[] for _ in range(n)]"
   ]
  },
  {
   "cell_type": "code",
   "execution_count": 36,
   "id": "28f185ae",
   "metadata": {},
   "outputs": [
    {
     "name": "stdin",
     "output_type": "stream",
     "text": [
      " 9\n",
      " 3 14 15 9 26 5 35 89 79\n"
     ]
    },
    {
     "name": "stdout",
     "output_type": "stream",
     "text": [
      "168\n"
     ]
    }
   ],
   "source": [
    "n = int(input())\n",
    "t = list(map(int,input().split()))\n",
    "su = sum(t)\n",
    "\n",
    "\n",
    "\n"
   ]
  },
  {
   "cell_type": "code",
   "execution_count": 19,
   "id": "550d3651",
   "metadata": {},
   "outputs": [
    {
     "name": "stdout",
     "output_type": "stream",
     "text": [
      "7\n"
     ]
    }
   ],
   "source": []
  },
  {
   "cell_type": "code",
   "execution_count": null,
   "id": "8e012a68",
   "metadata": {},
   "outputs": [],
   "source": [
    "a = 0.34562\n",
    "b = 12.45631\n"
   ]
  }
 ],
 "metadata": {
  "kernelspec": {
   "display_name": "Python 3",
   "language": "python",
   "name": "python3"
  },
  "language_info": {
   "codemirror_mode": {
    "name": "ipython",
    "version": 3
   },
   "file_extension": ".py",
   "mimetype": "text/x-python",
   "name": "python",
   "nbconvert_exporter": "python",
   "pygments_lexer": "ipython3",
   "version": "3.8.8"
  }
 },
 "nbformat": 4,
 "nbformat_minor": 5
}
