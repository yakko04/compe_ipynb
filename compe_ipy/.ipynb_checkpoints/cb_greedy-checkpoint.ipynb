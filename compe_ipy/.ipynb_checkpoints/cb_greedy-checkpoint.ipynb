{
 "cells": [
  {
   "cell_type": "code",
   "execution_count": 14,
   "metadata": {},
   "outputs": [
    {
     "name": "stdin",
     "output_type": "stream",
     "text": [
      " 3 3 3 3 3 3\n",
      " 100\n"
     ]
    },
    {
     "name": "stdout",
     "output_type": "stream",
     "text": [
      "1\n"
     ]
    }
   ],
   "source": [
    "#硬貨の問題\n",
    "c = list(map(int,input().split()))\n",
    "c.reverse()\n",
    "a = int(input())\n",
    "v = [500,100,50,10,5,1]\n",
    "ans = 0\n",
    "\n",
    "for i in range(len(v)):\n",
    "    t = min(a//v[i],c[i])\n",
    "    a = a - t*v[i]\n",
    "    ans += t\n",
    "print(ans)"
   ]
  },
  {
   "cell_type": "code",
   "execution_count": 22,
   "metadata": {},
   "outputs": [
    {
     "name": "stdin",
     "output_type": "stream",
     "text": [
      " 3\n",
      " 1 2 3\n",
      " 2 3 4\n"
     ]
    },
    {
     "name": "stdout",
     "output_type": "stream",
     "text": [
      "2\n"
     ]
    }
   ],
   "source": [
    "#区間スケジューリング\n",
    "from operator import itemgetter\n",
    "\n",
    "n = int(input())\n",
    "s = list(map(int,input().split()))\n",
    "t = list(map(int,input().split()))\n",
    "#終わる時間が早い順にソート\n",
    "st = sorted([(s[i],t[i]) for i in range(n)], key = itemgetter(1))\n",
    "\n",
    "ans = 0\n",
    "last = 0\n",
    "'''すでに終了時刻が早い順に並んでいるので\n",
    "現在の仕事の終了時刻よりもスタートが遅いものを選んで\n",
    "終了時刻を更新'''\n",
    "for i in range(n):\n",
    "    if last < st[i][0]:\n",
    "        ans += 1\n",
    "        last = st[i][1]\n",
    "print(ans)"
   ]
  },
  {
   "cell_type": "code",
   "execution_count": 8,
   "metadata": {},
   "outputs": [
    {
     "name": "stdin",
     "output_type": "stream",
     "text": [
      " 3\n",
      " aaa\n"
     ]
    },
    {
     "name": "stdout",
     "output_type": "stream",
     "text": [
      "1 2\n",
      "2 2\n",
      "3 2\n",
      "1 1\n",
      "2 1\n",
      "1 0\n",
      "aaa\n"
     ]
    }
   ],
   "source": [
    "#best cow line\n",
    "n  = int(input())\n",
    "s  = input()\n",
    "t = \"\"\n",
    "\n",
    "a = 0\n",
    "b = n-1\n",
    "#文字列がなくなるまで見る（実際にはカウントを前後から増やしていって被ったら終了）\n",
    "while a<=b:\n",
    "    left = False\n",
    "    i = 0\n",
    "    #前と後ろから見る一致している場合はiを進め次の値によって決める\n",
    "    while a + i <= b:#なぜa+i < b-iではない\n",
    "        if s[a+i] < s[b-i]:\n",
    "            left = True\n",
    "            break\n",
    "        elif s[a+i] > s[b-i]:\n",
    "            left = False\n",
    "            break\n",
    "        i+=1\n",
    "        print(a+i,b)\n",
    "    if left:\n",
    "        t += s[a]\n",
    "        a += 1\n",
    "    else:\n",
    "        t += s[b]\n",
    "        b -= 1\n",
    "print(t)"
   ]
  },
  {
   "cell_type": "code",
   "execution_count": 2,
   "metadata": {},
   "outputs": [
    {
     "name": "stdin",
     "output_type": "stream",
     "text": [
      " 6 \n",
      " 10\n",
      " 1 7 15 20 30 50\n"
     ]
    },
    {
     "name": "stdout",
     "output_type": "stream",
     "text": [
      "3\n"
     ]
    }
   ],
   "source": [
    "#Saruman's Army\n",
    "n = int(input())\n",
    "r = int(input())\n",
    "x = list(map(int,input().split()))\n",
    "x = sorted(x)\n",
    "\n",
    "i = 0 #index\n",
    "ans = 0 \n",
    "while i < n:     \n",
    "    s = x[i]    #カバーされていない左の点の位置(ここから届く範囲で印をつける)\n",
    "    i+=1\n",
    "    \n",
    "    while i < n and x[i] <= s+r:   #カバー範囲を超えるまで見る超えたら手前が印をつける値\n",
    "        i += 1\n",
    "        \n",
    "    p = x[i-1]                     #印をつける値を記憶\n",
    "    while i < n and x[i] <= p+r:   #今度は印から右側の部分をカバーできる範囲を見る\n",
    "        i+=1\n",
    "    ans += 1　　　　　　　　　　　　　#loopに入れば一回のしるしは必ず付くのでここでカウント\n",
    "print(ans)"
   ]
  },
  {
   "cell_type": "code",
   "execution_count": null,
   "metadata": {},
   "outputs": [],
   "source": [
    "#Fence Repair\n",
    "n = int(input())\n",
    "l = list(map(int,input().split()))\n",
    "\n",
    "ans = 0\n",
    "#板が複数枚から一本の板になるまでループ\n",
    "while n > 1:\n",
    "    mi1 = 0    #1番短い板\n",
    "    mi2 = 1    #2番目に短い板\n",
    "    \n",
    "    if l[mi1] > l[mi2]:      #大きさの大小が逆だったらswap\n",
    "        mi1,mi2 = mi2,mi1\n",
    "        \n",
    "    for i in range(2,n):     \n",
    "        if l[i] < l[mi1]:    \n",
    "            mi2 = mi1\n",
    "            mi1 = mi2\n",
    "        elif l[i] < l[mi2]:  #\n",
    "            mi2 = i\n",
    "    #併合\n",
    "    t = l[mi1] + lm[mi2]     \n",
    "    ans += t                 #併合した数値がコスト\n",
    "    \n",
    "    if mi1 == n-1:\n",
    "        mi1,mi2 = mi2,mi1\n",
    "    l[mi1] = t\n",
    "    l[mi2] = l[n-1]\n",
    "    n -= 1\n",
    "print(ans)"
   ]
  }
 ],
 "metadata": {
  "kernelspec": {
   "display_name": "Python 3",
   "language": "python",
   "name": "python3"
  },
  "language_info": {
   "codemirror_mode": {
    "name": "ipython",
    "version": 3
   },
   "file_extension": ".py",
   "mimetype": "text/x-python",
   "name": "python",
   "nbconvert_exporter": "python",
   "pygments_lexer": "ipython3",
   "version": "3.7.3"
  }
 },
 "nbformat": 4,
 "nbformat_minor": 4
}
