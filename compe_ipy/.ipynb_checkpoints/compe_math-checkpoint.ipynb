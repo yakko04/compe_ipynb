{
 "cells": [
  {
   "cell_type": "code",
   "execution_count": 6,
   "id": "c9961a8b",
   "metadata": {},
   "outputs": [
    {
     "name": "stdin",
     "output_type": "stream",
     "text": [
      " 7\n"
     ]
    },
    {
     "name": "stdout",
     "output_type": "stream",
     "text": [
      "5040\n"
     ]
    }
   ],
   "source": [
    "#2 N! mod 10**9 + 7\n",
    "n = int(input())\n",
    "mod = 10**9 + 7\n",
    "ans = 1\n",
    "\n",
    "for i in range(1,n+1):\n",
    "    ans = ans * i % mod\n",
    "print(ans)"
   ]
  },
  {
   "cell_type": "code",
   "execution_count": 15,
   "id": "ce6eacae",
   "metadata": {},
   "outputs": [
    {
     "name": "stdin",
     "output_type": "stream",
     "text": [
      " 3\n"
     ]
    },
    {
     "name": "stdout",
     "output_type": "stream",
     "text": [
      "True\n"
     ]
    }
   ],
   "source": [
    "#3\n",
    "def prime(n):\n",
    "    if n == 1:\n",
    "        return False\n",
    "    for i in range(2,int(n**(1/2)) + 1):\n",
    "        if n % i == 0:\n",
    "            return False\n",
    "    return True\n",
    "a = int(input())\n",
    "print(prime(a))"
   ]
  },
  {
   "cell_type": "code",
   "execution_count": 21,
   "id": "5760d160",
   "metadata": {},
   "outputs": [
    {
     "name": "stdout",
     "output_type": "stream",
     "text": [
      "26\n"
     ]
    }
   ],
   "source": [
    "#4\n",
    "s = 1\n",
    "ans = 0\n",
    "while s <= 10**8:\n",
    "    s = s*2 + 1\n",
    "    ans += 1\n",
    "print(ans)"
   ]
  },
  {
   "cell_type": "code",
   "execution_count": 41,
   "id": "1c176323",
   "metadata": {},
   "outputs": [
    {
     "name": "stdin",
     "output_type": "stream",
     "text": [
      " 21\n"
     ]
    },
    {
     "name": "stdout",
     "output_type": "stream",
     "text": [
      "10101\n"
     ]
    },
    {
     "name": "stdin",
     "output_type": "stream",
     "text": [
      " 110\n"
     ]
    },
    {
     "name": "stdout",
     "output_type": "stream",
     "text": [
      "6\n"
     ]
    }
   ],
   "source": [
    "#5\n",
    "#print(bin(21))\n",
    "n = int(input())\n",
    "s = \"\"\n",
    "while n > 0:\n",
    "    s += str(n%2)\n",
    "    n //= 2\n",
    "print(s[::-1])\n",
    "\n",
    "#print(int(\"110\",2))\n",
    "m = input()\n",
    "t = 0\n",
    "x = len(m) - 1\n",
    "for i in m:\n",
    "    i = int(i)\n",
    "    if i == 1:\n",
    "        t += (i*2)**x\n",
    "    x -= 1\n",
    "print(t)"
   ]
  },
  {
   "cell_type": "code",
   "execution_count": 61,
   "id": "de27c7c5",
   "metadata": {},
   "outputs": [
    {
     "name": "stdin",
     "output_type": "stream",
     "text": [
      " 9\n"
     ]
    },
    {
     "name": "stdout",
     "output_type": "stream",
     "text": [
      "1\n",
      "1\n"
     ]
    }
   ],
   "source": [
    "#6 1xor2xor...xorN\n",
    "\n",
    "n = int(input())\n",
    "ans = 1\n",
    "for i in range(2,n+1):\n",
    "    ans ^= i\n",
    "print(ans)\n",
    "\n",
    "x = n % 4\n",
    "if x == 0:\n",
    "    print(n)\n",
    "elif x == 1:\n",
    "    print((n-1)^n)\n",
    "elif x == 2:\n",
    "    print((n-2)^(n-1)^n)\n",
    "else:\n",
    "    print(0)\n",
    "    \n"
   ]
  },
  {
   "cell_type": "code",
   "execution_count": 66,
   "id": "70eb92d9",
   "metadata": {},
   "outputs": [
    {
     "name": "stdin",
     "output_type": "stream",
     "text": [
      " 7\n"
     ]
    },
    {
     "name": "stdout",
     "output_type": "stream",
     "text": [
      "21952\n",
      "21952\n"
     ]
    }
   ],
   "source": [
    "#7 ΣΣΣabc\n",
    "ans1 = 0\n",
    "n = int(input())\n",
    "for i in range(1,n+1):\n",
    "    for j in range(1,n+1):\n",
    "        for k in range(1,n+1):\n",
    "            ans1 += i*j*k\n",
    "print(ans1)\n",
    "\n",
    "abc = n*(n+1) // 2\n",
    "print(abc**3)"
   ]
  },
  {
   "cell_type": "code",
   "execution_count": 67,
   "id": "823e180f",
   "metadata": {},
   "outputs": [
    {
     "name": "stdout",
     "output_type": "stream",
     "text": [
      "8 15\n"
     ]
    }
   ],
   "source": [
    "#8 {8,10,12,15,20} \n",
    "from math import gcd\n",
    "a = [8,10,12,15,20]\n",
    "l = len(a) \n",
    "for i in range(l-1):\n",
    "    for j in range(i+1,l):\n",
    "        if gcd(a[i],a[j]) == 1:\n",
    "            print(a[i],a[j])\n",
    "            "
   ]
  },
  {
   "cell_type": "code",
   "execution_count": null,
   "id": "b445d5f4",
   "metadata": {},
   "outputs": [],
   "source": []
  }
 ],
 "metadata": {
  "kernelspec": {
   "display_name": "Python 3",
   "language": "python",
   "name": "python3"
  },
  "language_info": {
   "codemirror_mode": {
    "name": "ipython",
    "version": 3
   },
   "file_extension": ".py",
   "mimetype": "text/x-python",
   "name": "python",
   "nbconvert_exporter": "python",
   "pygments_lexer": "ipython3",
   "version": "3.8.8"
  }
 },
 "nbformat": 4,
 "nbformat_minor": 5
}
