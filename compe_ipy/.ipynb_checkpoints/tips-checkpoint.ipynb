{
 "cells": [
  {
   "cell_type": "code",
   "execution_count": 3,
   "id": "96bcd84c",
   "metadata": {},
   "outputs": [
    {
     "name": "stdin",
     "output_type": "stream",
     "text": [
      " 1 2\n"
     ]
    }
   ],
   "source": [
    "#入力\n",
    "a,b = map(int,input().split())\n",
    "#c = [list(map(int,input().split())) for _ in range()]\n",
    "lis = [[0]*n for _ in range(n)]"
   ]
  },
  {
   "cell_type": "code",
   "execution_count": null,
   "id": "27321c21",
   "metadata": {},
   "outputs": [],
   "source": [
    "#切り上げ (a+b-1)//b ex,4//3\n",
    "(4+3-1) // 3 \n",
    "#文字反転\n",
    "a = \"abcd\"\n",
    "print(a[::-1])\n",
    "#list から　文字列\n",
    "l = [\"1\",\"2\",\"3\"]\n",
    "print(\" \".join(l))"
   ]
  },
  {
   "cell_type": "code",
   "execution_count": null,
   "id": "97541535",
   "metadata": {},
   "outputs": [],
   "source": [
    "#コピー\n",
    "import copy\n",
    "a = [1,2]\n",
    "b = copy.copy(a)\n",
    "c = [[1,2],[3,4]]\n",
    "d = copy.deepcopy(c)"
   ]
  },
  {
   "cell_type": "code",
   "execution_count": null,
   "id": "425c5d9a",
   "metadata": {},
   "outputs": [],
   "source": [
    "#多次元ソート\n",
    "lis = [[1,3],[3,2],[1,4],[4,5],[2,1]]\n",
    "lis.sort(key=lambda x:x[0]) #0番目の要素でのソート\n",
    "lis.sort(key=lambda x:x[1]) #1番目"
   ]
  },
  {
   "cell_type": "code",
   "execution_count": null,
   "id": "74a1c14d",
   "metadata": {},
   "outputs": [],
   "source": [
    "#enumerateループ\n",
    "lis = [\"apple\",\"banana\",\"chocolate\"]\n",
    "for i, name in enumerate(lis):\n",
    "    print(i,name)"
   ]
  },
  {
   "cell_type": "code",
   "execution_count": 19,
   "id": "9013297c",
   "metadata": {},
   "outputs": [
    {
     "name": "stdin",
     "output_type": "stream",
     "text": [
      " 3\n"
     ]
    },
    {
     "name": "stdout",
     "output_type": "stream",
     "text": [
      "[1, 3]\n",
      "Wall time: 2.03 s\n"
     ]
    }
   ],
   "source": [
    "%%time\n",
    "#約数列挙\n",
    "n = int(input())\n",
    "lis = []\n",
    "for i in range(1,int(n**(1/2)) + 1):\n",
    "    if n % i == 0:\n",
    "        lis.append(i)\n",
    "        lis.append(n // i)\n",
    "print(sorted(set(lis)))"
   ]
  },
  {
   "cell_type": "code",
   "execution_count": 20,
   "id": "41404ddc-1d2b-470c-8882-3c2115b6b1a3",
   "metadata": {},
   "outputs": [
    {
     "name": "stdin",
     "output_type": "stream",
     "text": [
      " 9\n"
     ]
    },
    {
     "name": "stdout",
     "output_type": "stream",
     "text": [
      "{1, 3, 9}\n",
      "Wall time: 1.44 s\n"
     ]
    }
   ],
   "source": [
    "%%time\n",
    "#約数列挙ver2\n",
    "n = int(input())\n",
    "lis1 = []\n",
    "lis2 = []\n",
    "for i in range(1,int(n**0.5) + 1):\n",
    "    if n % i == 0:\n",
    "        lis1.append(i)\n",
    "        lis2.append(n//i)\n",
    "ans = set(lis1 + lis2[::-1])\n",
    "print(ans)"
   ]
  },
  {
   "cell_type": "code",
   "execution_count": 1,
   "id": "c7a4df35",
   "metadata": {},
   "outputs": [
    {
     "name": "stdin",
     "output_type": "stream",
     "text": [
      " 2\n"
     ]
    },
    {
     "name": "stdout",
     "output_type": "stream",
     "text": [
      "True\n"
     ]
    }
   ],
   "source": [
    "#素数判定\n",
    "def prime(n):\n",
    "    if n == 1:\n",
    "        return False\n",
    "    for i in range(2,int(n**(1/2)) + 1):\n",
    "        if n % i == 0:\n",
    "            return False\n",
    "    return True\n",
    "a = int(input())\n",
    "print(prime(a))"
   ]
  },
  {
   "cell_type": "code",
   "execution_count": null,
   "id": "4d444b19",
   "metadata": {},
   "outputs": [],
   "source": [
    "#素因数分解 trial division\n",
    "def pri_fact(n):\n",
    "    a = []\n",
    "    while n % 2 == 0:\n",
    "        a.append(2)\n",
    "        n //= 2\n",
    "    f = 3\n",
    "    while f * f <= n:\n",
    "        if n % f == 0:\n",
    "            a.append(f)\n",
    "            n //= f\n",
    "        else:\n",
    "            f += 2\n",
    "    if n != 1:\n",
    "        a.append(n)\n",
    "    return a"
   ]
  },
  {
   "cell_type": "code",
   "execution_count": 2,
   "id": "cb494a75",
   "metadata": {},
   "outputs": [
    {
     "name": "stdin",
     "output_type": "stream",
     "text": [
      " 1000000000 141421 173205\n"
     ]
    },
    {
     "name": "stdout",
     "output_type": "stream",
     "text": [
      "34076506\n"
     ]
    }
   ],
   "source": [
    "#フェルマー小定理、逆元 ABC156D\n",
    "n,a,b = map(int,input().split())\n",
    "mod = 10 ** 9 + 7\n",
    "ans = pow(2,n,mod) - 1\n",
    " \n",
    "def combi(r,c):\n",
    "    if r < c:\n",
    "        return 0\n",
    "    x,y = 1,1\n",
    "    for i in range(c):\n",
    "        x = (x * (r - i)) % mod\n",
    "        y = (y * (c - i)) % mod\n",
    "    return x * pow(y,mod-2,mod) % mod\n",
    " \n",
    "ans = (ans - combi(n,a) - combi(n,b)) % mod\n",
    "print(ans) # 各計算ごとにmodで余りをとることに注意"
   ]
  },
  {
   "cell_type": "code",
   "execution_count": 4,
   "id": "1b08b70e-aa5a-4093-9db2-92028dd2cd6f",
   "metadata": {},
   "outputs": [
    {
     "name": "stdout",
     "output_type": "stream",
     "text": [
      "35430270439\n"
     ]
    }
   ],
   "source": [
    "#crt,exd-euclidian --- ax+by=g\n",
    "\n",
    "from functools import reduce\n",
    "\n",
    "def xgcd(a, b):\n",
    "    if b:\n",
    "        d, y, x = xgcd(b, a % b)\n",
    "        y -= (a // b)*x\n",
    "        return d, x, y\n",
    "    return a, 1, 0\n",
    "\n",
    "def modinv(a, m):\n",
    "    g, x, y = xgcd(a, m)\n",
    "    if g != 1:\n",
    "        print(\"error\")\n",
    "        return 0\n",
    "    else:\n",
    "        return x % m\n",
    "\n",
    "def chinese_remainder(a, n):\n",
    "    total = 0\n",
    "    prod = reduce(lambda x, y: x*y, n)\n",
    "    for n_i, a_i in zip(n, a):\n",
    "        b_i = prod // n_i\n",
    "        total += a_i * b_i * modinv(b_i, n_i)\n",
    "    return total % prod\n",
    "\n",
    "a = [32134,193127]\n",
    "n = [1584891,3438478]\n",
    "print(chinese_remainder(a,n))"
   ]
  },
  {
   "cell_type": "markdown",
   "id": "86877634-45fd-4989-99d9-ef1f125674b0",
   "metadata": {},
   "source": [
    "フィボナッチについて"
   ]
  },
  {
   "cell_type": "code",
   "execution_count": 1,
   "id": "3df0eeb4",
   "metadata": {},
   "outputs": [
    {
     "name": "stdout",
     "output_type": "stream",
     "text": [
      "55\n"
     ]
    }
   ],
   "source": [
    "#recursive\n",
    "def fib(n):\n",
    "    if n < 2:\n",
    "        return n\n",
    "    else:\n",
    "        return fib(n-1) + fib(n-2)\n",
    "print(fib(10))"
   ]
  },
  {
   "cell_type": "code",
   "execution_count": null,
   "id": "df8b3879-bbb1-4cf6-9cf0-fcf569b5b6f2",
   "metadata": {},
   "outputs": [],
   "source": [
    "#memo_rec\n",
    "def fib(n):\n",
    "    memo = [0]*(n+1)\n",
    "    if n < 2:\n",
    "        memo[n] = n\n",
    "        return n\n",
    "    else:\n",
    "        if memo[n] != 0:\n",
    "            return memo[n]\n",
    "        memo[n] = fib(n-2) + fib(n-1)\n",
    "    return memo[n]\n",
    "print(fib(10))"
   ]
  },
  {
   "cell_type": "code",
   "execution_count": null,
   "id": "b803dd54-81fa-41bc-8010-de583fb7ae1b",
   "metadata": {},
   "outputs": [],
   "source": [
    "#dp\n",
    "def fib(n):\n",
    "    lis = [0]*(n+1)\n",
    "    lis[1] = 1\n",
    "    \n",
    "    if n < 2:\n",
    "        return lis[n]\n",
    "    \n",
    "    for i in range(2,n+1):\n",
    "        lis[i] = lis[i-1] + lis[i-2]\n",
    "        \n",
    "    return lis[-1]\n",
    "print(fib(10))"
   ]
  },
  {
   "cell_type": "code",
   "execution_count": null,
   "id": "e55baf99-0308-4e97-9f79-a045f092afa3",
   "metadata": {},
   "outputs": [],
   "source": [
    "#matrix with numpy\n",
    "import numpy as np\n",
    "\n",
    "def fib(n):\n",
    "    if n < 2:\n",
    "        return n\n",
    "    else:\n",
    "        mat = np.array([[1,1],\n",
    "                        [1,0]])\n",
    "        return np.linalg.matrix_power(mat,(n-1))[0][0]\n",
    "print(fib(3))"
   ]
  },
  {
   "cell_type": "code",
   "execution_count": null,
   "id": "482357c3-6730-48a5-8cc4-6febaaeed7f0",
   "metadata": {},
   "outputs": [],
   "source": []
  }
 ],
 "metadata": {
  "kernelspec": {
   "display_name": "Python 3 (ipykernel)",
   "language": "python",
   "name": "python3"
  },
  "language_info": {
   "codemirror_mode": {
    "name": "ipython",
    "version": 3
   },
   "file_extension": ".py",
   "mimetype": "text/x-python",
   "name": "python",
   "nbconvert_exporter": "python",
   "pygments_lexer": "ipython3",
   "version": "3.8.8"
  }
 },
 "nbformat": 4,
 "nbformat_minor": 5
}
