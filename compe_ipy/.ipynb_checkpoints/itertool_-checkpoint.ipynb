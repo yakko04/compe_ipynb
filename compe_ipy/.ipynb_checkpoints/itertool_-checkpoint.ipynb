{
 "cells": [
  {
   "cell_type": "code",
   "execution_count": 1,
   "id": "d8ea5a17",
   "metadata": {},
   "outputs": [
    {
     "name": "stdout",
     "output_type": "stream",
     "text": [
      "(0, 1, 2)\n",
      "(0, 2, 1)\n",
      "(1, 0, 2)\n",
      "(1, 2, 0)\n",
      "(2, 0, 1)\n",
      "(2, 1, 0)\n",
      "12\n",
      "(0, 1)\n",
      "(0, 2)\n",
      "(1, 2)\n",
      "6\n"
     ]
    }
   ],
   "source": [
    "#順列　組み合わせ\n",
    "import itertools\n",
    "from math import comb,perm\n",
    "#順列 nPr  n!/(n-r)!\n",
    "for i in itertools.permutations([0,1,2],3): #rを指定しないとnPnつまり階乗となる。\n",
    "    print(i)\n",
    "print(perm(4,2))\n",
    "\n",
    "#組み合わせ nCr    n!/(n-r)!r!\n",
    "for j in itertools.combinations([0,1,2],2):\n",
    "    print(j)\n",
    "print(comb(4,2))"
   ]
  },
  {
   "cell_type": "code",
   "execution_count": 9,
   "id": "98c44470",
   "metadata": {},
   "outputs": [
    {
     "name": "stdout",
     "output_type": "stream",
     "text": [
      "(1, 1)\n",
      "(1, 2)\n",
      "(2, 2)\n",
      "(1, 1)\n",
      "(1, 2)\n",
      "(2, 1)\n",
      "(2, 2)\n",
      "('a', 1)\n",
      "('a', 2)\n",
      "('a', 3)\n",
      "('b', 1)\n",
      "('b', 2)\n",
      "('b', 3)\n",
      "('c', 1)\n",
      "('c', 2)\n",
      "('c', 3)\n"
     ]
    }
   ],
   "source": [
    "#重複順列、組合せ\n",
    "from itertools import product,combinations_with_replacement\n",
    "for i in combinations_with_replacement([x for x in range(1,3)], 2):\n",
    "    print(i)\n",
    "\n",
    "for i in product([x for x in range(1,3)], repeat=2):\n",
    "    print(i)\n",
    "\n",
    "for pairs in product([\"a\",\"b\",\"c\"],[1,2,3]):\n",
    "    print(pairs)"
   ]
  },
  {
   "cell_type": "code",
   "execution_count": null,
   "id": "d6210d77",
   "metadata": {},
   "outputs": [],
   "source": [
    "#累積和\n",
    "from itertools import accumulate\n",
    "x = list(accumulate([1,2,3]))\n",
    "print(x)"
   ]
  }
 ],
 "metadata": {
  "kernelspec": {
   "display_name": "Python 3",
   "language": "python",
   "name": "python3"
  },
  "language_info": {
   "codemirror_mode": {
    "name": "ipython",
    "version": 3
   },
   "file_extension": ".py",
   "mimetype": "text/x-python",
   "name": "python",
   "nbconvert_exporter": "python",
   "pygments_lexer": "ipython3",
   "version": "3.8.8"
  }
 },
 "nbformat": 4,
 "nbformat_minor": 5
}
