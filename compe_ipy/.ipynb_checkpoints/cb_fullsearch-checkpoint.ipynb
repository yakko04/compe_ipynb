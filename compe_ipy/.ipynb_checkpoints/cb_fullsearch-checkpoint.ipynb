{
 "cells": [
  {
   "cell_type": "code",
   "execution_count": 2,
   "metadata": {},
   "outputs": [
    {
     "name": "stdout",
     "output_type": "stream",
     "text": [
      "deque([1, 2])\n"
     ]
    },
    {
     "data": {
      "text/plain": [
       "2"
      ]
     },
     "execution_count": 2,
     "metadata": {},
     "output_type": "execute_result"
    }
   ],
   "source": [
    "#スタック\n",
    "from collections import deque\n",
    "s = deque([])\n",
    "s.append(1)\n",
    "s.append(2)\n",
    "print(s)\n",
    "s.pop()"
   ]
  },
  {
   "cell_type": "code",
   "execution_count": 5,
   "metadata": {},
   "outputs": [
    {
     "name": "stdout",
     "output_type": "stream",
     "text": [
      "deque([1, 2])\n"
     ]
    },
    {
     "data": {
      "text/plain": [
       "1"
      ]
     },
     "execution_count": 5,
     "metadata": {},
     "output_type": "execute_result"
    }
   ],
   "source": [
    "#キュー\n",
    "from collections import deque\n",
    "q = deque([])\n",
    "q.append(1)\n",
    "q.append(2)\n",
    "print(q)\n",
    "q.popleft()"
   ]
  },
  {
   "cell_type": "code",
   "execution_count": 6,
   "metadata": {},
   "outputs": [
    {
     "name": "stdin",
     "output_type": "stream",
     "text": [
      " 4 13\n",
      " 1 2 4 7\n"
     ]
    },
    {
     "name": "stdout",
     "output_type": "stream",
     "text": [
      "y 3 6\n",
      "y 2 2\n",
      "y 1 0\n",
      "x 0 0\n",
      "Yes\n"
     ]
    }
   ],
   "source": [
    "#部分和(再帰)\n",
    "def dfs(i, total):\n",
    "    #以下に遷移するのはn個見終わってから\n",
    "    if i == n:\n",
    "        return total == k  #ここのbool値によって下のif文の分岐が決まる\n",
    "    \n",
    "    '''a[i] を使う場合と使わない場合\n",
    "    再帰していってi==nとなったときTrueなら\n",
    "    if文よりTrueが帰るそうでなければ最後のruturn Falseまでいく'''\n",
    "    if dfs(i + 1, total):\n",
    "        return True\n",
    "    \n",
    "    if dfs(i + 1,total + a[i]):\n",
    "        return True\n",
    "    \n",
    "    return False\n",
    "n,k = map(int,input().split())\n",
    "a = list(map(int,input().split()))\n",
    "if dfs(0,0):\n",
    "    print(\"Yes\")\n",
    "else:\n",
    "    print(\"No\")"
   ]
  },
  {
   "cell_type": "code",
   "execution_count": 1,
   "metadata": {},
   "outputs": [
    {
     "name": "stdin",
     "output_type": "stream",
     "text": [
      " 4 13\n",
      " 1 2 4 7\n"
     ]
    },
    {
     "name": "stdout",
     "output_type": "stream",
     "text": [
      "Yes\n",
      "No\n"
     ]
    }
   ],
   "source": [
    "#bit全探索\n",
    "n,k = map(int,input().split())\n",
    "a = list(map(int,input().split()))\n",
    "#0から(2^n)-1までループ, 2^n = 1<<n　n桁左にshift\n",
    "#総数は2^nでありbitで表現することですべての状態を網羅できる？\n",
    "#ex n=2 00 01 10 11, 1となっているとき(フラグが立っているとき)合計に足す。\n",
    "for bit in range(1<<n):\n",
    "    sum = 0              \n",
    "    for i in range(n):\n",
    "        if bit & (1 << i): #2進数表記bitと1<<iの一桁でもかぶっていれば、0ではないのでtrueになる.ex, 110, 001→ 010→ 100（と３がtrue)\n",
    "                           #(bit>>i) & 1でも同意\n",
    "            sum += a[i]\n",
    "            \n",
    "    if sum == k:\n",
    "        print(\"Yes\")\n",
    "        exit()\n",
    "print(\"No\")\n",
    "#bit全探索2重 ABC173\n",
    "a,b,k = map(int,input().split())\n",
    "c = [list(input()) for _ in range(a)]\n",
    "ans = 0\n",
    "for bit1 in range(1<<a):\n",
    "    for bit2 in range(1<<b):\n",
    "        cnt = 0\n",
    "        for i in range(a):\n",
    "            for j in range(b):\n",
    "                if (bit1 & (1<<i) == 0) and (bit2 & (1<<j) == 0) and c[i][j] == \"#\":\n",
    "                    cnt += 1\n",
    "        if cnt == k:\n",
    "            ans += 1\n",
    "print(ans)"
   ]
  },
  {
   "cell_type": "code",
   "execution_count": 6,
   "metadata": {},
   "outputs": [
    {
     "name": "stdin",
     "output_type": "stream",
     "text": [
      " 3 4\n",
      " W...\n",
      " .W..\n",
      " ..W.\n"
     ]
    },
    {
     "name": "stdout",
     "output_type": "stream",
     "text": [
      "1\n"
     ]
    }
   ],
   "source": [
    "#lake counting dfs (塗りつぶし)\n",
    "def dfs(x,y):\n",
    "    #現在地点を'.'で置き換える...一度見たところか判定するために\n",
    "    lake[x][y] = \".\"\n",
    "    #隣接8近傍をチェック\n",
    "    for dx in range(-1,2):\n",
    "        for dy in range(-1,2):\n",
    "            #移動後を(nx,ny)とおく\n",
    "            nx = x + dx\n",
    "            ny = y + dy\n",
    "            #範囲外に出ていないかどうかと水たまりになっているかを判定する\n",
    "            if (0 <= nx < n) and (0 <= ny < m) and lake[nx][ny] == \"W\":\n",
    "                dfs(nx,ny)\n",
    "        \n",
    "n,m = map(int,input().split())\n",
    "lake = [list(input()) for i in range(n)]\n",
    "\n",
    "res = 0\n",
    "for i in range(n):\n",
    "    for j in range(m):\n",
    "        if lake[i][j] == \"W\":\n",
    "            dfs(i,j)\n",
    "            res += 1\n",
    "print(res)"
   ]
  },
  {
   "cell_type": "code",
   "execution_count": null,
   "metadata": {},
   "outputs": [],
   "source": [
    "#backlog\n",
    "#tenkei90_85?\n",
    "h,w = map(int,input().split())\n",
    "masu = [list(input()) for _ in range(h)]\n",
    "\n",
    "dist = [[-1]*w for _ in range(h)]\n",
    "dr_l = [-1,0,0,1]\n",
    "dc_l = [0,-1,1,0]\n",
    "\n",
    "def dfs(r,c,cnt):\n",
    "    if dist[r][c] != -1:\n",
    "        if cnt - dist[r][c] >= 4:\n",
    "            return cnt - dist[r][c]\n",
    "        else:\n",
    "            return -1\n",
    "        \n",
    "    num = -1\n",
    "    dist[r][c] = cnt\n",
    "    for i in range(4):\n",
    "        dr = r + dr_l[i]\n",
    "        dc = c + dc_l[i]\n",
    "        \n",
    "        if (0<=dr<h) and (0<=dc<w) and masu[dr][dc] == \".\":\n",
    "            num = max(num,dfs(dr,dc,cnt+1))\n",
    "    dist[r][c] = -1\n",
    "    \n",
    "    return num\n",
    "    \n",
    "ans = -1    \n",
    "for j in range(h):\n",
    "    for k in range(w):\n",
    "        if masu[j][k] == \"#\":continue\n",
    "        ans = max(ans,dfs(j,k,0))\n",
    "print(ans)"
   ]
  },
  {
   "cell_type": "code",
   "execution_count": 17,
   "metadata": {},
   "outputs": [
    {
     "name": "stdin",
     "output_type": "stream",
     "text": [
      " 3 3\n",
      " s..\n",
      " ...\n",
      " ..g\n"
     ]
    },
    {
     "name": "stdout",
     "output_type": "stream",
     "text": [
      "4\n"
     ]
    }
   ],
   "source": [
    "#maze bfs\n",
    "from collections import deque\n",
    "def bfs():\n",
    "    #ゴールまでの距離を測るので最初をinfで初期化しておく\n",
    "    d = [[float(\"inf\")] * m for i in range(n)]\n",
    "    \n",
    "    dx = [-1,0,0,1]\n",
    "    dy = [0,-1,1,0]\n",
    "    #start goal の位置を見つける\n",
    "    for i in range(n):\n",
    "        for j in range(m):\n",
    "            if maze[i][j] == \"s\":\n",
    "                sx = i\n",
    "                sy = j\n",
    "            if maze[i][j] == \"g\":\n",
    "                gx = i\n",
    "                gy = j\n",
    "    #スタートをキューに入れスタート地点なので距離を０にする\n",
    "    que = deque([])\n",
    "    que.append((sx,sy))\n",
    "    d[sx][sy] = 0\n",
    "    #キューを使っているので距離がスタートから近い順に取り出されていく\n",
    "    while que: #queに値が入っている限りloop\n",
    "        p = que.popleft()\n",
    "        #ゴールに到達したら終了(何通りか道はあるかもしれないが最短を見つければよいので)\n",
    "        if p[0] == gx and p[1] == gy:\n",
    "            break\n",
    "        for i in range(4):\n",
    "            nx = p[0] + dx[i]\n",
    "            ny = p[1] + dy[i]\n",
    "            \n",
    "            if (0<=nx<n) and (0<=ny<m) and (maze[nx][ny] != \"#\") and d[nx][ny] == float(\"inf\"):\n",
    "                que.append((nx,ny))            #queに追加\n",
    "                d[nx][ny] = d[p[0]][p[1]] + 1  #その点から距離を+1する\n",
    "    return d[gx][gy]\n",
    "n,m = map(int,input().split())\n",
    "maze = [list(input()) for i in range(n)]\n",
    "print(bfs())"
   ]
  },
  {
   "cell_type": "code",
   "execution_count": 1,
   "metadata": {},
   "outputs": [
    {
     "name": "stdout",
     "output_type": "stream",
     "text": [
      "(0, 1, 2)\n",
      "(0, 2, 1)\n",
      "(1, 0, 2)\n",
      "(1, 2, 0)\n",
      "(2, 0, 1)\n",
      "(2, 1, 0)\n",
      "(0, 1)\n",
      "(0, 2)\n",
      "(1, 2)\n"
     ]
    }
   ],
   "source": [
    "#minimum　change of direction\n",
    "#tenkei 43\n",
    "#To find the minimum number of times to chang direction.\n",
    "from collections import deque\n",
    "def bfs():\n",
    "    d_lis = [[float(\"inf\")]*w for _ in range(h)]\n",
    "    \n",
    "    dw = [-1,0,0,1]\n",
    "    dh = [0,-1,1,0]\n",
    "    \n",
    "    d_lis[rs][cs] = 0\n",
    "    que = deque([])\n",
    "    for direc in range(4):   #上下左右を0~3で表現\n",
    "        que.append((0,direc,rs,cs))   \n",
    "    \n",
    "    while que:\n",
    "        cost,drc,cur_r,cur_c = que.popleft()\n",
    "        \n",
    "        if d_lis[cur_r][cur_c] < cost: #２回以上通る(n>=2)部分で,既に格納されていcost小さいなら何もしない\n",
    "            continue\n",
    "            \n",
    "        for i in range(4):            #4方向全て移動する\n",
    "            nr = cur_r + dh[i]\n",
    "            nc = cur_c + dw[i]\n",
    "            \n",
    "            if (0<=nr<h) and (0<=nc<w) and maze[nr][nc] == \".\":\n",
    "                if i == drc: #1マス移動したとき前回のマスからの移動方向が一緒なら(つまりコストが増えないとき)\n",
    "                    if d_lis[nr][nc] >= cost: \n",
    "                        #n>=2で既cost \"=\"があるのは十字路の中心マスだった場合どこからどこへ\n",
    "                        #進むかによって\"=\"でもcostが小さくなる可能性がある\n",
    "                        d_lis[nr][nc] = cost\n",
    "                        que.appendleft((cost,drc,nr,nc)) #なるべく直線に進むところを早く見たい\n",
    "                                                         #bcsそっちの方がcost小さいはず無駄にcostがデカくなるところの計算をしたくない\n",
    "                        \n",
    "                else:\n",
    "                    if d_lis[nr][nc] > cost:\n",
    "                        d_lis[nr][nc] = cost+1\n",
    "                        que.append((cost+1,i,nr,nc))\n",
    "                        \n",
    "    return d_lis[rt][ct]\n",
    "h,w = map(int,input().split())\n",
    "rs,cs = map(int,input().split())\n",
    "rt,ct = map(int,input().split())\n",
    "maze = [list(input()) for _ in range(h)]\n",
    "rs -= 1\n",
    "cs -= 1\n",
    "rt -= 1\n",
    "ct -= 1\n",
    "print(bfs())"
   ]
  },
  {
   "cell_type": "code",
   "execution_count": null,
   "metadata": {},
   "outputs": [],
   "source": []
  }
 ],
 "metadata": {
  "kernelspec": {
   "display_name": "Python 3 (ipykernel)",
   "language": "python",
   "name": "python3"
  },
  "language_info": {
   "codemirror_mode": {
    "name": "ipython",
    "version": 3
   },
   "file_extension": ".py",
   "mimetype": "text/x-python",
   "name": "python",
   "nbconvert_exporter": "python",
   "pygments_lexer": "ipython3",
   "version": "3.8.8"
  }
 },
 "nbformat": 4,
 "nbformat_minor": 4
}
