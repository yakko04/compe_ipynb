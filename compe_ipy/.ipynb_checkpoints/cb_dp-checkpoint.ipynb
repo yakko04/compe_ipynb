{
 "cells": [
  {
   "cell_type": "code",
   "execution_count": 5,
   "id": "d99c0800",
   "metadata": {},
   "outputs": [
    {
     "name": "stdin",
     "output_type": "stream",
     "text": [
      " 1\n",
      " 1 1\n",
      " 1\n"
     ]
    },
    {
     "name": "stdout",
     "output_type": "stream",
     "text": [
      "1\n"
     ]
    }
   ],
   "source": [
    "#ナップザック(全探索)\n",
    "def rec(i,j):\n",
    "    if i == n:\n",
    "        res = 0\n",
    "    elif j < w[i]:\n",
    "        res = rec(i+1,j)\n",
    "    else:\n",
    "        res=max(rec(i+1,j),rec(i+1,j-w[i]) + v[i])\n",
    "    \n",
    "    return res\n",
    "n = int(input())\n",
    "w = []\n",
    "v = []\n",
    "for i in range(n):\n",
    "    w_, v_ = map(int, input().split())\n",
    "    w.append(w_)\n",
    "    v.append(v_)\n",
    "W = int(input())\n",
    "print(rec(0, W))"
   ]
  },
  {
   "cell_type": "code",
   "execution_count": 7,
   "id": "e35c2e10",
   "metadata": {},
   "outputs": [
    {
     "name": "stdin",
     "output_type": "stream",
     "text": [
      " 1\n",
      " 1 1\n",
      " 1\n"
     ]
    },
    {
     "name": "stdout",
     "output_type": "stream",
     "text": [
      "1\n"
     ]
    }
   ],
   "source": [
    "#ナップザック(dpメモ化)\n",
    "def recm(i,j):\n",
    "    if dp[i][j]:\n",
    "        return dp[i][j]\n",
    "    if i == n:\n",
    "        res = 0\n",
    "    elif j < w[i]:\n",
    "        res = recm(i+1,j)\n",
    "    else:\n",
    "        res=max(recm(i+1,j),recm(i+1,j-w[i]) + v[i])\n",
    "    dp[i][j] = res\n",
    "    return res\n",
    "n = int(input())\n",
    "w = []\n",
    "v = []\n",
    "for i in range(n):\n",
    "    w_, v_ = map(int, input().split())\n",
    "    w.append(w_)\n",
    "    v.append(v_)\n",
    "W = int(input())\n",
    "dp = [[0]*(W+1) for i in range(n+1)]\n",
    "print(recm(0,W))"
   ]
  },
  {
   "cell_type": "code",
   "execution_count": 20,
   "id": "a09988ea",
   "metadata": {},
   "outputs": [
    {
     "name": "stdin",
     "output_type": "stream",
     "text": [
      " 4\n",
      " 2 3\n",
      " 1 2\n",
      " 3 4\n",
      " 2 2\n",
      " 5\n"
     ]
    },
    {
     "name": "stdout",
     "output_type": "stream",
     "text": [
      "7\n"
     ]
    }
   ],
   "source": [
    "#ナップザック(dp漸化式0から)\n",
    "n = int(input())\n",
    "w = []\n",
    "v = []\n",
    "for i in range(n):\n",
    "    w_, v_ = map(int, input().split())\n",
    "    w.append(w_)\n",
    "    v.append(v_)\n",
    "W = int(input())\n",
    "dp = [[0]*(W+1) for i in range(n+1)]\n",
    "\n",
    "for i in range(n):\n",
    "    for j in range(W+1):\n",
    "        if j < w[i]:\n",
    "            dp[i+1][j] = dp[i][j] #入れないからテーブルの値は前の値と一緒\n",
    "        else:\n",
    "            dp[i+1][j] = max(dp[i][j],dp[i][j-w[i]] + v[i]) #両方試す\n",
    "print(dp[n][W])\n",
    "        "
   ]
  },
  {
   "cell_type": "code",
   "execution_count": 3,
   "id": "a9cdc8ad",
   "metadata": {},
   "outputs": [
    {
     "name": "stdin",
     "output_type": "stream",
     "text": [
      " 4 4\n",
      " abcd\n",
      " bcde\n"
     ]
    },
    {
     "name": "stdout",
     "output_type": "stream",
     "text": [
      "3\n"
     ]
    }
   ],
   "source": [
    "#最長共通部分問題\n",
    "n,m = map(int,input().split())\n",
    "s = input()\n",
    "t = input()\n",
    "dp = [[0]*(m+1) for _ in range(n+1)]\n",
    "\n",
    "for i in range(n):\n",
    "    for j in range(m):\n",
    "        if s[i] == t[j]:\n",
    "            dp[i+1][j+1] = dp[i][j]+1\n",
    "        else:\n",
    "            dp[i+1][j+1] = max(dp[i][j+1],dp[i+1][j])\n",
    "print(dp[n][m])"
   ]
  },
  {
   "cell_type": "code",
   "execution_count": null,
   "id": "337beee6",
   "metadata": {},
   "outputs": [],
   "source": [
    "#LCS output strings\n",
    "s = input()\n",
    "t = input()\n",
    "n = len(s)\n",
    "m = len(t)\n",
    "\n",
    "dp = [[0]*(m+1) for _ in range(n+1)]\n",
    "for i in range(n):\n",
    "    for j in range(m):\n",
    "        if s[i] == t[j]:\n",
    "            dp[i+1][j+1] = dp[i][j] + 1\n",
    "        else:\n",
    "            dp[i+1][j+1] = max(dp[i+1][j],dp[i][j+1])\n",
    "\n",
    "ans = \"\"\n",
    "while j >= 0 and i >= 0:\n",
    "    if s[i] == t[j]:\n",
    "        ans += s[i]\n",
    "        i -= 1\n",
    "        j -= 1\n",
    "    elif dp[i+1][j+1] == dp[i][j+1]:\n",
    "        i -= 1\n",
    "    else:\n",
    "        j -= 1\n",
    "print(ans[::-1])"
   ]
  },
  {
   "cell_type": "code",
   "execution_count": 2,
   "id": "3185d194",
   "metadata": {},
   "outputs": [
    {
     "name": "stdin",
     "output_type": "stream",
     "text": [
      " 1\n",
      " 1 1\n",
      " 1\n"
     ]
    },
    {
     "name": "stdout",
     "output_type": "stream",
     "text": [
      "1\n"
     ]
    }
   ],
   "source": [
    "#制限なしナップザック\n",
    "n = int(input())\n",
    "w = []\n",
    "v = []\n",
    "for i in range(n):\n",
    "    w_, v_ = map(int, input().split())\n",
    "    w.append(w_)\n",
    "    v.append(v_)\n",
    "W = int(input())\n",
    "dp = [[0]*(W+1) for i in range(n+1)]\n",
    "\n",
    "for i in range(n):\n",
    "    for j in range(W+1):\n",
    "        if j < w[i]:\n",
    "            dp[i+1][j] = dp[i][j]\n",
    "        else:　　　　　　　 #wのmax値まで入れられるならi番目のものをどんどん入れる\n",
    "            dp[i+1][j] = max(dp[i][j],dp[i+1][j-w[i]] + v[i])\n",
    "print(dp[n][W])"
   ]
  },
  {
   "cell_type": "code",
   "execution_count": 1,
   "id": "7ebee037",
   "metadata": {},
   "outputs": [
    {
     "name": "stdin",
     "output_type": "stream",
     "text": [
      " 3\n",
      " 3 30\n",
      " 4 50\n",
      " 5 60\n",
      " 8\n"
     ]
    },
    {
     "name": "stdout",
     "output_type": "stream",
     "text": [
      "90\n"
     ]
    }
   ],
   "source": [
    "#ナップザック重さ大きい\n",
    "n = int(input())\n",
    "w = []\n",
    "v = []\n",
    "for i in range(n):\n",
    "    w_, v_ = map(int, input().split())\n",
    "    w.append(w_)\n",
    "    v.append(v_)\n",
    "W = int(input())\n",
    "\n",
    "dp = [[float(\"inf\")] * (n*101) for i in range(n+1)] #101は制約より ???\n",
    "dp[0][0] = 0\n",
    "\n",
    "for i in range(n):\n",
    "    for j in range(n*100):\n",
    "        if j < v[i]:\n",
    "            dp[i+1][j] = dp[i][j]\n",
    "        else:\n",
    "            dp[i+1][j] = min(dp[i][j],dp[i][j-v[i]] + w[i])\n",
    "res = 0\n",
    "for i in range(n*100):\n",
    "    if dp[n][i] <= W:\n",
    "        res = i\n",
    "print(res)"
   ]
  },
  {
   "cell_type": "code",
   "execution_count": null,
   "id": "5272c8ad",
   "metadata": {},
   "outputs": [],
   "source": [
    "#aoj coin dp\n",
    "n,m = map(int,input().split())\n",
    "money = list(map(int,input().split()))\n",
    "\n",
    "dp = [[0]*(n+1) for _ in range(m)]\n",
    "\n",
    "for i in range(m):\n",
    "    for j in range(n+1):\n",
    "        if i == 0:\n",
    "            dp[i][j] = j\n",
    "        elif j < money[i]:\n",
    "            dp[i][j] = dp[i-1][j]\n",
    "        else:\n",
    "            dp[i][j] = min(dp[i-1][j], dp[i][j - money[i]] + 1)\n",
    "print(dp[m-1][n])"
   ]
  },
  {
   "cell_type": "code",
   "execution_count": null,
   "id": "67ba562e",
   "metadata": {},
   "outputs": [],
   "source": []
  }
 ],
 "metadata": {
  "kernelspec": {
   "display_name": "Python 3",
   "language": "python",
   "name": "python3"
  },
  "language_info": {
   "codemirror_mode": {
    "name": "ipython",
    "version": 3
   },
   "file_extension": ".py",
   "mimetype": "text/x-python",
   "name": "python",
   "nbconvert_exporter": "python",
   "pygments_lexer": "ipython3",
   "version": "3.8.8"
  }
 },
 "nbformat": 4,
 "nbformat_minor": 5
}
