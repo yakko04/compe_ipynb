{
 "cells": [
  {
   "cell_type": "code",
   "execution_count": 2,
   "id": "ca49db14",
   "metadata": {},
   "outputs": [
    {
     "name": "stdout",
     "output_type": "stream",
     "text": [
      "6\n",
      "1\n",
      "3\n"
     ]
    }
   ],
   "source": [
    "#二分探索tool\n",
    "import bisect\n",
    "a = [1,4,2,5,6,3]\n",
    "a.sort() #[1,2,3,4,5,6]\n",
    "print(bisect.bisect(a,7))      #挿入する位置のindexを返す\n",
    "print(bisect.bisect_left(a,2))  #左側の\n",
    "print(bisect.bisect_right(a,3)) #右側の\n",
    "bisect.insort(a,3)      #挿入する\n"
   ]
  },
  {
   "cell_type": "code",
   "execution_count": null,
   "id": "86166472",
   "metadata": {},
   "outputs": [],
   "source": [
    "#目的の値を探す\n",
    "a = int(input())\n",
    "lf = 0\n",
    "ri = 100000\n",
    "mid = (lf+ri)//2\n",
    "cnt = 0\n",
    "while a != mid:\n",
    "    cnt += 1\n",
    "    if a > mid:\n",
    "        lf = mid + 1\n",
    "        mid = (lf+ri)//2\n",
    "    else:\n",
    "        ri = mid - 1\n",
    "        mid = (lf+ri)//2\n",
    "    print(lf,mid,ri)\n",
    "print(cnt)"
   ]
  },
  {
   "cell_type": "code",
   "execution_count": 11,
   "id": "a549f373",
   "metadata": {},
   "outputs": [
    {
     "name": "stdout",
     "output_type": "stream",
     "text": [
      "0 500 500\n",
      "250 250 500\n",
      "375 375 500\n",
      "437 437 500\n",
      "437 468 468\n",
      "452 452 468\n",
      "452 460 460\n",
      "452 456 456\n",
      "452 454 454\n",
      "452 453 453\n"
     ]
    }
   ],
   "source": [
    "#最大最小化問題で\n",
    "lf = 0\n",
    "ri = 1000\n",
    "x = 453\n",
    "while ri - lf > 1:\n",
    "    mid = (ri+lf) // 2\n",
    "    if mid >= x:\n",
    "        ri = mid\n",
    "    else:\n",
    "        lf = mid\n",
    "    print(lf,mid,ri)"
   ]
  },
  {
   "cell_type": "code",
   "execution_count": null,
   "id": "3c261a07",
   "metadata": {},
   "outputs": [],
   "source": [
    "#ARC054B\n",
    "#ternaly search\n",
    "def calc(x):\n",
    "    return x + pow(2,-x/1.5) * p\n",
    "p = float(input())\n",
    "\n",
    "low = 0\n",
    "high = 10**9\n",
    "\n",
    "for i in range(1000):\n",
    "    c1 = (high + 2*low) / 3\n",
    "    c2 = (2*high + low) / 3\n",
    "    if calc(c1) > calc(c2):\n",
    "        low = c1\n",
    "    else:\n",
    "        high = c2\n",
    "print(calc(low))"
   ]
  },
  {
   "cell_type": "code",
   "execution_count": null,
   "id": "7b5422b8",
   "metadata": {},
   "outputs": [],
   "source": [
    "#キョウプロ典型001\n",
    "n,l = map(int,input().split())\n",
    "k = int(input())\n",
    "a = list(map(int,input().split()))\n",
    "\n",
    "lf = 0\n",
    "ri = l\n",
    "ans = 0\n",
    "\n",
    "while ri - lf > 1:\n",
    "    mid = (lf+ri)//2\n",
    "    \n",
    "    x = 0\n",
    "    cut = 0\n",
    "    pre = 0\n",
    "    for i in range(n):\n",
    "        if x + a[i] - pre >= mid:\n",
    "            cut += 1\n",
    "            x = 0\n",
    "            pre = a[i]\n",
    "        else:\n",
    "            x += a[i] - pre\n",
    "            pre = a[i]\n",
    "            \n",
    "    if x + l - pre < mid:\n",
    "        cut -= 1\n",
    "    \n",
    "    if cut >= k:\n",
    "        ans = mid\n",
    "        lf = mid\n",
    "    else:\n",
    "        \n",
    "        ri = mid\n",
    "print(ans)"
   ]
  }
 ],
 "metadata": {
  "kernelspec": {
   "display_name": "Python 3 (ipykernel)",
   "language": "python",
   "name": "python3"
  },
  "language_info": {
   "codemirror_mode": {
    "name": "ipython",
    "version": 3
   },
   "file_extension": ".py",
   "mimetype": "text/x-python",
   "name": "python",
   "nbconvert_exporter": "python",
   "pygments_lexer": "ipython3",
   "version": "3.8.8"
  }
 },
 "nbformat": 4,
 "nbformat_minor": 5
}
