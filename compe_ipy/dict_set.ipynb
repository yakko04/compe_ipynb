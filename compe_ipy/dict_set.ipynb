{
 "cells": [
  {
   "cell_type": "code",
   "execution_count": 22,
   "id": "d8f4d60d",
   "metadata": {},
   "outputs": [
    {
     "name": "stdout",
     "output_type": "stream",
     "text": [
      "5\n",
      "dict_items([('apple', 1), ('orange', 2), ('grape', 3), ('banana', 5)])\n",
      "dict_keys(['apple', 'orange', 'grape', 'banana'])\n",
      "dict_values([1, 2, 3, 5])\n",
      "key=apple,value=1\n",
      "key=orange,value=2\n",
      "key=grape,value=3\n",
      "key=banana,value=5\n"
     ]
    }
   ],
   "source": [
    "#dictionary\n",
    "dic = {\"apple\":1,\"orange\":2,\"grape\":3}\n",
    "dic[\"banana\"] = 4\n",
    "dic[\"banana\"] += 1\n",
    "print(dic[\"banana\"])\n",
    "print(dic.items())\n",
    "print(dic.keys())\n",
    "print(dic.values())\n",
    "for k in dic.keys():\n",
    "    print(\"key={},value={}\".format(k,dic[k]))"
   ]
  },
  {
   "cell_type": "code",
   "execution_count": 6,
   "id": "d64da0e4",
   "metadata": {},
   "outputs": [
    {
     "name": "stdout",
     "output_type": "stream",
     "text": [
      "{1, 2, 3, 4} [1, 2, 3, 4]\n",
      "{0, 1, 2, 3}\n",
      "{1, 2}\n",
      "{0}\n",
      "{0, 3}\n",
      "False\n"
     ]
    }
   ],
   "source": [
    "#set\n",
    "samp = {1,2,3,4,3,4}\n",
    "print(samp,list(samp))\n",
    "s = set()#初期化は{}だとdictとなるためset()\n",
    "s.add(3)\n",
    "s.add(4)\n",
    "s.discard(3)   #指定した要素を削除するない場合は何もしない\n",
    "#s.remove(3)    #discardと同じだがない場合error\n",
    "#s.pop()        #要素を削除しその値を返す相対の選択はできないないとerror\n",
    "#s.clear()     #全消し\n",
    "s1 = {0,1,2}\n",
    "s2 = {1,2,3}\n",
    "s3 = {2,3,4}\n",
    "print(s1 | s2) #和集合\n",
    "print(s1 & s2) #積\n",
    "print(s1 - s2) #差\n",
    "print(s1 ^ s2) #対称差 (どちらか一方のみ)\n",
    "print(s1.isdisjoint(s2)) #互いに素判定"
   ]
  },
  {
   "cell_type": "code",
   "execution_count": null,
   "id": "77adf321",
   "metadata": {},
   "outputs": [],
   "source": []
  }
 ],
 "metadata": {
  "kernelspec": {
   "display_name": "Python 3 (ipykernel)",
   "language": "python",
   "name": "python3"
  },
  "language_info": {
   "codemirror_mode": {
    "name": "ipython",
    "version": 3
   },
   "file_extension": ".py",
   "mimetype": "text/x-python",
   "name": "python",
   "nbconvert_exporter": "python",
   "pygments_lexer": "ipython3",
   "version": "3.8.8"
  }
 },
 "nbformat": 4,
 "nbformat_minor": 5
}
