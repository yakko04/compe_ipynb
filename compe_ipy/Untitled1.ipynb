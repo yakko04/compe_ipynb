{
 "cells": [
  {
   "cell_type": "code",
   "execution_count": 94,
   "id": "f5f6a700",
   "metadata": {},
   "outputs": [
    {
     "data": {
      "text/plain": [
       "[3, inf, 3, inf, inf, 3, inf, inf, inf, inf, inf, 3, inf, inf, inf]"
      ]
     },
     "execution_count": 94,
     "metadata": {},
     "output_type": "execute_result"
    }
   ],
   "source": [
    "#segment tree(simple)\n",
    "#range minimum query ver\n",
    "#デフォルトの値を適宜変えて\n",
    "###0based index\n",
    "class segment_tree():\n",
    "    def __init__(self,size):\n",
    "        self.size = 2**(size-1).bit_length() #完全二分木にするためsizeを2冪にする\n",
    "        self.iden = float(\"inf\") #identity_element これで初期化する\n",
    "        self.dat = [self.iden]*(self.size*2-1) #(2n-1)のleaf\n",
    "        \n",
    "    def update(self,ind,x): #更新する場所,更新する値\n",
    "        ind += self.size - 1 #ind番目の要素は(0から始まる)\n",
    "        self.dat[ind] = x\n",
    "        while ind > 0:\n",
    "            ind = (ind-1) >> 1 #(//2) #親のindex\n",
    "            self.dat[ind] = min(self.dat[ind*2+1],self.dat[ind*2+2])\n",
    "    \n",
    "    def query(self,q_le,q_ri,cur=0,LEFT=0,RIGHT=None):\n",
    "        if RIGHT is None:\n",
    "            RIGHT = self.size\n",
    "        if RIGHT <= q_le or q_ri <= LEFT: #範囲外の場合\n",
    "            return self.iden\n",
    "        elif q_le <= LEFT and RIGHT <= q_ri: #範囲内の場合\n",
    "            return dat[cur]\n",
    "        else:   #一部区間の場合\n",
    "            lres = self.query(q_le,q_ri,cur*2+1, LEFT, (LEFT+RIGHT)//2)\n",
    "            rres = self.query(q_le,q_ri,cur*2+2, (LEFT+RIGHT)//2,RIGHT)\n",
    "            return min(lres,rres)\n",
    "a = segment_tree(5)\n",
    "\n",
    "a.update(4,3)\n",
    "a.dat"
   ]
  },
  {
   "cell_type": "code",
   "execution_count": 48,
   "id": "eec5e9df-8626-4a29-a3df-52c00564f666",
   "metadata": {},
   "outputs": [
    {
     "name": "stdout",
     "output_type": "stream",
     "text": [
      "nasi: 1 1\n",
      "nasi: 2 2\n",
      "nasi: 3 4\n",
      "nasi: 4 4\n",
      "nasi: 5 8\n",
      "nasi: 6 8\n",
      "nasi: 7 8\n",
      "nasi: 8 8\n",
      "nasi: 9 16\n",
      "nasi: 10 16\n"
     ]
    }
   ],
   "source": [
    "for i in range(1,11):\n",
    "    print(\"nasi:\",i,2**(i-1).bit_length())\n",
    "   "
   ]
  },
  {
   "cell_type": "code",
   "execution_count": 33,
   "id": "b52cd63b-aafc-4f85-9f57-88893c04ddb9",
   "metadata": {},
   "outputs": [
    {
     "name": "stdout",
     "output_type": "stream",
     "text": [
      "0 0\n",
      "1 1\n",
      "2 2\n",
      "3 2\n",
      "4 3\n",
      "5 3\n",
      "6 3\n",
      "7 3\n",
      "8 4\n",
      "9 4\n",
      "10 4\n"
     ]
    }
   ],
   "source": [
    "#test\n",
    "#range minimum query ver\n",
    "class segment_tree():\n",
    "    def __init__(self,size):\n",
    "        self.size = 2**(size.bit_length()-1) #完全二分木にするためsizeを2冪にする\n",
    "        self.iden = float(\"inf\")\n",
    "        self.dat = [self.iden]*(self.size*2-1) #(2n-1)のleaf\n",
    "        \n",
    "a = segment_tree(7)\n",
    "a.dat"
   ]
  },
  {
   "cell_type": "code",
   "execution_count": 32,
   "id": "5877b42d-eb1e-43a9-8916-f5b9e63dab45",
   "metadata": {},
   "outputs": [
    {
     "name": "stdout",
     "output_type": "stream",
     "text": [
      "97\n",
      "a\n"
     ]
    }
   ],
   "source": [
    "import sys\n",
    "sys.setrecursionlimit(10**7)\n",
    "n, m = map(int, input().split())\n",
    " \n",
    "way_forward = [[] for _ in range(n+1)]\n",
    "way_reverse = [[] for _ in range(n+1)]\n",
    " \n",
    "for i in range(m):\n",
    "  a, b = map(int, input().split())\n",
    "  way_forward[a].append(b)\n",
    "  way_reverse[b].append(a)\n",
    " \n",
    "postorder = []\n",
    " \n",
    "seen = [False] * (n+1)\n",
    " \n",
    "def dfs(x, way, cnt):\n",
    "  seen[x] = True\n",
    "  cnt += 1\n",
    "  for w in way[x]:\n",
    "    if seen[w]:\n",
    "      continue\n",
    "    else:\n",
    "      cnt = dfs(w, way, cnt)\n",
    "  postorder.append(x)\n",
    "  return cnt\n",
    " \n",
    "for i in range(1, n+1):\n",
    "  if not seen[i]:\n",
    "    dfs(i, way_forward, 0)\n",
    " \n",
    "seen = [False] * (n+1)\n",
    " \n",
    "ans = 0\n",
    " \n",
    "posord = postorder[::-1]\n",
    " \n",
    "for i in posord:\n",
    "  if not seen[i]:\n",
    "    node_count = dfs(i, way_reverse, 0)\n",
    "    ans += node_count * (node_count-1) // 2\n",
    "    \n",
    "print(ans)"
   ]
  },
  {
   "cell_type": "code",
   "execution_count": 54,
   "id": "8d150e86-2f67-49fe-8667-0ebbf0fac6fc",
   "metadata": {},
   "outputs": [
    {
     "name": "stdout",
     "output_type": "stream",
     "text": [
      "0 6\n",
      "1 6\n"
     ]
    }
   ],
   "source": [
    "for i in range(5):\n",
    "    if i == 2:\n",
    "        break\n",
    "    for j in range(6,10):\n",
    "        if j == 7:\n",
    "            break\n",
    "        print(i,j)"
   ]
  },
  {
   "cell_type": "code",
   "execution_count": 16,
   "id": "515ecbce",
   "metadata": {},
   "outputs": [
    {
     "data": {
      "text/plain": [
       "1"
      ]
     },
     "execution_count": 16,
     "metadata": {},
     "output_type": "execute_result"
    }
   ],
   "source": [
    "from bisect import bisect_left\n",
    "a = [1,3,4,4,5]\n",
    "bisect_left(a,3)"
   ]
  },
  {
   "cell_type": "code",
   "execution_count": 39,
   "id": "95a27588",
   "metadata": {},
   "outputs": [
    {
     "data": {
      "text/plain": [
       "27692.960097989788"
      ]
     },
     "execution_count": 39,
     "metadata": {},
     "output_type": "execute_result"
    }
   ],
   "source": [
    "from math import pi\n",
    "1.74*10**5 / (2*pi)\n"
   ]
  },
  {
   "cell_type": "code",
   "execution_count": 44,
   "id": "961bed29",
   "metadata": {},
   "outputs": [
    {
     "data": {
      "image/png": "[encoded data removed]",
      "text/plain": [
       "<Figure size 432x288 with 1 Axes>"
      ]
     },
     "metadata": {
      "needs_background": "light"
     },
     "output_type": "display_data"
    }
   ],
   "source": [
    "from collections import Counter\n",
    "import numpy as np\n",
    "import matplotlib.pyplot as plt\n",
    "indexes = np.array([i for i in range(10)])\n",
    "values = [15,22,13,16,15,17,15,10,14,13]\n",
    "width = 1\n",
    "plt.bar(indexes, values, width)\n",
    "plt.xticks(indexes + width * 0.5,indexes)\n",
    "plot.show()"
   ]
  },
  {
   "cell_type": "code",
   "execution_count": 40,
   "id": "38da8572",
   "metadata": {},
   "outputs": [
    {
     "data": {
      "text/plain": [
       "27700.0"
      ]
     },
     "execution_count": 40,
     "metadata": {},
     "output_type": "execute_result"
    }
   ],
   "source": [
    "2.77*10**4"
   ]
  },
  {
   "cell_type": "code",
   "execution_count": null,
   "id": "be60af26",
   "metadata": {},
   "outputs": [],
   "source": [
    "6.566    34.4406534623\n",
    "11.43    79.6455575418\n",
    "5.35     25.2669390742\n",
    "7.174    39.3764846534\n",
    "8.998    55.466208982\n",
    "9.606    61.2313658136\n",
    "10.214   67.1866371661\n",
    "7.782    44.5315581438\n",
    "5.958    29.7337595249\n",
    "8.39     49.8973329148\n",
    "10.822   73.3264124104"
   ]
  }
 ],
 "metadata": {
  "kernelspec": {
   "display_name": "Python 3 (ipykernel)",
   "language": "python",
   "name": "python3"
  },
  "language_info": {
   "codemirror_mode": {
    "name": "ipython",
    "version": 3
   },
   "file_extension": ".py",
   "mimetype": "text/x-python",
   "name": "python",
   "nbconvert_exporter": "python",
   "pygments_lexer": "ipython3",
   "version": "3.8.8"
  }
 },
 "nbformat": 4,
 "nbformat_minor": 5
}
