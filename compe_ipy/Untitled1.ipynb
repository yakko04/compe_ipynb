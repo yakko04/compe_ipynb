{
 "cells": [
  {
   "cell_type": "code",
   "execution_count": 5,
   "id": "f5f6a700",
   "metadata": {},
   "outputs": [
    {
     "name": "stdin",
     "output_type": "stream",
     "text": [
      " 2 2\n",
      " 1 2 1\n",
      " 1 2 1\n"
     ]
    },
    {
     "name": "stdout",
     "output_type": "stream",
     "text": [
      "1\n",
      "1\n"
     ]
    }
   ],
   "source": [
    "#dijkstra\n",
    "#スタートnodeから全点の最短距離が入ったリストを作る\n",
    "#1,start pointを確定済にする。\n",
    "#2,全ての確定済nodeから隣り合うnodeに対し、startからの仮最短距離を出す。\n",
    "#3,2の確定されてないnodeのうち仮最短距離が短いものを確定済みとする。\n",
    "#adjacent_lは隣接リスト\n",
    "from heapq import heappop, heappush, heapify\n",
    "def dijkstra(start,nodes):\n",
    "    cost_list = [float(\"Inf\")] * nodes  #each nodes of min cost \n",
    "    cost_list[start] = 0  #cost of start point is 0\n",
    "    \n",
    "    check = [0] * nodes #determined cost of each nodes\n",
    "    #キューにはnodeとそのノードまで仮最短距離のタプルが入る。\n",
    "    #現在到達済みつまり(キューに入ったノード)の中で最も距離が短いものがpopされ確定済nodeになる。\n",
    "    hq = [(0,start)] #(cost,node)\n",
    "    \n",
    "    while hq:\n",
    "        determined_cost,node = heappop(hq) #popされたときにそのノードの最短距離は確定される。\n",
    "        check[node] = 1   #node is determined\n",
    "        \n",
    "        for next_node,edge_weight in adjacent_l[node]: #loop on all adjacent node\n",
    "            #そのノードが確定済みじゃないand自ノードの仮コストよりも小さいなら確定させる。\n",
    "            if check[next_node] == 0 and determined_cost + edge_weight < cost_list[next_node]:\n",
    "                cost_list[next_node] = determined_cost + edge_weight\n",
    "                heappush(hq, (cost_list[next_node],next_node) )\n",
    "                \n",
    "    return cost_list\n",
    "\n",
    "n,m = map(int,input().split())\n",
    "adjacent_l = [[] for _ in range(n)]\n",
    "for _ in range(m):\n",
    "    a,b,c = map(int,input().split())\n",
    "    adjacent_l[a-1].append((b-1,c))\n",
    "    adjacent_l[b-1].append((a-1,c))\n",
    "lf = dijkstra(0,n)\n",
    "ri = dijkstra(n-1,n)\n",
    "\n",
    "for i,j in zip(lf,ri):\n",
    "    print(i+j)"
   ]
  },
  {
   "cell_type": "code",
   "execution_count": 32,
   "id": "5877b42d-eb1e-43a9-8916-f5b9e63dab45",
   "metadata": {},
   "outputs": [
    {
     "name": "stdout",
     "output_type": "stream",
     "text": [
      "97\n",
      "a\n"
     ]
    }
   ],
   "source": [
    "print(ord(\"a\"))\n",
    "print(chr(97))"
   ]
  },
  {
   "cell_type": "code",
   "execution_count": 54,
   "id": "8d150e86-2f67-49fe-8667-0ebbf0fac6fc",
   "metadata": {},
   "outputs": [
    {
     "name": "stdout",
     "output_type": "stream",
     "text": [
      "0 6\n",
      "1 6\n"
     ]
    }
   ],
   "source": [
    "for i in range(5):\n",
    "    if i == 2:\n",
    "        break\n",
    "    for j in range(6,10):\n",
    "        if j == 7:\n",
    "            break\n",
    "        print(i,j)"
   ]
  },
  {
   "cell_type": "code",
   "execution_count": 16,
   "id": "515ecbce",
   "metadata": {},
   "outputs": [
    {
     "data": {
      "text/plain": [
       "1"
      ]
     },
     "execution_count": 16,
     "metadata": {},
     "output_type": "execute_result"
    }
   ],
   "source": [
    "from bisect import bisect_left\n",
    "a = [1,3,4,4,5]\n",
    "bisect_left(a,3)"
   ]
  },
  {
   "cell_type": "code",
   "execution_count": 39,
   "id": "95a27588",
   "metadata": {},
   "outputs": [
    {
     "data": {
      "text/plain": [
       "27692.960097989788"
      ]
     },
     "execution_count": 39,
     "metadata": {},
     "output_type": "execute_result"
    }
   ],
   "source": [
    "from math import pi\n",
    "1.74*10**5 / (2*pi)\n"
   ]
  },
  {
   "cell_type": "code",
   "execution_count": 44,
   "id": "961bed29",
   "metadata": {},
   "outputs": [
    {
     "data": {
      "image/png": "[encoded data removed]",
      "text/plain": [
       "<Figure size 432x288 with 1 Axes>"
      ]
     },
     "metadata": {
      "needs_background": "light"
     },
     "output_type": "display_data"
    }
   ],
   "source": [
    "from collections import Counter\n",
    "import numpy as np\n",
    "import matplotlib.pyplot as plt\n",
    "indexes = np.array([i for i in range(10)])\n",
    "values = [15,22,13,16,15,17,15,10,14,13]\n",
    "width = 1\n",
    "plt.bar(indexes, values, width)\n",
    "plt.xticks(indexes + width * 0.5,indexes)\n",
    "plot.show()"
   ]
  },
  {
   "cell_type": "code",
   "execution_count": 40,
   "id": "38da8572",
   "metadata": {},
   "outputs": [
    {
     "data": {
      "text/plain": [
       "27700.0"
      ]
     },
     "execution_count": 40,
     "metadata": {},
     "output_type": "execute_result"
    }
   ],
   "source": [
    "2.77*10**4"
   ]
  },
  {
   "cell_type": "code",
   "execution_count": null,
   "id": "be60af26",
   "metadata": {},
   "outputs": [],
   "source": [
    "6.566    34.4406534623\n",
    "11.43    79.6455575418\n",
    "5.35     25.2669390742\n",
    "7.174    39.3764846534\n",
    "8.998    55.466208982\n",
    "9.606    61.2313658136\n",
    "10.214   67.1866371661\n",
    "7.782    44.5315581438\n",
    "5.958    29.7337595249\n",
    "8.39     49.8973329148\n",
    "10.822   73.3264124104"
   ]
  }
 ],
 "metadata": {
  "kernelspec": {
   "display_name": "Python 3 (ipykernel)",
   "language": "python",
   "name": "python3"
  },
  "language_info": {
   "codemirror_mode": {
    "name": "ipython",
    "version": 3
   },
   "file_extension": ".py",
   "mimetype": "text/x-python",
   "name": "python",
   "nbconvert_exporter": "python",
   "pygments_lexer": "ipython3",
   "version": "3.8.8"
  }
 },
 "nbformat": 4,
 "nbformat_minor": 5
}
