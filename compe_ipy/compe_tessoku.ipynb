{
 "cells": [
  {
   "cell_type": "markdown",
   "metadata": {},
   "source": [
    "### 1.計算量"
   ]
  },
  {
   "cell_type": "code",
   "execution_count": 1,
   "metadata": {},
   "outputs": [
    {
     "name": "stdout",
     "output_type": "stream",
     "text": [
      "4\n"
     ]
    }
   ],
   "source": [
    "#01 The First Problem\n",
    "\n",
    "n = int(input())\n",
    "print(n**2)"
   ]
  },
  {
   "cell_type": "code",
   "execution_count": 3,
   "metadata": {},
   "outputs": [
    {
     "name": "stdout",
     "output_type": "stream",
     "text": [
      "Yes\n"
     ]
    }
   ],
   "source": [
    "#02 Linear Search\n",
    "n,x = map(int,input().split())\n",
    "a = list(map(int,input().split()))\n",
    "\n",
    "ans = \"Yes\" if x in a else \"No\"\n",
    "print(ans)\n",
    "\n"
   ]
  },
  {
   "cell_type": "code",
   "execution_count": 6,
   "metadata": {},
   "outputs": [
    {
     "name": "stdout",
     "output_type": "stream",
     "text": [
      "Yes\n"
     ]
    }
   ],
   "source": [
    "#03 Two Cards\n",
    "n,k = map(int,input().split())\n",
    "p = list(map(int,input().split()))\n",
    "q = list(map(int,input().split()))\n",
    "\n",
    "ans = \"No\"\n",
    "for i in range(n):\n",
    "    for j in range(n):\n",
    "        if p[i] + q[j] == k:\n",
    "            ans = \"Yes\"\n",
    "        \n",
    "    else:\n",
    "        continue\n",
    "    break\n",
    "print(ans)\n",
    "\n"
   ]
  },
  {
   "cell_type": "code",
   "execution_count": 17,
   "metadata": {},
   "outputs": [
    {
     "name": "stdout",
     "output_type": "stream",
     "text": [
      "0000001101\n"
     ]
    }
   ],
   "source": [
    "#04 Binary Representation 1\n",
    "#n進数変換\n",
    "n = int(input())\n",
    "# def bi(n):\n",
    "#     ans = \"\"\n",
    "#     while n:\n",
    "#         n,r = divmod(n,2)\n",
    "#         ans += str(r)\n",
    "#     return (ans + (10-len(ans))*\"0\")[::-1]\n",
    "#print(bi(n))\n",
    "ans = (bin(n)[2:])\n",
    "print((10-len(ans))*\"0\" + ans)\n",
    "    "
   ]
  },
  {
   "cell_type": "code",
   "execution_count": null,
   "metadata": {},
   "outputs": [],
   "source": [
    "#05 Three Cards\n",
    "#3重ループは間に合わないので\n",
    "n,k = map(int,input().split())\n",
    "ans = 0\n",
    "for i in range(1,n+1):\n",
    "    for j in range(1,n+1):\n",
    "        if 1 <= k - (i+j) <= n:\n",
    "            ans += 1\n",
    "print(ans)\n",
    "        \n",
    "\n"
   ]
  },
  {
   "cell_type": "markdown",
   "metadata": {},
   "source": [
    "### 2.cumulative sum"
   ]
  },
  {
   "cell_type": "code",
   "execution_count": null,
   "metadata": {},
   "outputs": [],
   "source": [
    "#06 How Many Guests?\n",
    "#cumulative sum\n",
    "from itertools import accumulate\n",
    "n,q = map(int,input().split())\n",
    "a = list(map(int,input().split()))\n",
    "cum_sum = [0]\n",
    "for i in range(n):\n",
    "    cum_sum.append(cum_sum[i] + a[i])  #cum_sum = [0] + list(accumulate(a))\n",
    "\n",
    "for i in range(q):\n",
    "    l,r = map(int,input().split())\n",
    "    print(cum_sum[r] - cum_sum[l-1])\n"
   ]
  },
  {
   "cell_type": "code",
   "execution_count": null,
   "metadata": {},
   "outputs": [],
   "source": [
    "#07 Event Attendance\n",
    "#出来席のある日だけカウントその後cumulative sum\n",
    "from itertools import accumulate\n",
    "d = int(input())\n",
    "n = int(input())\n",
    "\n",
    "attend = [0]*(d+1) #rの次の日に退席扱い\n",
    "for i in range(n):\n",
    "    l,r = map(int,input().split())\n",
    "    attend[l-1] += 1\n",
    "    attend[r] -= 1\n",
    "cum_sum = list(accumulate(attend))\n",
    "for i in range(d):\n",
    "    print(cum_sum[i])\n"
   ]
  },
  {
   "cell_type": "code",
   "execution_count": null,
   "metadata": {},
   "outputs": [],
   "source": [
    "#08 Two Dimensional Sum\n",
    "#一方向の累積和をとる\n",
    "from itertools import accumulate\n",
    "h,w = map(int,input().split())\n",
    "x = [list(map(int,input().split())) for _ in range(h)]\n",
    "for i in range(h):\n",
    "    x[i] = ([0] + list(accumulate(x[i])))\n",
    "\n",
    "q = int(input())\n",
    "for i in range(q):\n",
    "    a,b,c,d = map(int,input().split())\n",
    "    ans = 0\n",
    "    for j in range(a-1,c):\n",
    "        ans += x[j][d] - x[j][b-1]\n",
    "    print(ans)\n",
    "\n",
    "\n"
   ]
  },
  {
   "cell_type": "code",
   "execution_count": null,
   "metadata": {},
   "outputs": [],
   "source": [
    "#09 Winter in ALGO Kingdom\n",
    "#一方向の累積をとる\n",
    "from itertools import accumulate\n",
    "h,w,n = map(int,input().split())\n",
    "z = [[0] *(w+1) for _ in range(h)]\n",
    "for i in range(n):\n",
    "    a,b,c,d = map(int,input().split())\n",
    "    for j in range(a-1,c):\n",
    "        z[j][b-1] += 1\n",
    "        z[j][d] -= 1\n",
    "\n",
    "for i in range(h):\n",
    "    z[i] = list(accumulate(z[i]))\n",
    "for i in range(h):\n",
    "    print(*z[i][:w])\n",
    "    \n"
   ]
  },
  {
   "cell_type": "code",
   "execution_count": null,
   "metadata": {},
   "outputs": [],
   "source": [
    "#10 Resort Hotel\n",
    "#二方向各でその時における最大収容人数の部屋を求める\n",
    "n = int(input())\n",
    "a = list(map(int,input().split()))\n",
    "d = int(input())\n",
    "\n",
    "left_mx = [0] * (n+1)\n",
    "right_mx = [0] * (n+1)\n",
    "\n",
    "for i in range(n):\n",
    "    left_mx[i+1] = max(left_mx[i],a[i])\n",
    "    right_mx[n-i-1] = max(right_mx[n-i],a[n-i-1])\n",
    "\n",
    "for i in range(d):\n",
    "    l,r = map(int,input().split())\n",
    "    print(max(left_mx[l-1],right_mx[r]))\n",
    "\n",
    "\n"
   ]
  },
  {
   "cell_type": "markdown",
   "metadata": {},
   "source": [
    "### 3. binary search"
   ]
  },
  {
   "cell_type": "code",
   "execution_count": 6,
   "metadata": {},
   "outputs": [
    {
     "name": "stdout",
     "output_type": "stream",
     "text": [
      "8\n"
     ]
    }
   ],
   "source": [
    "#11 Binary Search 1\n",
    "#二分探索\n",
    "import bisect\n",
    "n,x = map(int,input().split())\n",
    "a = list(map(int,input().split()))\n",
    "print(bisect.bisect_right(a,x))"
   ]
  },
  {
   "cell_type": "code",
   "execution_count": 10,
   "metadata": {},
   "outputs": [
    {
     "name": "stdout",
     "output_type": "stream",
     "text": [
      "6\n"
     ]
    }
   ],
   "source": [
    "#12 Printer\n",
    "#10**9の範囲でプリントできるか二分探索　log2(10**9) * n\n",
    "n,k = map(int,input().split())\n",
    "a = list(map(int,input().split()))\n",
    "ans = float(\"inf\")\n",
    "\n",
    "left = 0\n",
    "right = 10**9\n",
    "while right > left:\n",
    "    mid = (left + right)//2\n",
    "\n",
    "    cnt = 0\n",
    "    for i in range(n):\n",
    "        cnt += mid//a[i]\n",
    "    \n",
    "    if cnt < k:    #cannot print on time\n",
    "        left = mid + 1\n",
    "    else:\n",
    "        ans = min(ans,mid)\n",
    "        right = mid\n",
    "\n",
    "print(ans)\n"
   ]
  },
  {
   "cell_type": "code",
   "execution_count": 11,
   "metadata": {},
   "outputs": [
    {
     "name": "stdout",
     "output_type": "stream",
     "text": [
      "11\n"
     ]
    }
   ],
   "source": [
    "#13 Close Pairs\n",
    "#最大の数字からそれ以下の要素で差がk以下で最大のものを求める 逆でもいい\n",
    "#最大の数値から順にそれ以下の数値を二分探索 O(nlogn)?\n",
    "import bisect\n",
    "n,k = map(int,input().split())\n",
    "a = list(map(int,input().split()))\n",
    "ans = 0\n",
    "\n",
    "for i in range(n-1):\n",
    "    idx = bisect.bisect_right(a,a[i]+k)\n",
    "    ans += idx - i - 1\n",
    "\n",
    "print(ans)\n",
    "\n",
    "\n",
    "\n",
    "\n"
   ]
  },
  {
   "cell_type": "code",
   "execution_count": 12,
   "metadata": {},
   "outputs": [
    {
     "name": "stdout",
     "output_type": "stream",
     "text": [
      "Yes\n"
     ]
    }
   ],
   "source": [
    "#14 Four Boxes\n",
    "#a,b と c,d のセットにする　その後二分探索\n",
    "import bisect\n",
    "n,k = map(int,input().split())\n",
    "a = list(map(int,input().split()))\n",
    "b = list(map(int,input().split()))\n",
    "c = list(map(int,input().split()))\n",
    "d = list(map(int,input().split()))\n",
    "\n",
    "e = []\n",
    "f = []\n",
    "\n",
    "for i in range(n):\n",
    "    for j in range(n):\n",
    "        e.append(a[i] + b[j])\n",
    "        f.append(c[i] + d[j])\n",
    "\n",
    "f.sort()\n",
    "\n",
    "ans = \"No\"\n",
    "for i in e:\n",
    "    idx = bisect.bisect_left(f,k-i)\n",
    "    if idx < n**2 and f[idx] == k - i:\n",
    "        ans = \"Yes\"\n",
    "        break\n",
    "print(ans)\n",
    "\n"
   ]
  },
  {
   "cell_type": "code",
   "execution_count": 2,
   "metadata": {},
   "outputs": [
    {
     "name": "stdout",
     "output_type": "stream",
     "text": [
      "2 4 1 3 2 "
     ]
    }
   ],
   "source": [
    "#15 Compression\n",
    "\n",
    "n = int(input())\n",
    "a = list(map(int,input().split()))\n",
    "b = sorted(list(set(a)))\n",
    "c = {b[i]:i+1 for i in range(len(b))}\n",
    "for i in range(n):\n",
    "    print(c[a[i]], end = \" \")"
   ]
  },
  {
   "cell_type": "markdown",
   "metadata": {},
   "source": [
    "### 4. Dynamic programming "
   ]
  },
  {
   "cell_type": "code",
   "execution_count": 4,
   "metadata": {},
   "outputs": [
    {
     "name": "stdout",
     "output_type": "stream",
     "text": [
      "8\n"
     ]
    }
   ],
   "source": [
    "#16 Dungeon 1\n",
    "#動的計画法\n",
    "n = int(input())\n",
    "a = list(map(int,input().split()))\n",
    "b = list(map(int,input().split()))\n",
    "\n",
    "dp = [float(\"inf\")] * (n)\n",
    "dp[0] = 0\n",
    "dp[1] = a[0]\n",
    "\n",
    "for i in range(2,n):\n",
    "    dp[i] = min(dp[i-1] + a[i-1], dp[i-2] + b[i-2]) #飛ばさず移動するか，一つ飛ばすか\n",
    "print(dp[-1])\n",
    "\n",
    "\n"
   ]
  },
  {
   "cell_type": "code",
   "execution_count": 6,
   "metadata": {},
   "outputs": [
    {
     "name": "stdout",
     "output_type": "stream",
     "text": [
      "1 2 4 5 6 8 10\n"
     ]
    }
   ],
   "source": [
    "#17 Dungeon 2\n",
    "#動的計画法\n",
    "#どこから来たか(そのノードで最小)の情報を持つ，最後に逆からたどる\n",
    "n = int(input())\n",
    "a = list(map(int,input().split()))\n",
    "b = list(map(int,input().split()))\n",
    "\n",
    "dp = [[float(\"inf\"),-1]] * (n)\n",
    "dp[0] = [0,-1]                #[最小コスト,from]\n",
    "dp[1] = [a[0],0]\n",
    "\n",
    "for i in range(2,n):\n",
    "    dp[i] = min([dp[i-1][0] + a[i-1],i-1],[dp[i-2][0] + b[i-2],i-2]) #飛ばさず移動するか，一つ飛ばすか\n",
    "\n",
    "fr = n-1\n",
    "ans = []\n",
    "while fr != -1:\n",
    "    ans.append(fr+1)\n",
    "    fr = dp[fr][1]\n",
    "print(len(ans))\n",
    "print(*ans[::-1])\n"
   ]
  },
  {
   "cell_type": "code",
   "execution_count": 10,
   "metadata": {},
   "outputs": [
    {
     "name": "stdout",
     "output_type": "stream",
     "text": [
      "No\n"
     ]
    }
   ],
   "source": [
    "#18 Subset Sum\n",
    "#動的計画法\n",
    "n,s = map(int,input().split())\n",
    "a = list(map(int,input().split()))\n",
    "\n",
    "dp = [[0] * (s+1) for _ in range(n+1)]\n",
    "\n",
    "for i in range(n):         #jを制限の値としたとき，i番目までの要素での最大値\n",
    "    for j in range(s+1):\n",
    "        if a[i] <= j:     #a[i] <= jの時は，a[i]を選ぶか選ばないか\n",
    "            dp[i+1][j] = max(dp[i][j], dp[i][j-a[i]] + a[i]) \n",
    "        else:             #a[i] > jの時は制限を超えるので選べない\n",
    "            dp[i+1][j] = dp[i][j]\n",
    "\n",
    "print(\"Yes\" if dp[n][s] == s else \"No\")\n"
   ]
  },
  {
   "cell_type": "code",
   "execution_count": 12,
   "metadata": {},
   "outputs": [
    {
     "name": "stdout",
     "output_type": "stream",
     "text": [
      "40\n"
     ]
    }
   ],
   "source": [
    "#19 Knapsack 1\n",
    "#動的計画法\n",
    "#容量制限wの以下で最大価値\n",
    "n,w = map(int,input().split())\n",
    "items = [tuple(map(int,input().split())) for _ in range(n)]\n",
    "\n",
    "dp = [[0] * (w+1) for _ in range(n+1)]  #tableの中身はvalue\n",
    "\n",
    "for i in range(n):     #i番目までのアイテムで重さj以下での最大価値\n",
    "    for j in range(w+1):\n",
    "        if items[i][0] <= j:   #items[i][0] <= j(制限のウェイトを超えない)時は，i番目のアイテムを選ぶか選ばないか\n",
    "            dp[i+1][j] = max(dp[i][j], dp[i][j-items[i][0]] + items[i][1])\n",
    "        else:                #items[i][0] > j(制限のウェイトを超える)時は選べない\n",
    "            dp[i+1][j] = dp[i][j]\n",
    "\n",
    "print(dp[n][w])"
   ]
  },
  {
   "cell_type": "code",
   "execution_count": 2,
   "metadata": {},
   "outputs": [
    {
     "name": "stdout",
     "output_type": "stream",
     "text": [
      "2\n"
     ]
    }
   ],
   "source": [
    "#20 LCS\n",
    "#動的計画法\n",
    "#dptableは横はsの文字，縦はtの文字中身はその時点での最大の長さ\n",
    "#tのi文字目までとsのj文字目までの最大の長さ\n",
    "s = input()\n",
    "t = input()\n",
    "\n",
    "dp = [[0] * (len(s)+1) for _ in range(len(t)+1)] #tableの中身はその時点での最大の長さ\n",
    "\n",
    "for i in range(len(t)):\n",
    "    for j in range(len(s)):\n",
    "        if t[i] == s[j]:\n",
    "            dp[i+1][j+1] = dp[i][j] + 1\n",
    "        else:\n",
    "            dp[i+1][j+1] = max(dp[i][j+1],dp[i+1][j])\n",
    "\n",
    "print(dp[-1][-1])\n",
    "\n",
    "\n"
   ]
  },
  {
   "cell_type": "code",
   "execution_count": null,
   "metadata": {},
   "outputs": [],
   "source": [
    "#21 Block Game\n",
    "#動的計画法 区間dp\n",
    "#indexは1から\n",
    "#dptableはlからrまでの区間での最大得点\n",
    "n = int(input())\n",
    "ind = [0] * (n+1)\n",
    "pnt = [0] * (n+1)\n",
    "for i in range(1, n+1):\n",
    "    ind[i], pnt[i] = map(int, input().split())\n",
    "\n",
    "dp = [[None] * (n+1) for _ in range(n+1)]\n",
    "dp[1][n] = 0 #区間[1からn]が残っている状態はスコア0\n",
    "\n",
    "for kukan in reversed(range(0,n-1)):\n",
    "    for l in range(1, n-kukan+1):\n",
    "        r = l + kukan\n",
    "\n",
    "        #左端をとって得点が入るか\n",
    "        score_l = 0\n",
    "        if l >= 2 and l <= ind[l-1] <= r:\n",
    "            score_l = pnt[l-1] \n",
    "\n",
    "        #右端をとって得点が入るか\n",
    "        score_r = 0\n",
    "        if r <= n-1 and l <= ind[r+1] <= r:\n",
    "            score_r = pnt[r+1]\n",
    "\n",
    "        #dp遷移\n",
    "        if l == 1: #右端をとるしかない\n",
    "            dp[l][r] = score_r + dp[l][r+1]\n",
    "        elif r == n: #左端をとるしかない\n",
    "            dp[l][r] = score_l + dp[l-1][r]\n",
    "        else:\n",
    "            dp[l][r] = max(score_l + dp[l-1][r], score_r + dp[l][r+1])\n",
    "\n",
    "ans = 0\n",
    "for i in range(1,n+1):\n",
    "    ans = max(ans, dp[i][i])\n",
    "print(ans)"
   ]
  },
  {
   "cell_type": "code",
   "execution_count": null,
   "metadata": {},
   "outputs": [
    {
     "name": "stdout",
     "output_type": "stream",
     "text": [
      "150\n"
     ]
    }
   ],
   "source": [
    "#22 Sugoroku\n",
    "#動的計画法\n",
    "#indexは0から\n",
    "#初期化は-10**9 0だと止まるはずのないところからいってしまう可能性があるため\n",
    "n = int(input())\n",
    "a = list(map(int,input().split()))\n",
    "b = list(map(int,input().split()))\n",
    "\n",
    "dp = [-10 ** 9] * n\n",
    "dp[0] = 0\n",
    "\n",
    "for i in range(n-1):\n",
    "    p_a = a[i]-1\n",
    "    p_b = b[i]-1\n",
    "    dp[p_a] = max(dp[p_a],dp[i]+100)\n",
    "    dp[p_b] = max(dp[p_b],dp[i]+150)\n",
    "\n",
    "\n",
    "print(dp[-1])\n"
   ]
  },
  {
   "cell_type": "code",
   "execution_count": 9,
   "metadata": {},
   "outputs": [
    {
     "name": "stdout",
     "output_type": "stream",
     "text": [
      "-1\n"
     ]
    }
   ],
   "source": [
    "#23 All free\n",
    "#動的計画法\n",
    "#bit dp（集合をdpのindexとして扱う)\n",
    "#i番目までのクーポンを使ってjという集合を作る最小クーポン数\n",
    "\n",
    "n,m = map(int,input().split())\n",
    "a = [list(map(int,input().split())) for _ in range(m)]\n",
    "\n",
    "dp = [[10**9] * (1<<n) for _ in range(m+1)]\n",
    "dp[0][0] = 0\n",
    "\n",
    "for i in range(1,m+1):\n",
    "    x = 0\n",
    "    for k in range(n):\n",
    "        x += a[i-1][k] * (1<<k)\n",
    "    for j in range(1<<n):\n",
    "\n",
    "        #i番目のクーポンを使わない\n",
    "        dp[i][j] = min(dp[i][j], dp[i-1][j])\n",
    "        #i番目のクーポンを使う\n",
    "        v = j | x   #jという集合にa[i-1]の集合を足す\n",
    "        dp[i][v] = min(dp[i][v], dp[i-1][j] + 1)\n",
    "\n",
    "if dp[m][(1<<n)-1] == 10**9:\n",
    "    print(-1)\n",
    "else:\n",
    "    print(dp[m][(1<<n)-1])\n",
    "    \n",
    "        \n",
    "        "
   ]
  },
  {
   "cell_type": "code",
   "execution_count": 11,
   "metadata": {},
   "outputs": [
    {
     "name": "stdout",
     "output_type": "stream",
     "text": [
      "1\n"
     ]
    }
   ],
   "source": [
    "#24 LIS(Longest Increasing Subsequence)\n",
    "#動的計画法?\n",
    "#dp[i] 長さiの増加部分列の最後の要素の最小値 ex {1,5}, {2,3} なら dp[1] = 1, dp[2] = 3\n",
    "#ここでは最長部分増加列の長さのみを求め，列の復元はしない\n",
    "from bisect import bisect_left\n",
    "n = int(input())\n",
    "a = list(map(int,input().split()))\n",
    "\n",
    "dp = [float(\"inf\")] * n\n",
    "for i in range(n):\n",
    "    dp[bisect_left(dp,a[i])] = a[i]\n",
    "\n",
    "print(bisect_left(dp,float(\"inf\")))\n",
    "\n"
   ]
  },
  {
   "cell_type": "code",
   "execution_count": null,
   "metadata": {},
   "outputs": [
    {
     "name": "stdout",
     "output_type": "stream",
     "text": [
      "6\n"
     ]
    }
   ],
   "source": [
    "#25 Number of Routes\n",
    "#動的計画法\n",
    "\n",
    "h,w = map(int,input().split())\n",
    "c = [list(input()) for _ in range(h)]\n",
    "\n",
    "c[0][0] = 1\n",
    "\n",
    "for i in range(h):\n",
    "    for j in range(w):\n",
    "        if i == 0 and j == 0:\n",
    "            continue\n",
    "\n",
    "        if c[i][j] == \"#\":\n",
    "            c[i][j] = 0\n",
    "        elif i == 0:\n",
    "            c[i][j] = c[i][j-1]\n",
    "        elif j == 0:\n",
    "            c[i][j] = c[i-1][j]\n",
    "        else:\n",
    "            c[i][j] = c[i-1][j] + c[i][j-1]\n",
    "\n",
    "print(c[-1][-1])\n",
    "\n",
    "\n"
   ]
  },
  {
   "cell_type": "markdown",
   "metadata": {},
   "source": [
    "### 5. math"
   ]
  },
  {
   "cell_type": "code",
   "execution_count": 21,
   "metadata": {},
   "outputs": [
    {
     "name": "stdout",
     "output_type": "stream",
     "text": [
      "Yes\n",
      "Yes\n",
      "No\n",
      "No\n"
     ]
    }
   ],
   "source": [
    "#26 Prime Check\n",
    "#素数判定 (1より大きい数値)\n",
    "\n",
    "q = int(input())\n",
    "for i in range(q):\n",
    "    x = int(input())\n",
    "\n",
    "    for j in range(2,int(x**0.5)+1):\n",
    "        if x % j == 0:\n",
    "            print(\"No\")\n",
    "            break\n",
    "    else:\n",
    "        print(\"Yes\")"
   ]
  },
  {
   "cell_type": "code",
   "execution_count": null,
   "metadata": {},
   "outputs": [
    {
     "name": "stdout",
     "output_type": "stream",
     "text": [
      "11\n",
      "11\n"
     ]
    }
   ],
   "source": [
    "#27 Calculate GCD\n",
    "#最大公約数(euclidの互除法)\n",
    "#ほとんどの言語にgcd function\n",
    "from math import gcd\n",
    "a,b = map(int,input().split())\n",
    "print(gcd(a,b))\n",
    "\n",
    "# while b:\n",
    "#     a,b = b,a%b\n",
    "# print(a)\n"
   ]
  },
  {
   "cell_type": "code",
   "execution_count": null,
   "metadata": {},
   "outputs": [
    {
     "name": "stdout",
     "output_type": "stream",
     "text": [
      "9999\n"
     ]
    }
   ],
   "source": [
    "#28 Black board\n",
    "#modの性質\n",
    "mod = 10000\n",
    "ans = 0\n",
    "n = int(input())\n",
    "for i in range(n):\n",
    "    t,a = input().split()\n",
    "    ans = eval(str(ans) + t + a) % mod\n",
    "    print(ans)"
   ]
  },
  {
   "cell_type": "code",
   "execution_count": null,
   "metadata": {},
   "outputs": [
    {
     "name": "stdout",
     "output_type": "stream",
     "text": [
      "534365113\n",
      "534365113\n"
     ]
    }
   ],
   "source": [
    "#29 Power \n",
    "#modの性質\n",
    "#べき乗を繰り返し二乗法\n",
    "a,b = map(int,input().split())\n",
    "mod = 1000000007\n",
    "print(pow(a,b,mod))\n",
    "\n",
    "def powmod(x,y,m):\n",
    "    ans = 1\n",
    "    #i = 0\n",
    "    while y > 0:\n",
    "        if y & 1:\n",
    "            #ans = ans * x**(2**i) % m\n",
    "            ans = ans * x % m\n",
    "        y >>= 1\n",
    "        #i += 1\n",
    "        x = x**2 % m    # [x, x^2, x^4] = [x^(2^0), x^(2^1), x^(2^2)]\n",
    "    return ans\n",
    "print(powmod(a,b,mod))\n",
    "\n",
    "\n"
   ]
  },
  {
   "cell_type": "code",
   "execution_count": null,
   "metadata": {},
   "outputs": [
    {
     "name": "stdout",
     "output_type": "stream",
     "text": [
      "6\n",
      "6\n"
     ]
    }
   ],
   "source": [
    "#30 Combination\n",
    "#modの性質\n",
    "#除算を掛算に a/b と a*b**(mod-2)\n",
    "from math import comb\n",
    "n,r = map(int,input().split())\n",
    "mod = 10**9 + 7\n",
    "print(comb(n,r)%mod)\n",
    "\n",
    "def division(a,b,m):\n",
    "    return (a*pow(b,m-2,m)) % m\n",
    "#bunshi\n",
    "a = 1\n",
    "for i in range(1,n+1):\n",
    "    a = (a*i) % mod\n",
    "#bunbo\n",
    "b = 1\n",
    "for i in range(1,r+1):\n",
    "    b = (b*i) % mod\n",
    "for i in range(1,n-r+1):\n",
    "    b = (b*i) % mod\n",
    "print(division(a,b,mod))"
   ]
  },
  {
   "cell_type": "code",
   "execution_count": null,
   "metadata": {},
   "outputs": [
    {
     "name": "stdout",
     "output_type": "stream",
     "text": [
      "14\n"
     ]
    }
   ],
   "source": [
    "#31 Divisors\n",
    "#包徐原理\n",
    "n = int(input())\n",
    "print(n//3 + n//5 - n//15)"
   ]
  },
  {
   "cell_type": "code",
   "execution_count": null,
   "metadata": {},
   "outputs": [],
   "source": [
    "#32 Game1\n",
    "#必勝法 dp\n",
    "#最終状態から逆算\n",
    "n,a,b, = map(int,input().split())\n",
    "dp = [0] * (n+1) # 0:負け 1:勝ち　逆算なので負け状態で初期化\n",
    "#dp[0:min(a,b)] = [0] * min(a,b)\n",
    "\n",
    "for i in range(min(a,b),n+1):\n",
    "    if dp[i-a] == 0 or dp[i-b] == 0:\n",
    "        dp[i] = 1\n",
    "    # else:\n",
    "    #     dp[i] = 0\n",
    "\n",
    "print(\"First\" if dp[n] else \"Second\")\n"
   ]
  },
  {
   "cell_type": "code",
   "execution_count": 7,
   "metadata": {},
   "outputs": [
    {
     "name": "stdout",
     "output_type": "stream",
     "text": [
      "First\n"
     ]
    }
   ],
   "source": [
    "#33 Game2\n",
    "#必勝法 ニム和\n",
    "#2進数で，各桁の和がすべて偶数(排他的論理和が0)となる状態が負け\n",
    "#初期状態で決まる\n",
    "n = int(input())\n",
    "a = list(map(int,input().split()))\n",
    "nim = a[0]\n",
    "for x in a[1:]:\n",
    "    nim ^= x\n",
    "\n",
    "print(\"First\" if nim else \"Second\")\n"
   ]
  },
  {
   "cell_type": "code",
   "execution_count": 8,
   "metadata": {},
   "outputs": [
    {
     "name": "stdout",
     "output_type": "stream",
     "text": [
      "First\n"
     ]
    }
   ],
   "source": [
    "#34 Game3\n",
    "#必勝法 Grundy数  Mex = 集合に含まれない一番小さい値\n",
    "#ex Mex({0,1}) = 2, Mex({0,2,3}) = 1\n",
    "#N個のNimに対する Grundy数のXor Sum が　0なら負け\n",
    "n,x,y = map(int,input().split())\n",
    "a = list(map(int,input().split()))\n",
    "grundy = [0] * 100001    #N個の山の各値時のGrundy数を入れる\n",
    "\n",
    "for i in range(100001):\n",
    "    Transit = [False,False,False] #Trueならそのインデックス遷移できる(集合にある)\n",
    "    \n",
    "    if i >= x:\n",
    "        Transit[grundy[i-x]] = True\n",
    "    if i >= y:\n",
    "        Transit[grundy[i-y]] = True\n",
    "\n",
    "    if Transit[0] == False:\n",
    "        grundy[i] = 0\n",
    "    elif Transit[1] == False:\n",
    "        grundy[i] = 1\n",
    "    else:\n",
    "        grundy[i] = 2\n",
    "\n",
    "xor_sum = 0\n",
    "for x in a:\n",
    "    xor_sum ^= grundy[x]\n",
    "\n",
    "print(\"First\" if xor_sum else \"Second\")\n",
    "\n",
    "\n"
   ]
  },
  {
   "cell_type": "code",
   "execution_count": null,
   "metadata": {},
   "outputs": [
    {
     "name": "stdout",
     "output_type": "stream",
     "text": [
      "3\n"
     ]
    }
   ],
   "source": [
    "#35 Game4\n",
    "#minimax法?\n",
    "#下の段から最大最小を動的計画法で埋めていく　\n",
    "\n",
    "n = int(input())\n",
    "now = list(map(int,input().split()))\n",
    "\n",
    "next = [-1] * n\n",
    "\n",
    "for i in range(n-1):\n",
    "    for j in range(n-1-i):\n",
    "        \n",
    "        if (i+n) % 2 == 0: #最大化\n",
    "            next[j] = max(now[j], now[j+1])\n",
    "        else:\n",
    "            next[j] = min(now[j],now[j+1])\n",
    "\n",
    "    now = next\n",
    "    next = [-1] * (n-i)\n",
    "    \n",
    "print(now[0])\n",
    "\n",
    "\n"
   ]
  },
  {
   "cell_type": "markdown",
   "metadata": {},
   "source": [
    "### 6.考察テクニック"
   ]
  },
  {
   "cell_type": "code",
   "execution_count": 16,
   "metadata": {},
   "outputs": [
    {
     "name": "stdout",
     "output_type": "stream",
     "text": [
      "Yes\n"
     ]
    }
   ],
   "source": [
    "#36 Travel\n",
    "#N*Nマスの偶奇\n",
    "\n",
    "n,k = map(int,input().split())\n",
    "\n",
    "if k >= (2*n-2) and k%2 == 0:\n",
    "    print(\"Yes\")\n",
    "else:\n",
    "    print(\"No\")"
   ]
  },
  {
   "cell_type": "code",
   "execution_count": null,
   "metadata": {},
   "outputs": [
    {
     "name": "stdout",
     "output_type": "stream",
     "text": [
      "702\n"
     ]
    }
   ],
   "source": [
    "#37 Travel2\n",
    "#足された回数を考える\n",
    "#a1*n + a2*n + ... = n(a1+a2+...) \n",
    "\n",
    "n,m,b = map(int,input().split())\n",
    "a = list(map(int,input().split()))\n",
    "c = list(map(int,input().split()))\n",
    "\n",
    "print(sum(a)*m + sum(c)*n + b*m*n)"
   ]
  },
  {
   "cell_type": "code",
   "execution_count": null,
   "metadata": {},
   "outputs": [
    {
     "name": "stdout",
     "output_type": "stream",
     "text": [
      "113\n"
     ]
    }
   ],
   "source": [
    "#38 Black Company 1\n",
    "#上限の値は？\n",
    "\n",
    "d,n = map(int,input().split())\n",
    "work_time = [24] * (d+1)\n",
    "for i in range(n):\n",
    "    l,r,h = map(int,input().split())\n",
    "    for j in range(l,r+1):\n",
    "        work_time[j] = min(h,work_time[j])\n",
    "\n",
    "print(sum(work_time[1:]))\n"
   ]
  },
  {
   "cell_type": "code",
   "execution_count": null,
   "metadata": {},
   "outputs": [],
   "source": [
    "#39 Interval Scheduling Problem\n",
    "#区間スケジュール\n",
    "#終了の早い順にソート\n",
    "\n",
    "n = int(input())\n"
   ]
  }
 ],
 "metadata": {
  "kernelspec": {
   "display_name": "base",
   "language": "python",
   "name": "python3"
  },
  "language_info": {
   "codemirror_mode": {
    "name": "ipython",
    "version": 3
   },
   "file_extension": ".py",
   "mimetype": "text/x-python",
   "name": "python",
   "nbconvert_exporter": "python",
   "pygments_lexer": "ipython3",
   "version": "3.10.14"
  }
 },
 "nbformat": 4,
 "nbformat_minor": 2
}
