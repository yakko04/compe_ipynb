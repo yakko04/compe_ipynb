{
 "cells": [
  {
   "cell_type": "code",
   "execution_count": 1,
   "id": "8e278da2",
   "metadata": {},
   "outputs": [
    {
     "name": "stdout",
     "output_type": "stream",
     "text": [
      "3\n",
      "4\n",
      "4\n"
     ]
    }
   ],
   "source": [
    "n,q = map(int,input().split())\n",
    "a = list(map(int,input().split()))\n",
    "alis = [0] * n\n",
    "tmp = 0\n",
    "for i in range(n-1):\n",
    "    tmp += abs(a[i]-a[i+1])\n",
    "\n",
    "for i in range(q):\n",
    "    l,r,v = map(int,input().split())\n",
    "    l -= 1\n",
    "    r -= 1\n",
    "    if l > 0:\n",
    "        prev = abs(alis[l]-alis[l-1])\n",
    "        alis[l] += v\n",
    "        tmp += abs(alis[l]-alis[l-1]) - prev\n",
    "        #print(i,tmp)\n",
    "    if r < (n-1):\n",
    "        prev = abs(alis[r]-alis[r+1])\n",
    "        alis[r] += v\n",
    "        tmp += abs(alis[r]-alis[r+1]) - prev\n",
    "        #print(i,tmp)\n",
    "    print(tmp)"
   ]
  },
  {
   "cell_type": "code",
   "execution_count": 6,
   "id": "f4d340f3",
   "metadata": {},
   "outputs": [
    {
     "name": "stdout",
     "output_type": "stream",
     "text": [
      "-21\n"
     ]
    },
    {
     "ename": "TypeError",
     "evalue": "int() argument must be a string, a bytes-like object or a real number, not 'complex'",
     "output_type": "error",
     "traceback": [
      "\u001b[1;31m---------------------------------------------------------------------------\u001b[0m",
      "\u001b[1;31mTypeError\u001b[0m                                 Traceback (most recent call last)",
      "Cell \u001b[1;32mIn[6], line 9\u001b[0m\n\u001b[0;32m      7\u001b[0m     temp_y2 \u001b[38;5;241m=\u001b[39m x2 \u001b[38;5;241m-\u001b[39m d\n\u001b[0;32m      8\u001b[0m     \u001b[38;5;28mprint\u001b[39m(temp_y2)\n\u001b[1;32m----> 9\u001b[0m     y_a,y_b \u001b[38;5;241m=\u001b[39m \u001b[38;5;28;43mint\u001b[39;49m\u001b[43m(\u001b[49m\u001b[43mtemp_y2\u001b[49m\u001b[38;5;241;43m*\u001b[39;49m\u001b[38;5;241;43m*\u001b[39;49m\u001b[38;5;241;43m0.5\u001b[39;49m\u001b[43m)\u001b[49m,\u001b[38;5;28mint\u001b[39m(temp_y2\u001b[38;5;241m*\u001b[39m\u001b[38;5;241m*\u001b[39m\u001b[38;5;241m0.5\u001b[39m)\u001b[38;5;241m+\u001b[39m\u001b[38;5;241m1\u001b[39m\n\u001b[0;32m     10\u001b[0m     ans \u001b[38;5;241m=\u001b[39m \u001b[38;5;28mmin\u001b[39m(ans, \u001b[38;5;28mabs\u001b[39m(x2 \u001b[38;5;241m+\u001b[39m y_a\u001b[38;5;241m*\u001b[39m\u001b[38;5;241m*\u001b[39m\u001b[38;5;241m2\u001b[39m \u001b[38;5;241m-\u001b[39m d), \u001b[38;5;28mabs\u001b[39m(x2 \u001b[38;5;241m+\u001b[39m y_b\u001b[38;5;241m*\u001b[39m\u001b[38;5;241m*\u001b[39m\u001b[38;5;241m2\u001b[39m \u001b[38;5;241m-\u001b[39m d))\n\u001b[0;32m     12\u001b[0m \u001b[38;5;28mprint\u001b[39m(ans)\n",
      "\u001b[1;31mTypeError\u001b[0m: int() argument must be a string, a bytes-like object or a real number, not 'complex'"
     ]
    }
   ],
   "source": [
    "d = int(input())\n",
    "\n",
    "ans = float('inf')\n",
    "\n",
    "for x in range(int(d**0.5) + 1):\n",
    "    x2 = x**2\n",
    "    temp_y2 = abs(x2 - d)\n",
    "    print(temp_y2)\n",
    "    y_a,y_b = int(temp_y2**0.5),int(temp_y2**0.5)+1\n",
    "    ans = min(ans, abs(x2 + y_a**2 - d), abs(x2 + y_b**2 - d))\n",
    "\n",
    "print(ans)"
   ]
  },
  {
   "cell_type": "code",
   "execution_count": 4,
   "id": "3bcb1aa5",
   "metadata": {},
   "outputs": [
    {
     "name": "stdout",
     "output_type": "stream",
     "text": [
      "328 62863\n",
      "18.110770276274835 250.72494889819004\n"
     ]
    }
   ],
   "source": [
    "#xの値を全探索?　Dは最大で2*10**2 (x**2 <= 2*10**12)なので　探すxの範囲は0<=x<=10**6"
   ]
  },
  {
   "cell_type": "code",
   "execution_count": 16,
   "id": "77e6fdbd",
   "metadata": {},
   "outputs": [
    {
     "ename": "ValueError",
     "evalue": "too many values to unpack (expected 3)",
     "output_type": "error",
     "traceback": [
      "\u001b[1;31m---------------------------------------------------------------------------\u001b[0m",
      "\u001b[1;31mValueError\u001b[0m                                Traceback (most recent call last)",
      "\u001b[1;32m<ipython-input-16-9fde780236de>\u001b[0m in \u001b[0;36m<module>\u001b[1;34m\u001b[0m\n\u001b[0;32m     19\u001b[0m \u001b[1;33m\u001b[0m\u001b[0m\n\u001b[0;32m     20\u001b[0m \u001b[1;32mfor\u001b[0m \u001b[0m_\u001b[0m \u001b[1;32min\u001b[0m \u001b[0mrange\u001b[0m\u001b[1;33m(\u001b[0m\u001b[0mm\u001b[0m\u001b[1;33m)\u001b[0m\u001b[1;33m:\u001b[0m\u001b[1;33m\u001b[0m\u001b[1;33m\u001b[0m\u001b[0m\n\u001b[1;32m---> 21\u001b[1;33m     \u001b[0ma\u001b[0m\u001b[1;33m,\u001b[0m\u001b[0mb\u001b[0m\u001b[1;33m,\u001b[0m\u001b[0mc\u001b[0m \u001b[1;33m=\u001b[0m \u001b[0mmap\u001b[0m\u001b[1;33m(\u001b[0m\u001b[0mint\u001b[0m\u001b[1;33m,\u001b[0m\u001b[0minput\u001b[0m\u001b[1;33m(\u001b[0m\u001b[1;33m)\u001b[0m\u001b[1;33m.\u001b[0m\u001b[0msplit\u001b[0m\u001b[1;33m(\u001b[0m\u001b[1;33m)\u001b[0m\u001b[1;33m)\u001b[0m\u001b[1;33m\u001b[0m\u001b[1;33m\u001b[0m\u001b[0m\n\u001b[0m\u001b[0;32m     22\u001b[0m     \u001b[0madj\u001b[0m\u001b[1;33m[\u001b[0m\u001b[0ma\u001b[0m\u001b[1;33m-\u001b[0m\u001b[1;36m1\u001b[0m\u001b[1;33m]\u001b[0m\u001b[1;33m.\u001b[0m\u001b[0mappend\u001b[0m\u001b[1;33m(\u001b[0m\u001b[1;33m(\u001b[0m\u001b[0mb\u001b[0m\u001b[1;33m-\u001b[0m\u001b[1;36m1\u001b[0m\u001b[1;33m,\u001b[0m\u001b[0mc\u001b[0m\u001b[1;33m)\u001b[0m\u001b[1;33m)\u001b[0m\u001b[1;33m\u001b[0m\u001b[1;33m\u001b[0m\u001b[0m\n\u001b[0;32m     23\u001b[0m     \u001b[0madj\u001b[0m\u001b[1;33m[\u001b[0m\u001b[0mb\u001b[0m\u001b[1;33m-\u001b[0m\u001b[1;36m1\u001b[0m\u001b[1;33m]\u001b[0m\u001b[1;33m.\u001b[0m\u001b[0mappend\u001b[0m\u001b[1;33m(\u001b[0m\u001b[1;33m(\u001b[0m\u001b[0ma\u001b[0m\u001b[1;33m-\u001b[0m\u001b[1;36m1\u001b[0m\u001b[1;33m,\u001b[0m\u001b[0mc\u001b[0m\u001b[1;33m)\u001b[0m\u001b[1;33m)\u001b[0m\u001b[1;33m\u001b[0m\u001b[1;33m\u001b[0m\u001b[0m\n",
      "\u001b[1;31mValueError\u001b[0m: too many values to unpack (expected 3)"
     ]
    }
   ],
   "source": [
    "def dij(s,n):                    #start node, num of nodes\n",
    "    dis_l = [float(\"inf\")] * n   \n",
    "    dis_l[s] = 0\n",
    "    chk = [0] * n                \n",
    "    hq = [(0,s)]   #dis,node\n",
    "    \n",
    "    while hq:\n",
    "        dis,node = heappop(hq)   \n",
    "        chk[node] = 1           #node is determined\n",
    "        for node2,cost in adj[node]:\n",
    "            if chk[node2] == 0 and dis+cost < dis_l[node2]:\n",
    "                dis_l[node2] = dis + cost\n",
    "                heappush(hq, (dis_l[node2],node2))\n",
    "    return dis_l\n",
    "\n",
    "\n",
    "n,m = map(int,input().split())\n",
    "adj = [[] for _ in range(n)]\n",
    "\n",
    "for _ in range(m):\n",
    "    a,b,c = map(int,input().split())\n",
    "    adj[a-1].append((b-1,c))\n",
    "    adj[b-1].append((a-1,c))\n",
    "\n",
    "first = dij(0,n)\n",
    "second = dij(n-1,n)\n",
    "\n",
    "for i in range(n):\n",
    "    print(first[i] + second[i])"
   ]
  },
  {
   "cell_type": "code",
   "execution_count": 16,
   "id": "4d08e970-9820-47fb-bcff-520c03402493",
   "metadata": {},
   "outputs": [
    {
     "name": "stdout",
     "output_type": "stream",
     "text": [
      "[[[-1, -1, -1, -1], [-1, -1, -1, -1], [-1, -1, -1, -1]], [[-1, -1, -1, -1], [-1, -1, -1, -1], [-1, -1, -1, -1]], [[-1, -1, -1, -1], [-1, -1, -1, -1], [-1, -1, -1, -1]], [[-1, -1, -1, -1], [-1, -1, -1, -1], [-1, -1, -1, -1]], [[-1, -1, -1, -1], [-1, -1, -1, -1], [-1, -1, -1, -1]]]\n"
     ]
    }
   ],
   "source": [
    "chk = [[[-1,-1,-1,-1] for _ in range(3)] for _ in range(5)]\n",
    "print(chk)"
   ]
  },
  {
   "cell_type": "code",
   "execution_count": 2,
   "id": "c75888aa-6984-4f86-ad7a-6e4498660d02",
   "metadata": {},
   "outputs": [],
   "source": [
    "#素因数分解 trial division\n",
    "def pri_fact(n):\n",
    "    a = []\n",
    "    while n % 2 == 0:\n",
    "        a.append(2)\n",
    "        n //= 2\n",
    "    f = 3\n",
    "    while f * f <= n:\n",
    "        if n % f == 0:\n",
    "            a.append(f)\n",
    "            n //= f\n",
    "        else:\n",
    "            f += 2\n",
    "    if n != 1:\n",
    "        a.append(n)\n",
    "    return a"
   ]
  },
  {
   "cell_type": "code",
   "execution_count": 2,
   "id": "6601a089",
   "metadata": {},
   "outputs": [
    {
     "data": {
      "text/plain": [
       "5"
      ]
     },
     "execution_count": 2,
     "metadata": {},
     "output_type": "execute_result"
    }
   ],
   "source": [
    "import random\n",
    "a = random.choice([1,2,3,4,5,6])\n",
    "a"
   ]
  },
  {
   "cell_type": "code",
   "execution_count": 15,
   "id": "b021ee23",
   "metadata": {},
   "outputs": [
    {
     "name": "stdout",
     "output_type": "stream",
     "text": [
      "1\n",
      "2\n",
      "3\n",
      "4\n",
      "4\n"
     ]
    }
   ],
   "source": [
    "#LazySegTree (RUQ) Range Update Query\n",
    "def segfunc(x,y):\n",
    "    return max(x,y)\n",
    "class LazySegTree_RUQ:\n",
    "    def __init__(self,ini_lis,segfunc,ide):\n",
    "        n = len(ini_lis)\n",
    "        self.segfunc = segfunc\n",
    "        self.ide = ide\n",
    "        self.num = 2**((n-1).bit_length())\n",
    "        self.tree = [ide]*2*self.num\n",
    "        self.lazy = [None]*2*self.num\n",
    "\n",
    "        for i in range(n):\n",
    "            self.tree[self.num + i] = ini_lis[i]\n",
    "        for i in range(self.num-1,0,-1):\n",
    "            self.tree[i] = self.segfunc(self.tree[2*i], self.tree[2*i+1])\n",
    "        \n",
    "    def gindex(self,l,r):\n",
    "        l += self.num\n",
    "        r += self.num\n",
    "        lm = l>>(l&-l).bit_length()\n",
    "        rm = r>>(r&-r).bit_length()\n",
    "        while r>l:\n",
    "            if l<=lm:\n",
    "                yield l\n",
    "            if r<=rm:\n",
    "                yield r\n",
    "            r >>= 1\n",
    "            l >>= 1\n",
    "        while l:\n",
    "            yield l\n",
    "            l >>= 1\n",
    "    def propagates(self,*ids):\n",
    "        for i in reversed(ids):\n",
    "            v = self.lazy[i]\n",
    "            if v is None:\n",
    "                continue\n",
    "            self.lazy[i] = None\n",
    "            self.lazy[2*i] = v\n",
    "            self.lazy[2*i+1] = v\n",
    "            self.tree[2*i] = v\n",
    "            self.tree[2*i+1] = v\n",
    "    def update(self,l,r,x):\n",
    "        ids = self.gindex(l,r)\n",
    "        self.propagates(*self.gindex(l,r))\n",
    "        l += self.num\n",
    "        r += self.num\n",
    "        while l<r:\n",
    "            if l&1:\n",
    "                self.lazy[l] = x\n",
    "                self.tree[l] = x\n",
    "                l += 1\n",
    "            if r&1:\n",
    "                self.lazy[r-1] = x\n",
    "                self.tree[r-1] = x\n",
    "            r >>= 1\n",
    "            l >>= 1\n",
    "        for i in ids:\n",
    "            self.tree[i] = self.segfunc(self.tree[2*i], self.tree[2*i+1])\n",
    "\n",
    "    def query(self,l,r):\n",
    "        ids = self.gindex(l,r)\n",
    "        self.propagates(*self.gindex(l,r))\n",
    "        res = self.ide\n",
    "        l += self.num\n",
    "        r += self.num\n",
    "        while l<r:\n",
    "            if l&1:\n",
    "                res = self.segfunc(res,self.tree[l])\n",
    "                l += 1\n",
    "            if r&1:\n",
    "                res = self.segfunc(res,self.tree[r-1])\n",
    "            l >>= 1\n",
    "            r >>= 1\n",
    "\n",
    "        return res\n",
    "\n",
    "w,n = map(int,input().split())\n",
    "st = LazySegTree_RUQ([0]*w,segfunc,0)\n",
    "mx = 0\n",
    "\n",
    "for i in range(n):\n",
    "    L,R = map(int,input().split())\n",
    "    mx = st.query(L-1,R)\n",
    "    st.update(L-1,R,mx+1)\n",
    "    print(mx+1)"
   ]
  },
  {
   "cell_type": "code",
   "execution_count": 12,
   "id": "917bc3dd",
   "metadata": {},
   "outputs": [
    {
     "data": {
      "text/plain": [
       "[0, 0, 1, 0, 0, 0, 0, 0]"
      ]
     },
     "execution_count": 12,
     "metadata": {},
     "output_type": "execute_result"
    }
   ],
   "source": [
    "st.tree"
   ]
  },
  {
   "cell_type": "code",
   "execution_count": 5,
   "id": "3ea5c171",
   "metadata": {},
   "outputs": [
    {
     "ename": "ValueError",
     "evalue": "invalid literal for int() with base 10: ','",
     "output_type": "error",
     "traceback": [
      "\u001b[1;31m---------------------------------------------------------------------------\u001b[0m",
      "\u001b[1;31mValueError\u001b[0m                                Traceback (most recent call last)",
      "\u001b[1;32m<ipython-input-5-262fd054fab5>\u001b[0m in \u001b[0;36m<module>\u001b[1;34m\u001b[0m\n\u001b[0;32m      4\u001b[0m \u001b[0mc2\u001b[0m \u001b[1;33m=\u001b[0m \u001b[1;33m[\u001b[0m\u001b[1;33m-\u001b[0m\u001b[1;36m1\u001b[0m\u001b[1;33m]\u001b[0m \u001b[1;33m*\u001b[0m \u001b[0mn\u001b[0m\u001b[1;33m\u001b[0m\u001b[1;33m\u001b[0m\u001b[0m\n\u001b[0;32m      5\u001b[0m \u001b[1;33m\u001b[0m\u001b[0m\n\u001b[1;32m----> 6\u001b[1;33m \u001b[0mu\u001b[0m \u001b[1;33m=\u001b[0m \u001b[0mlist\u001b[0m\u001b[1;33m(\u001b[0m\u001b[0mmap\u001b[0m\u001b[1;33m(\u001b[0m\u001b[0mint\u001b[0m\u001b[1;33m,\u001b[0m\u001b[0minput\u001b[0m\u001b[1;33m(\u001b[0m\u001b[1;33m)\u001b[0m\u001b[1;33m.\u001b[0m\u001b[0msplit\u001b[0m\u001b[1;33m(\u001b[0m\u001b[1;33m)\u001b[0m\u001b[1;33m)\u001b[0m\u001b[1;33m)\u001b[0m\u001b[1;33m\u001b[0m\u001b[1;33m\u001b[0m\u001b[0m\n\u001b[0m\u001b[0;32m      7\u001b[0m \u001b[0mv\u001b[0m \u001b[1;33m=\u001b[0m \u001b[0mlist\u001b[0m\u001b[1;33m(\u001b[0m\u001b[0mmap\u001b[0m\u001b[1;33m(\u001b[0m\u001b[0mint\u001b[0m\u001b[1;33m,\u001b[0m\u001b[0minput\u001b[0m\u001b[1;33m(\u001b[0m\u001b[1;33m)\u001b[0m\u001b[1;33m.\u001b[0m\u001b[0msplit\u001b[0m\u001b[1;33m(\u001b[0m\u001b[1;33m)\u001b[0m\u001b[1;33m)\u001b[0m\u001b[1;33m)\u001b[0m\u001b[1;33m\u001b[0m\u001b[1;33m\u001b[0m\u001b[0m\n\u001b[0;32m      8\u001b[0m \u001b[1;33m\u001b[0m\u001b[0m\n",
      "\u001b[1;31mValueError\u001b[0m: invalid literal for int() with base 10: ','"
     ]
    }
   ],
   "source": [
    "from collections import Counter\n",
    "n,m,k = map(int,input().split())\n",
    "c1 = list(map(int,input().split()))\n",
    "c2 = [-1] * n\n",
    "\n",
    "u = list(map(int,input().split()))\n",
    "v = list(map(int,input().split()))\n",
    "\n",
    "adj = [[] for _ in range(n)]\n",
    "\n",
    "for nu,nv in zip(u,v):\n",
    "    adj[nu].append(nv)\n",
    "    adj[nv].append(nu)\n",
    "\n",
    "#main\n",
    "for time in range(k): \n",
    "    col_dic = [Counter() for _ in range(n)]\n",
    "\n",
    "    if time % 2 == 0:\n",
    "        #collect color of adjnode\n",
    "        for node in range(n):    #2つのfor文で4*10**3?\n",
    "            for adjnd in adj[node]:\n",
    "                col_dic[node][c1[adjnd]] += 1\n",
    "\n",
    "        #chage color \n",
    "        for i in range(n):\n",
    "            c2[i] = col_dic[i].most_common()[0][0]\n",
    "        print(col_dic)\n",
    "    else:\n",
    "        #collect color of adjnode\n",
    "        for node in range(n):\n",
    "            for adjnd in adj[node]:\n",
    "                col_dic[node][c2[adjnd]] += 1\n",
    "\n",
    "        #chage color \n",
    "        for i in range(n):\n",
    "            c1[i] = col_dic[i].most_common()[0][0]\n",
    "'''\n",
    "if k % 2 == 1:\n",
    "    print(c1)\n",
    "else:\n",
    "    print(c2)\n",
    "    '''\n",
    "print(c1)\n",
    "print(c2)"
   ]
  },
  {
   "cell_type": "code",
   "execution_count": 4,
   "id": "a4b42eca",
   "metadata": {},
   "outputs": [
    {
     "name": "stdout",
     "output_type": "stream",
     "text": [
      "[Counter({4: 1, 2: 1}), Counter(), Counter()]\n"
     ]
    },
    {
     "data": {
      "text/plain": [
       "4"
      ]
     },
     "execution_count": 4,
     "metadata": {},
     "output_type": "execute_result"
    }
   ],
   "source": [
    "from collections import Counter\n",
    "a = [Counter() for _ in range(3)]\n",
    "a[0][4] += 1\n",
    "a[0][2] += 1\n",
    "print(a)\n",
    "a[0].most_common()[0][0]"
   ]
  },
  {
   "cell_type": "code",
   "execution_count": 16,
   "id": "2ffa9c5d",
   "metadata": {},
   "outputs": [
    {
     "name": "stdout",
     "output_type": "stream",
     "text": [
      "3\n",
      "2\n",
      "1\n"
     ]
    }
   ],
   "source": [
    "for i in range(3,0,-1):\n",
    "    print(i)"
   ]
  },
  {
   "cell_type": "code",
   "execution_count": 4,
   "id": "a2636e1b",
   "metadata": {},
   "outputs": [
    {
     "ename": "",
     "evalue": "",
     "output_type": "error",
     "traceback": [
      "\u001b[1;31mCanceled future for execute_request message before replies were done"
     ]
    },
    {
     "ename": "",
     "evalue": "",
     "output_type": "error",
     "traceback": [
      "\u001b[1;31mThe Kernel crashed while executing code in the the current cell or a previous cell. Please review the code in the cell(s) to identify a possible cause of the failure. Click <a href='https://aka.ms/vscodeJupyterKernelCrash'>here</a> for more info. View Jupyter <a href='command:jupyter.viewOutput'>log</a> for further details."
     ]
    }
   ],
   "source": [
    "import sys\n",
    "sys.setrecursionlimit(10**5)\n",
    "n,x,y = map(int,input().split())\n",
    "adj = [[] for _ in range(n)]\n",
    "for _ in range(n-1):\n",
    "    u,v = map(int,input().split())\n",
    "    adj[u-1].append(v-1)\n",
    "    adj[v-1].append(u-1)\n",
    "start = x - 1\n",
    "chk = [0]*n\n",
    "ans = []\n",
    "def dfs(st):\n",
    "    chk[st] = 1\n",
    "    ans.append(st+1)\n",
    "    if st == y-1:\n",
    "        return ans\n",
    "    for i in adj[st]:\n",
    "        if chk[i] != 1:\n",
    "            dfs(i)\n",
    "print(dfs(start))"
   ]
  },
  {
   "cell_type": "code",
   "execution_count": null,
   "id": "de35f46c",
   "metadata": {},
   "outputs": [],
   "source": []
  }
 ],
 "metadata": {
  "interpreter": {
   "hash": "21e24828f9b54573a77423cba9518e5fe3e09a597a65fdf349ae9af384b07276"
  },
  "kernelspec": {
   "display_name": "Python 3.8.8 ('base')",
   "language": "python",
   "name": "python3"
  },
  "language_info": {
   "codemirror_mode": {
    "name": "ipython",
    "version": 3
   },
   "file_extension": ".py",
   "mimetype": "text/x-python",
   "name": "python",
   "nbconvert_exporter": "python",
   "pygments_lexer": "ipython3",
   "version": "3.10.13"
  }
 },
 "nbformat": 4,
 "nbformat_minor": 5
}
