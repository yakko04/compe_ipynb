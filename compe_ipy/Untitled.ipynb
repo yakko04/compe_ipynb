{
 "cells": [
  {
   "cell_type": "code",
   "execution_count": 5,
   "id": "8e278da2",
   "metadata": {},
   "outputs": [
    {
     "name": "stdout",
     "output_type": "stream",
     "text": [
      "1\n",
      "1\n",
      "0\n",
      "[3, 2, 4, 1]\n"
     ]
    }
   ],
   "source": [
    "import sys\n",
    "sys.setrecursionlimit(10**6)\n",
    "\n",
    "n,m = map(int,input().split())\n",
    "lis = [[] for _ in range(n+1)]\n",
    "rlis = [[] for _ in range(n+1)]\n",
    "for _ in range(m):\n",
    "    a,b = map(int,input().split())\n",
    "    lis[a].append(b)\n",
    "    rlis[b].append(a)\n",
    "\n",
    "topo = []\n",
    "chk1 = [0] * (n+1)\n",
    "chk2 = [0] * (n+1)\n",
    "\n",
    "def dfs(node):\n",
    "    chk1[node] = 1\n",
    "    for n in lis[node]:\n",
    "        if chk1[n] == 0:\n",
    "            dfs(n)\n",
    "    topo.append(node)\n",
    "\n",
    "def dfs2(node,c):\n",
    "    chk2[node] = 1\n",
    "    for n in rlis[node]:\n",
    "        if chk2[n] == 0:\n",
    "            c += 1\n",
    "            dfs2(n,c)\n",
    "    return c\n",
    "\n",
    "for i in range(1,n+1):\n",
    "    if chk1[i] == 0:\n",
    "        dfs(i)\n",
    "\n",
    "ans = 0\n",
    "\n",
    "for j in topo[::-1]:\n",
    "    cnt = 1\n",
    "    if chk2[j] == 0:\n",
    "        a = dfs2(2,cnt)\n",
    "        print(a)\n",
    "    ans += a*(a-1)*0.5\n",
    "print(int(ans))\n",
    "print(topo)\n"
   ]
  },
  {
   "cell_type": "code",
   "execution_count": 23,
   "id": "77e6fdbd",
   "metadata": {},
   "outputs": [
    {
     "ename": "ValueError",
     "evalue": "invalid literal for int() with base 10: 's'",
     "output_type": "error",
     "traceback": [
      "\u001b[1;31m---------------------------------------------------------------------------\u001b[0m",
      "\u001b[1;31mValueError\u001b[0m                                Traceback (most recent call last)",
      "\u001b[1;32m<ipython-input-23-9fde780236de>\u001b[0m in \u001b[0;36m<module>\u001b[1;34m\u001b[0m\n\u001b[0;32m     15\u001b[0m \u001b[1;33m\u001b[0m\u001b[0m\n\u001b[0;32m     16\u001b[0m \u001b[1;33m\u001b[0m\u001b[0m\n\u001b[1;32m---> 17\u001b[1;33m \u001b[0mn\u001b[0m\u001b[1;33m,\u001b[0m\u001b[0mm\u001b[0m \u001b[1;33m=\u001b[0m \u001b[0mmap\u001b[0m\u001b[1;33m(\u001b[0m\u001b[0mint\u001b[0m\u001b[1;33m,\u001b[0m\u001b[0minput\u001b[0m\u001b[1;33m(\u001b[0m\u001b[1;33m)\u001b[0m\u001b[1;33m.\u001b[0m\u001b[0msplit\u001b[0m\u001b[1;33m(\u001b[0m\u001b[1;33m)\u001b[0m\u001b[1;33m)\u001b[0m\u001b[1;33m\u001b[0m\u001b[1;33m\u001b[0m\u001b[0m\n\u001b[0m\u001b[0;32m     18\u001b[0m \u001b[0madj\u001b[0m \u001b[1;33m=\u001b[0m \u001b[1;33m[\u001b[0m\u001b[1;33m[\u001b[0m\u001b[1;33m]\u001b[0m \u001b[1;32mfor\u001b[0m \u001b[0m_\u001b[0m \u001b[1;32min\u001b[0m \u001b[0mrange\u001b[0m\u001b[1;33m(\u001b[0m\u001b[0mn\u001b[0m\u001b[1;33m)\u001b[0m\u001b[1;33m]\u001b[0m\u001b[1;33m\u001b[0m\u001b[1;33m\u001b[0m\u001b[0m\n\u001b[0;32m     19\u001b[0m \u001b[1;33m\u001b[0m\u001b[0m\n",
      "\u001b[1;31mValueError\u001b[0m: invalid literal for int() with base 10: 's'"
     ]
    }
   ],
   "source": [
    "def dij(s,n):                    #start node, num of nodes\n",
    "    dis_l = [float(\"inf\")] * n   \n",
    "    dis_l[s] = 0\n",
    "    chk = [0] * n                \n",
    "    hq = [(0,s)]   #dis,node\n",
    "    \n",
    "    while hq:\n",
    "        dis,node = heappop(hq)   \n",
    "        chk[node] = 1           #node is determined\n",
    "        for node2,cost in adj[node]:\n",
    "            if chk[node2] == 0 and dis+cost < dis_l[node2]:\n",
    "                dis_l[node2] = dis + cost\n",
    "                heappush(hq, (dis_l[node2],node2))\n",
    "    return dis_l\n",
    "\n",
    "\n",
    "n,m = map(int,input().split())\n",
    "adj = [[] for _ in range(n)]\n",
    "\n",
    "for _ in range(m):\n",
    "    a,b,c = map(int,input().split())\n",
    "    adj[a-1].append((b-1,c))\n",
    "    adj[b-1].append((a-1,c))\n",
    "\n",
    "first = dij(0,n)\n",
    "second = dij(n-1,n)\n",
    "\n",
    "for i in range(n):\n",
    "    print(first[i] + second[i])"
   ]
  },
  {
   "cell_type": "code",
   "execution_count": 16,
   "id": "4d08e970-9820-47fb-bcff-520c03402493",
   "metadata": {},
   "outputs": [
    {
     "name": "stdout",
     "output_type": "stream",
     "text": [
      "[[[-1, -1, -1, -1], [-1, -1, -1, -1], [-1, -1, -1, -1]], [[-1, -1, -1, -1], [-1, -1, -1, -1], [-1, -1, -1, -1]], [[-1, -1, -1, -1], [-1, -1, -1, -1], [-1, -1, -1, -1]], [[-1, -1, -1, -1], [-1, -1, -1, -1], [-1, -1, -1, -1]], [[-1, -1, -1, -1], [-1, -1, -1, -1], [-1, -1, -1, -1]]]\n"
     ]
    }
   ],
   "source": [
    "chk = [[[-1,-1,-1,-1] for _ in range(3)] for _ in range(5)]\n",
    "print(chk)"
   ]
  },
  {
   "cell_type": "code",
   "execution_count": 2,
   "id": "c75888aa-6984-4f86-ad7a-6e4498660d02",
   "metadata": {},
   "outputs": [],
   "source": [
    "#素因数分解 trial division\n",
    "def pri_fact(n):\n",
    "    a = []\n",
    "    while n % 2 == 0:\n",
    "        a.append(2)\n",
    "        n //= 2\n",
    "    f = 3\n",
    "    while f * f <= n:\n",
    "        if n % f == 0:\n",
    "            a.append(f)\n",
    "            n //= f\n",
    "        else:\n",
    "            f += 2\n",
    "    if n != 1:\n",
    "        a.append(n)\n",
    "    return a"
   ]
  },
  {
   "cell_type": "code",
   "execution_count": 3,
   "id": "6601a089",
   "metadata": {},
   "outputs": [
    {
     "name": "stdout",
     "output_type": "stream",
     "text": [
      "2\n"
     ]
    }
   ],
   "source": []
  },
  {
   "cell_type": "code",
   "execution_count": 5,
   "id": "3ea5c171",
   "metadata": {},
   "outputs": [
    {
     "ename": "ValueError",
     "evalue": "invalid literal for int() with base 10: ','",
     "output_type": "error",
     "traceback": [
      "\u001b[1;31m---------------------------------------------------------------------------\u001b[0m",
      "\u001b[1;31mValueError\u001b[0m                                Traceback (most recent call last)",
      "\u001b[1;32m<ipython-input-5-262fd054fab5>\u001b[0m in \u001b[0;36m<module>\u001b[1;34m\u001b[0m\n\u001b[0;32m      4\u001b[0m \u001b[0mc2\u001b[0m \u001b[1;33m=\u001b[0m \u001b[1;33m[\u001b[0m\u001b[1;33m-\u001b[0m\u001b[1;36m1\u001b[0m\u001b[1;33m]\u001b[0m \u001b[1;33m*\u001b[0m \u001b[0mn\u001b[0m\u001b[1;33m\u001b[0m\u001b[1;33m\u001b[0m\u001b[0m\n\u001b[0;32m      5\u001b[0m \u001b[1;33m\u001b[0m\u001b[0m\n\u001b[1;32m----> 6\u001b[1;33m \u001b[0mu\u001b[0m \u001b[1;33m=\u001b[0m \u001b[0mlist\u001b[0m\u001b[1;33m(\u001b[0m\u001b[0mmap\u001b[0m\u001b[1;33m(\u001b[0m\u001b[0mint\u001b[0m\u001b[1;33m,\u001b[0m\u001b[0minput\u001b[0m\u001b[1;33m(\u001b[0m\u001b[1;33m)\u001b[0m\u001b[1;33m.\u001b[0m\u001b[0msplit\u001b[0m\u001b[1;33m(\u001b[0m\u001b[1;33m)\u001b[0m\u001b[1;33m)\u001b[0m\u001b[1;33m)\u001b[0m\u001b[1;33m\u001b[0m\u001b[1;33m\u001b[0m\u001b[0m\n\u001b[0m\u001b[0;32m      7\u001b[0m \u001b[0mv\u001b[0m \u001b[1;33m=\u001b[0m \u001b[0mlist\u001b[0m\u001b[1;33m(\u001b[0m\u001b[0mmap\u001b[0m\u001b[1;33m(\u001b[0m\u001b[0mint\u001b[0m\u001b[1;33m,\u001b[0m\u001b[0minput\u001b[0m\u001b[1;33m(\u001b[0m\u001b[1;33m)\u001b[0m\u001b[1;33m.\u001b[0m\u001b[0msplit\u001b[0m\u001b[1;33m(\u001b[0m\u001b[1;33m)\u001b[0m\u001b[1;33m)\u001b[0m\u001b[1;33m)\u001b[0m\u001b[1;33m\u001b[0m\u001b[1;33m\u001b[0m\u001b[0m\n\u001b[0;32m      8\u001b[0m \u001b[1;33m\u001b[0m\u001b[0m\n",
      "\u001b[1;31mValueError\u001b[0m: invalid literal for int() with base 10: ','"
     ]
    }
   ],
   "source": [
    "from collections import Counter\n",
    "n,m,k = map(int,input().split())\n",
    "c1 = list(map(int,input().split()))\n",
    "c2 = [-1] * n\n",
    "\n",
    "u = list(map(int,input().split()))\n",
    "v = list(map(int,input().split()))\n",
    "\n",
    "adj = [[] for _ in range(n)]\n",
    "\n",
    "for nu,nv in zip(u,v):\n",
    "    adj[nu].append(nv)\n",
    "    adj[nv].append(nu)\n",
    "\n",
    "#main\n",
    "for time in range(k): \n",
    "    col_dic = [Counter() for _ in range(n)]\n",
    "\n",
    "    if time % 2 == 0:\n",
    "        #collect color of adjnode\n",
    "        for node in range(n):    #2つのfor文で4*10**3?\n",
    "            for adjnd in adj[node]:\n",
    "                col_dic[node][c1[adjnd]] += 1\n",
    "\n",
    "        #chage color \n",
    "        for i in range(n):\n",
    "            c2[i] = col_dic[i].most_common()[0][0]\n",
    "        print(col_dic)\n",
    "    else:\n",
    "        #collect color of adjnode\n",
    "        for node in range(n):\n",
    "            for adjnd in adj[node]:\n",
    "                col_dic[node][c2[adjnd]] += 1\n",
    "\n",
    "        #chage color \n",
    "        for i in range(n):\n",
    "            c1[i] = col_dic[i].most_common()[0][0]\n",
    "'''\n",
    "if k % 2 == 1:\n",
    "    print(c1)\n",
    "else:\n",
    "    print(c2)\n",
    "    '''\n",
    "print(c1)\n",
    "print(c2)"
   ]
  },
  {
   "cell_type": "code",
   "execution_count": 4,
   "id": "a4b42eca",
   "metadata": {},
   "outputs": [
    {
     "name": "stdout",
     "output_type": "stream",
     "text": [
      "[Counter({4: 1, 2: 1}), Counter(), Counter()]\n"
     ]
    },
    {
     "data": {
      "text/plain": [
       "4"
      ]
     },
     "execution_count": 4,
     "metadata": {},
     "output_type": "execute_result"
    }
   ],
   "source": [
    "from collections import Counter\n",
    "a = [Counter() for _ in range(3)]\n",
    "a[0][4] += 1\n",
    "a[0][2] += 1\n",
    "print(a)\n",
    "a[0].most_common()[0][0]"
   ]
  },
  {
   "cell_type": "code",
   "execution_count": 16,
   "id": "2ffa9c5d",
   "metadata": {},
   "outputs": [
    {
     "name": "stdout",
     "output_type": "stream",
     "text": [
      "3\n",
      "2\n",
      "1\n"
     ]
    }
   ],
   "source": [
    "for i in range(3,0,-1):\n",
    "    print(i)"
   ]
  },
  {
   "cell_type": "code",
   "execution_count": null,
   "id": "a2636e1b",
   "metadata": {},
   "outputs": [],
   "source": []
  }
 ],
 "metadata": {
  "interpreter": {
   "hash": "21e24828f9b54573a77423cba9518e5fe3e09a597a65fdf349ae9af384b07276"
  },
  "kernelspec": {
   "display_name": "Python 3.8.8 ('base')",
   "language": "python",
   "name": "python3"
  },
  "language_info": {
   "codemirror_mode": {
    "name": "ipython",
    "version": 3
   },
   "file_extension": ".py",
   "mimetype": "text/x-python",
   "name": "python",
   "nbconvert_exporter": "python",
   "pygments_lexer": "ipython3",
   "version": "3.8.8"
  }
 },
 "nbformat": 4,
 "nbformat_minor": 5
}
