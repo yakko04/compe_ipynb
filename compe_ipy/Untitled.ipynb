{
 "cells": [
  {
   "cell_type": "code",
   "execution_count": 28,
   "id": "8e278da2",
   "metadata": {},
   "outputs": [
    {
     "name": "stdout",
     "output_type": "stream",
     "text": [
      "Yes\n"
     ]
    }
   ],
   "source": [
    "import sys\n",
    "sys.setrecursionlimit(10**6)\n",
    "\n",
    "def dfs(y,x):\n",
    "    dyl = [-1,0,0,1]\n",
    "    dxl = [0,-1,1,0]\n",
    "\n",
    "    \n",
    "    chk[y][x] = 1\n",
    "    for d in range(4):\n",
    "        ny = y + dyl[d]\n",
    "        nx = x + dxl[d]\n",
    "\n",
    "        if 0 <= ny < h and 0 <= nx < w and maze[ny][nx] != '#' and chk[ny][nx] == 0:\n",
    "            dfs(ny,nx)\n",
    "\n",
    "h,w = map(int,input().split())\n",
    "maze = [list(input()) for _ in range(h)]\n",
    "chk = [[0] * w for _ in range(h)]\n",
    "\n",
    "for i in range(h):\n",
    "    for j in range(w):\n",
    "        if maze[i][j] == 's':\n",
    "            start = (i,j)\n",
    "        elif maze[i][j] == 'g':\n",
    "            goal = (i,j)\n",
    "dfs(start[0],start[1])\n",
    "if chk[goal[0]][goal[1]] == 1:\n",
    "    print(\"Yes\")\n",
    "else:\n",
    "    print(\"No\")\n",
    "\n",
    "\n",
    "\n",
    "\n",
    "\n",
    "\n"
   ]
  },
  {
   "cell_type": "code",
   "execution_count": 23,
   "id": "77e6fdbd",
   "metadata": {},
   "outputs": [
    {
     "ename": "ValueError",
     "evalue": "invalid literal for int() with base 10: 's'",
     "output_type": "error",
     "traceback": [
      "\u001b[1;31m---------------------------------------------------------------------------\u001b[0m",
      "\u001b[1;31mValueError\u001b[0m                                Traceback (most recent call last)",
      "\u001b[1;32m<ipython-input-23-9fde780236de>\u001b[0m in \u001b[0;36m<module>\u001b[1;34m\u001b[0m\n\u001b[0;32m     15\u001b[0m \u001b[1;33m\u001b[0m\u001b[0m\n\u001b[0;32m     16\u001b[0m \u001b[1;33m\u001b[0m\u001b[0m\n\u001b[1;32m---> 17\u001b[1;33m \u001b[0mn\u001b[0m\u001b[1;33m,\u001b[0m\u001b[0mm\u001b[0m \u001b[1;33m=\u001b[0m \u001b[0mmap\u001b[0m\u001b[1;33m(\u001b[0m\u001b[0mint\u001b[0m\u001b[1;33m,\u001b[0m\u001b[0minput\u001b[0m\u001b[1;33m(\u001b[0m\u001b[1;33m)\u001b[0m\u001b[1;33m.\u001b[0m\u001b[0msplit\u001b[0m\u001b[1;33m(\u001b[0m\u001b[1;33m)\u001b[0m\u001b[1;33m)\u001b[0m\u001b[1;33m\u001b[0m\u001b[1;33m\u001b[0m\u001b[0m\n\u001b[0m\u001b[0;32m     18\u001b[0m \u001b[0madj\u001b[0m \u001b[1;33m=\u001b[0m \u001b[1;33m[\u001b[0m\u001b[1;33m[\u001b[0m\u001b[1;33m]\u001b[0m \u001b[1;32mfor\u001b[0m \u001b[0m_\u001b[0m \u001b[1;32min\u001b[0m \u001b[0mrange\u001b[0m\u001b[1;33m(\u001b[0m\u001b[0mn\u001b[0m\u001b[1;33m)\u001b[0m\u001b[1;33m]\u001b[0m\u001b[1;33m\u001b[0m\u001b[1;33m\u001b[0m\u001b[0m\n\u001b[0;32m     19\u001b[0m \u001b[1;33m\u001b[0m\u001b[0m\n",
      "\u001b[1;31mValueError\u001b[0m: invalid literal for int() with base 10: 's'"
     ]
    }
   ],
   "source": [
    "def dij(s,n):                    #start node, num of nodes\n",
    "    dis_l = [float(\"inf\")] * n   \n",
    "    dis_l[s] = 0\n",
    "    chk = [0] * n                \n",
    "    hq = [(0,s)]   #dis,node\n",
    "    \n",
    "    while hq:\n",
    "        dis,node = heappop(hq)   \n",
    "        chk[node] = 1           #node is determined\n",
    "        for node2,cost in adj[node]:\n",
    "            if chk[node2] == 0 and dis+cost < dis_l[node2]:\n",
    "                dis_l[node2] = dis + cost\n",
    "                heappush(hq, (dis_l[node2],node2))\n",
    "    return dis_l\n",
    "\n",
    "\n",
    "n,m = map(int,input().split())\n",
    "adj = [[] for _ in range(n)]\n",
    "\n",
    "for _ in range(m):\n",
    "    a,b,c = map(int,input().split())\n",
    "    adj[a-1].append((b-1,c))\n",
    "    adj[b-1].append((a-1,c))\n",
    "\n",
    "first = dij(0,n)\n",
    "second = dij(n-1,n)\n",
    "\n",
    "for i in range(n):\n",
    "    print(first[i] + second[i])"
   ]
  },
  {
   "cell_type": "code",
   "execution_count": 16,
   "id": "4d08e970-9820-47fb-bcff-520c03402493",
   "metadata": {},
   "outputs": [
    {
     "name": "stdout",
     "output_type": "stream",
     "text": [
      "[[[-1, -1, -1, -1], [-1, -1, -1, -1], [-1, -1, -1, -1]], [[-1, -1, -1, -1], [-1, -1, -1, -1], [-1, -1, -1, -1]], [[-1, -1, -1, -1], [-1, -1, -1, -1], [-1, -1, -1, -1]], [[-1, -1, -1, -1], [-1, -1, -1, -1], [-1, -1, -1, -1]], [[-1, -1, -1, -1], [-1, -1, -1, -1], [-1, -1, -1, -1]]]\n"
     ]
    }
   ],
   "source": [
    "chk = [[[-1,-1,-1,-1] for _ in range(3)] for _ in range(5)]\n",
    "print(chk)"
   ]
  },
  {
   "cell_type": "code",
   "execution_count": 2,
   "id": "c75888aa-6984-4f86-ad7a-6e4498660d02",
   "metadata": {},
   "outputs": [],
   "source": [
    "#素因数分解 trial division\n",
    "def pri_fact(n):\n",
    "    a = []\n",
    "    while n % 2 == 0:\n",
    "        a.append(2)\n",
    "        n //= 2\n",
    "    f = 3\n",
    "    while f * f <= n:\n",
    "        if n % f == 0:\n",
    "            a.append(f)\n",
    "            n //= f\n",
    "        else:\n",
    "            f += 2\n",
    "    if n != 1:\n",
    "        a.append(n)\n",
    "    return a"
   ]
  },
  {
   "cell_type": "code",
   "execution_count": 3,
   "id": "6601a089",
   "metadata": {},
   "outputs": [
    {
     "name": "stdout",
     "output_type": "stream",
     "text": [
      "2\n"
     ]
    }
   ],
   "source": []
  },
  {
   "cell_type": "code",
   "execution_count": null,
   "id": "3ea5c171",
   "metadata": {},
   "outputs": [],
   "source": []
  }
 ],
 "metadata": {
  "kernelspec": {
   "display_name": "Python 3",
   "language": "python",
   "name": "python3"
  },
  "language_info": {
   "codemirror_mode": {
    "name": "ipython",
    "version": 3
   },
   "file_extension": ".py",
   "mimetype": "text/x-python",
   "name": "python",
   "nbconvert_exporter": "python",
   "pygments_lexer": "ipython3",
   "version": "3.8.8"
  }
 },
 "nbformat": 4,
 "nbformat_minor": 5
}
