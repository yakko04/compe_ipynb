{
 "cells": [
  {
   "cell_type": "code",
   "execution_count": 4,
   "id": "88539ba3",
   "metadata": {},
   "outputs": [
    {
     "name": "stdout",
     "output_type": "stream",
     "text": [
      "75 nagano matsumoto\n",
      "28 nagano sugadaira\n",
      "34 nagano ueda\n",
      "128 nagano ina\n",
      "105 nagano nobeyama\n",
      "67 matsumoto sugadaira\n",
      "51 matsumoto ueda\n",
      "53 matsumoto ina\n",
      "98 matsumoto nobeyama\n",
      "16 sugadaira ueda\n",
      "113 sugadaira ina\n",
      "77 sugadaira nobeyama\n",
      "97 ueda ina\n",
      "76 ueda nobeyama\n",
      "90 ina nobeyama\n"
     ]
    }
   ],
   "source": [
    "print(\"a\")"
   ]
  },
  {
   "cell_type": "code",
   "execution_count": 1,
   "id": "26ab27f2",
   "metadata": {},
   "outputs": [
    {
     "name": "stdout",
     "output_type": "stream",
     "text": [
      "nodes of graph g:\n",
      "[0, 1, 2, 10, 11, 12, 20, 21]\n",
      "\n",
      "weighted edges of graph g:\n",
      "(0, 1) weight = 18\n",
      "(0, 10) weight = 16\n",
      "(1, 11) weight = 12\n",
      "(2, 12) weight = 13\n",
      "(2, 11) weight = 18\n",
      "(10, 11) weight = 17\n",
      "(10, 20) weight = 14\n",
      "(10, 21) weight = 11\n",
      "(11, 12) weight = 20\n",
      "(20, 21) weight = 15\n",
      "\n"
     ]
    },
    {
     "data": {
      "image/png": "[encoded data removed]",
      "text/plain": [
       "<Figure size 432x288 with 1 Axes>"
      ]
     },
     "metadata": {},
     "output_type": "display_data"
    },
    {
     "data": {
      "image/png": "[encoded data removed]",
      "text/plain": [
       "<Figure size 432x288 with 1 Axes>"
      ]
     },
     "metadata": {},
     "output_type": "display_data"
    },
    {
     "name": "stdout",
     "output_type": "stream",
     "text": [
      "dictionary that maps pairs of nodes to distances between them:\n",
      "{0: {0: 0, 10: 16, 1: 18, 21: 27, 20: 30, 11: 30, 2: 48, 12: 50}, 1: {1: 0, 11: 12, 0: 18, 10: 29, 2: 30, 12: 32, 21: 40, 20: 43}, 2: {2: 0, 12: 13, 11: 18, 1: 30, 10: 35, 21: 46, 0: 48, 20: 49}, 10: {10: 0, 21: 11, 20: 14, 0: 16, 11: 17, 1: 29, 2: 35, 12: 37}, 11: {11: 0, 1: 12, 10: 17, 2: 18, 12: 20, 21: 28, 0: 30, 20: 31}, 12: {12: 0, 2: 13, 11: 20, 1: 32, 10: 37, 21: 48, 0: 50, 20: 51}, 20: {20: 0, 10: 14, 21: 15, 0: 30, 11: 31, 1: 43, 2: 49, 12: 51}, 21: {21: 0, 10: 11, 20: 15, 0: 27, 11: 28, 1: 40, 2: 46, 12: 48}}\n",
      "\n",
      "distance between  0 and 11 = 30\n",
      "distance between 12 and 20 = 51\n"
     ]
    }
   ],
   "source": [
    "# coding: utf-8\n",
    "\n",
    "# モジュール networkx をインポート、以後 nx という名前で使う。\n",
    "import networkx as nx\n",
    "\n",
    "# モジュール matplotlib.pyplot をインポート、以後 plt という名前で使う。\n",
    "# グラフの描画のため。\n",
    "import matplotlib.pyplot as plt\n",
    "\n",
    "######################################################################\n",
    "# グラフを生成する\n",
    "######################################################################\n",
    "\n",
    "# gnl は頂点のリスト。\n",
    "# gel は辺のリスト。\n",
    "# 辺のリストは、頂点2個と辺重みが並んだタプルのリストとする。\n",
    "gnl = [0, 1, 2, 10, 11, 12, 20, 21]\n",
    "gel = [(0,    1,  18),\n",
    "       (0,   10,  16),\n",
    "       (1,   11,  12),\n",
    "       (10,  11,  17),\n",
    "       (11,  12,  20),\n",
    "       (2,   12,  13),\n",
    "       (11,   2,  18),\n",
    "       (10,  20,  14),\n",
    "       (20,  21,  15),\n",
    "       (10,  21,  11)]\n",
    "\n",
    "# グラフのインスタンスを生成する。\n",
    "# この時点では、頂点も辺ももたない。\n",
    "g = nx.Graph()\n",
    "\n",
    "# グラフ g に、頂点と辺を与える。\n",
    "# 頂点のリストと辺のリストからそれぞれ与える。\n",
    "# 辺については、辺重みもあわせて与える。\n",
    "g.add_nodes_from(gnl)\n",
    "g.add_weighted_edges_from(gel, 'weight')\n",
    "\n",
    "######################################################################\n",
    "# 生成したグラフに関する情報を表示する\n",
    "######################################################################\n",
    "\n",
    "# グラフ g の頂点を表示する。\n",
    "print('nodes of graph g:')\n",
    "print(g.nodes())\n",
    "print('')\n",
    "\n",
    "# グラフ g の辺を表示する。\n",
    "# 辺重みもあわせて表示する。\n",
    "print('weighted edges of graph g:')\n",
    "for e in g.edges():\n",
    "    print(e, 'weight =', g[e[0]][e[1]]['weight'])\n",
    "print('')\n",
    "\n",
    "######################################################################\n",
    "# グラフを描画する\n",
    "######################################################################\n",
    "\n",
    "# 描画の際の、各頂点の座標を、ディクショナリとして与える。\n",
    "gpos = {0: (0, 0), 1: (1, 0), 2: (2, 0),\n",
    "        10: (0, 1), 11: (1, 1), 12: (2, 1),\n",
    "        20: (0, 2), 21: (1, 2), 22: (2, 2)}\n",
    "\n",
    "# グラフ g を描画する。\n",
    "nx.draw_networkx(g, gpos, with_labels=True)\n",
    "\n",
    "# グラフ g の辺重みを描画する。\n",
    "gweight = nx.get_edge_attributes(g, 'weight')\n",
    "nx.draw_networkx_edge_labels(g, gpos, edge_labels=gweight)\n",
    "\n",
    "plt.show()\n",
    "\n",
    "######################################################################\n",
    "# 辺重み付きグラフに対する、様々な最適化問題を解くアルゴリズム\n",
    "######################################################################\n",
    "\n",
    "######################################################################\n",
    "# 最小全域木\n",
    "######################################################################\n",
    "\n",
    "# グラフ g の最小全域木を生成する。\n",
    "# 求めた結果をグラフ h とする。\n",
    "# グラフ g の辺重みは、グラフ h に引き継がれる。\n",
    "h = nx.minimum_spanning_tree(g, weight='weight')\n",
    "\n",
    "# グラフ h （すなわち、グラフ g の最小全域木）を描画する。\n",
    "# 各頂点の座標は、グラフ g のものを流用する。\n",
    "nx.draw_networkx(h, gpos, with_labels=True)\n",
    "\n",
    "# グラフ h の辺重みを描画する。\n",
    "hweight = nx.get_edge_attributes(h, 'weight')\n",
    "nx.draw_networkx_edge_labels(h, gpos, edge_labels=hweight)\n",
    "\n",
    "plt.show()\n",
    "\n",
    "######################################################################\n",
    "# 最短路\n",
    "######################################################################\n",
    "\n",
    "# グラフ g の辺重みを距離とみなし、\n",
    "# すべての頂点の組について、それぞれ最短距離を求める。\n",
    "# 結果は、ディクショナリをキーとするディクショナリとして与えられる。\n",
    "# 注意：最短路が、必ずしも最小全域木の辺を通るわけではない。\n",
    "print('dictionary that maps pairs of nodes to distances between them:')\n",
    "saitankyori_dic = dict(nx.shortest_path_length(g, weight='weight'))\n",
    "print(saitankyori_dic)\n",
    "print('')\n",
    "\n",
    "# 次の例のように、ディクショナリにキーを 2 つ与えることにより、\n",
    "# 頂点の組についての最短距離を得られる。\n",
    "print('distance between  0 and 11 =', saitankyori_dic[ 0][11])\n",
    "print('distance between 12 and 20 =', saitankyori_dic[12][20])\n"
   ]
  },
  {
   "cell_type": "code",
   "execution_count": 18,
   "id": "e143c871",
   "metadata": {},
   "outputs": [
    {
     "name": "stdout",
     "output_type": "stream",
     "text": [
      "99\n"
     ]
    }
   ],
   "source": [
    "import time\n",
    "import math \n",
    "t = 100\n",
    "x = time.time()\n",
    "time.sleep(1)\n",
    "z = math.floor(time.time() - x)\n",
    "print(t - z)"
   ]
  },
  {
   "cell_type": "code",
   "execution_count": 57,
   "id": "49c06915",
   "metadata": {},
   "outputs": [
    {
     "name": "stdout",
     "output_type": "stream",
     "text": [
      " 999999999999999999 1000000000000000000\n",
      "1746\n"
     ]
    }
   ],
   "source": []
  },
  {
   "cell_type": "code",
   "execution_count": 49,
   "id": "502670ad",
   "metadata": {},
   "outputs": [
    {
     "name": "stdout",
     "output_type": "stream",
     "text": [
      "-2.4492935982947064e-16\n"
     ]
    }
   ],
   "source": [
    "from math import pi,sin,cos,atan2\n",
    "print(sin(2*pi))"
   ]
  },
  {
   "cell_type": "code",
   "execution_count": 25,
   "id": "4edf800c",
   "metadata": {},
   "outputs": [
    {
     "name": "stdout",
     "output_type": "stream",
     "text": [
      "0.7000000000000001\n",
      "[[-0.70710678]\n",
      " [ 0.70710678]]\n",
      "1.0\n",
      "[[-0.4472136 ]\n",
      " [-0.89442719]]\n",
      "[[-0.94280904  0.47140452]\n",
      " [-0.74535599 -0.74535599]]\n",
      "[[0.7 0. ]\n",
      " [0.  1. ]]\n"
     ]
    }
   ],
   "source": [
    "import numpy as np\n",
    "np.set_printoptions(suppress=True)\n",
    "\n",
    "a = np.array([[4/5,1/10],\n",
    "             [1/5,9/10]])\n",
    "b = np.array([300000,300000])\n",
    "\n",
    "w,v = np.linalg.eig(a)\n",
    "\n",
    "for i in range(w.size):\n",
    "    eigenva = w[i]\n",
    "    \n",
    "    eigenve = v.T[i].reshape(-1,1)\n",
    "    \n",
    "    print(eigenva)\n",
    "    print(eigenve)\n",
    "    \n",
    "vi = np.linalg.inv(v)\n",
    "\n",
    "print(np.matmul(vi, np.matmul(a, v)))"
   ]
  },
  {
   "cell_type": "code",
   "execution_count": 44,
   "id": "0f121b78",
   "metadata": {},
   "outputs": [
    {
     "name": "stdout",
     "output_type": "stream",
     "text": [
      "[0.5 1. ]\n",
      "[[0.5 0. ]\n",
      " [0.  1. ]]\n"
     ]
    }
   ],
   "source": [
    "import numpy as np\n",
    "a = np.array([[2/3,1/6],\n",
    "             [1/3,5/6]])\n",
    "\n",
    "vec,p = np.linalg.eig(a)\n",
    "print(vec)\n",
    "pi = np.linalg.inv(p)\n",
    "\n",
    "tai = np.matmul(np.matmul(pi,a),p)\n",
    "print(tai)"
   ]
  },
  {
   "cell_type": "code",
   "execution_count": 38,
   "id": "234fd9ee",
   "metadata": {},
   "outputs": [
    {
     "name": "stdout",
     "output_type": "stream",
     "text": [
      "[0.66666667 1.33333333]\n"
     ]
    }
   ],
   "source": [
    "import numpy as np\n",
    "\n",
    "s = np.array([[2/3,1/6],\n",
    "             [1/3,5/6]])\n",
    "\n",
    "p = np.array([1,1])\n",
    "\n",
    "for i in range(1000):\n",
    "    p = np.matmul(s,p)\n",
    "\n",
    "print(p)"
   ]
  },
  {
   "cell_type": "code",
   "execution_count": 36,
   "id": "32eb8e25",
   "metadata": {},
   "outputs": [
    {
     "data": {
      "text/plain": [
       "0.6669921875"
      ]
     },
     "execution_count": 36,
     "metadata": {},
     "output_type": "execute_result"
    }
   ],
   "source": []
  },
  {
   "cell_type": "code",
   "execution_count": 9,
   "id": "d77b05c3",
   "metadata": {},
   "outputs": [
    {
     "data": {
      "text/plain": [
       "65"
      ]
     },
     "execution_count": 9,
     "metadata": {},
     "output_type": "execute_result"
    }
   ],
   "source": [
    "ord(\"A\")"
   ]
  },
  {
   "cell_type": "code",
   "execution_count": 47,
   "id": "c999d684",
   "metadata": {},
   "outputs": [
    {
     "name": "stdout",
     "output_type": "stream",
     "text": [
      " 3\n",
      " 1 5 2\n",
      "6\n",
      "[[8, 8, 8, 8, 8, 8, 8, 8, 8], [8, 7, 7, 7, 7, 7, 7, 7, 7], [8, 7, 7, 7, 7, 3, 2, 2, 2], [8, 7, 6, 5, 5, 3, 2, 1, 0]]\n"
     ]
    }
   ],
   "source": [
    "n,m = map(int,input().split())\n",
    "lis = [[] for _ in range(n)]"
   ]
  },
  {
   "cell_type": "code",
   "execution_count": 36,
   "id": "904f1f8f",
   "metadata": {},
   "outputs": [
    {
     "name": "stdout",
     "output_type": "stream",
     "text": [
      " 9\n",
      " 3 14 15 9 26 5 35 89 79\n",
      "168\n"
     ]
    }
   ],
   "source": [
    "n = int(input())\n",
    "t = list(map(int,input().split()))\n",
    "su = sum(t)\n",
    "\n",
    "\n",
    "\n"
   ]
  },
  {
   "cell_type": "code",
   "execution_count": 19,
   "id": "11ccd9a3",
   "metadata": {},
   "outputs": [
    {
     "name": "stdout",
     "output_type": "stream",
     "text": [
      "7\n"
     ]
    }
   ],
   "source": []
  },
  {
   "cell_type": "code",
   "execution_count": null,
   "id": "ee4bcc6b",
   "metadata": {},
   "outputs": [],
   "source": [
    "a = 0.34562\n",
    "b = 12.45631\n"
   ]
  }
 ],
 "metadata": {
  "kernelspec": {
   "display_name": "Python 3 (ipykernel)",
   "language": "python",
   "name": "python3"
  },
  "language_info": {
   "codemirror_mode": {
    "name": "ipython",
    "version": 3
   },
   "file_extension": ".py",
   "mimetype": "text/x-python",
   "name": "python",
   "nbconvert_exporter": "python",
   "pygments_lexer": "ipython3",
   "version": "3.8.8"
  },
  "toc-autonumbering": false,
  "toc-showcode": false,
  "toc-showmarkdowntxt": false
 },
 "nbformat": 4,
 "nbformat_minor": 5
}
