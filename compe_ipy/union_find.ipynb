{
 "cells": [
  {
   "cell_type": "code",
   "execution_count": 7,
   "id": "a3b5655d",
   "metadata": {},
   "outputs": [
    {
     "name": "stdout",
     "output_type": "stream",
     "text": [
      "[4, 4, 2, 4, 4]\n"
     ]
    }
   ],
   "source": [
    "#ただし　つなぎ漏れなくすため最後に１周させてるのがまずい\n",
    "class UnionFind():\n",
    "    def __init__(self, n=1):\n",
    "        self.par = [i for i in range(n)]\n",
    "        self.rank = [0 for _ in range(n)]\n",
    "\n",
    "    def find(self, x):\n",
    "        if self.par[x] == x:\n",
    "            return x\n",
    "        else:\n",
    "            self.par[x] = self.find(self.par[x])\n",
    "            return self.par[x]\n",
    "\n",
    "    def union(self, x, y):\n",
    "        x = self.find(x)\n",
    "        y = self.find(y)\n",
    "        if x != y:\n",
    "            if self.rank[x] < self.rank[y]:\n",
    "                x, y = y, x\n",
    "            if self.rank[x] == self.rank[y]:\n",
    "                self.rank[x] += 1\n",
    "            self.par[y] = x\n",
    "\n",
    "    def is_same(self, x, y):\n",
    "        return self.find(x) == self.find(y)\n",
    "\n",
    "n,m=5, 3 #map(int, input().split()) n:ノードの数, m:パスの数\n",
    "uf1=UnionFind(n)\n",
    "for i,j in [[5, 2],[5, 4],[4, 1]]:  # range(m):\n",
    "    a,b=i,j #map(int, input().split()) #a,b:つながっている辺\n",
    "    uf1.union(a-1,b-1)\n",
    "\n",
    "for i in range(n):uf1.find(i)  # 一周findすることによって接続漏れをなくす。\n",
    "print(uf1.par) #[4, 4, 2, 4, 4]　リストの中の数字は親　つまりこの場合3のみ親が違う"
   ]
  },
  {
   "cell_type": "code",
   "execution_count": null,
   "id": "211fd7e8",
   "metadata": {},
   "outputs": [],
   "source": []
  }
 ],
 "metadata": {
  "kernelspec": {
   "display_name": "Python 3 (ipykernel)",
   "language": "python",
   "name": "python3"
  },
  "language_info": {
   "codemirror_mode": {
    "name": "ipython",
    "version": 3
   },
   "file_extension": ".py",
   "mimetype": "text/x-python",
   "name": "python",
   "nbconvert_exporter": "python",
   "pygments_lexer": "ipython3",
   "version": "3.8.8"
  }
 },
 "nbformat": 4,
 "nbformat_minor": 5
}
